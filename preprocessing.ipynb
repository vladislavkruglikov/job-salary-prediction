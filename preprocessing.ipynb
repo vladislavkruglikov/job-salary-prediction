{
 "cells": [
  {
   "cell_type": "code",
   "execution_count": 1,
   "id": "2f3ad1e2-e088-4221-8c2a-3e049a6acb04",
   "metadata": {
    "id": "2f3ad1e2-e088-4221-8c2a-3e049a6acb04"
   },
   "outputs": [],
   "source": [
    "import pandas as pd\n",
    "import numpy  as np\n",
    "\n",
    "import matplotlib.pyplot as plt\n",
    "\n",
    "import torch\n",
    "import torch.nn as nn"
   ]
  },
  {
   "cell_type": "code",
   "execution_count": 2,
   "id": "bfdb4a95-b253-4d0d-9641-a20c4be839e1",
   "metadata": {
    "colab": {
     "base_uri": "https://localhost:8080/",
     "height": 364
    },
    "id": "bfdb4a95-b253-4d0d-9641-a20c4be839e1",
    "outputId": "95849954-eddb-4d71-faa7-751d5ba73b19"
   },
   "outputs": [
    {
     "data": {
      "text/html": [
       "<div>\n",
       "<style scoped>\n",
       "    .dataframe tbody tr th:only-of-type {\n",
       "        vertical-align: middle;\n",
       "    }\n",
       "\n",
       "    .dataframe tbody tr th {\n",
       "        vertical-align: top;\n",
       "    }\n",
       "\n",
       "    .dataframe thead th {\n",
       "        text-align: right;\n",
       "    }\n",
       "</style>\n",
       "<table border=\"1\" class=\"dataframe\">\n",
       "  <thead>\n",
       "    <tr style=\"text-align: right;\">\n",
       "      <th></th>\n",
       "      <th>Id</th>\n",
       "      <th>Title</th>\n",
       "      <th>FullDescription</th>\n",
       "      <th>LocationRaw</th>\n",
       "      <th>LocationNormalized</th>\n",
       "      <th>ContractType</th>\n",
       "      <th>ContractTime</th>\n",
       "      <th>Company</th>\n",
       "      <th>Category</th>\n",
       "      <th>SalaryRaw</th>\n",
       "      <th>SalaryNormalized</th>\n",
       "      <th>SourceName</th>\n",
       "    </tr>\n",
       "  </thead>\n",
       "  <tbody>\n",
       "    <tr>\n",
       "      <th>0</th>\n",
       "      <td>12612628</td>\n",
       "      <td>Engineering Systems Analyst</td>\n",
       "      <td>Engineering Systems Analyst Dorking Surrey Sal...</td>\n",
       "      <td>Dorking, Surrey, Surrey</td>\n",
       "      <td>Dorking</td>\n",
       "      <td>NaN</td>\n",
       "      <td>permanent</td>\n",
       "      <td>Gregory Martin International</td>\n",
       "      <td>Engineering Jobs</td>\n",
       "      <td>20000 - 30000/annum 20-30K</td>\n",
       "      <td>25000</td>\n",
       "      <td>cv-library.co.uk</td>\n",
       "    </tr>\n",
       "    <tr>\n",
       "      <th>1</th>\n",
       "      <td>12612830</td>\n",
       "      <td>Stress Engineer Glasgow</td>\n",
       "      <td>Stress Engineer Glasgow Salary **** to **** We...</td>\n",
       "      <td>Glasgow, Scotland, Scotland</td>\n",
       "      <td>Glasgow</td>\n",
       "      <td>NaN</td>\n",
       "      <td>permanent</td>\n",
       "      <td>Gregory Martin International</td>\n",
       "      <td>Engineering Jobs</td>\n",
       "      <td>25000 - 35000/annum 25-35K</td>\n",
       "      <td>30000</td>\n",
       "      <td>cv-library.co.uk</td>\n",
       "    </tr>\n",
       "    <tr>\n",
       "      <th>2</th>\n",
       "      <td>12612844</td>\n",
       "      <td>Modelling and simulation analyst</td>\n",
       "      <td>Mathematical Modeller / Simulation Analyst / O...</td>\n",
       "      <td>Hampshire, South East, South East</td>\n",
       "      <td>Hampshire</td>\n",
       "      <td>NaN</td>\n",
       "      <td>permanent</td>\n",
       "      <td>Gregory Martin International</td>\n",
       "      <td>Engineering Jobs</td>\n",
       "      <td>20000 - 40000/annum 20-40K</td>\n",
       "      <td>30000</td>\n",
       "      <td>cv-library.co.uk</td>\n",
       "    </tr>\n",
       "    <tr>\n",
       "      <th>3</th>\n",
       "      <td>12613049</td>\n",
       "      <td>Engineering Systems Analyst / Mathematical Mod...</td>\n",
       "      <td>Engineering Systems Analyst / Mathematical Mod...</td>\n",
       "      <td>Surrey, South East, South East</td>\n",
       "      <td>Surrey</td>\n",
       "      <td>NaN</td>\n",
       "      <td>permanent</td>\n",
       "      <td>Gregory Martin International</td>\n",
       "      <td>Engineering Jobs</td>\n",
       "      <td>25000 - 30000/annum 25K-30K negotiable</td>\n",
       "      <td>27500</td>\n",
       "      <td>cv-library.co.uk</td>\n",
       "    </tr>\n",
       "    <tr>\n",
       "      <th>4</th>\n",
       "      <td>12613647</td>\n",
       "      <td>Pioneer, Miser Engineering Systems Analyst</td>\n",
       "      <td>Pioneer, Miser  Engineering Systems Analyst Do...</td>\n",
       "      <td>Surrey, South East, South East</td>\n",
       "      <td>Surrey</td>\n",
       "      <td>NaN</td>\n",
       "      <td>permanent</td>\n",
       "      <td>Gregory Martin International</td>\n",
       "      <td>Engineering Jobs</td>\n",
       "      <td>20000 - 30000/annum 20-30K</td>\n",
       "      <td>25000</td>\n",
       "      <td>cv-library.co.uk</td>\n",
       "    </tr>\n",
       "    <tr>\n",
       "      <th>...</th>\n",
       "      <td>...</td>\n",
       "      <td>...</td>\n",
       "      <td>...</td>\n",
       "      <td>...</td>\n",
       "      <td>...</td>\n",
       "      <td>...</td>\n",
       "      <td>...</td>\n",
       "      <td>...</td>\n",
       "      <td>...</td>\n",
       "      <td>...</td>\n",
       "      <td>...</td>\n",
       "      <td>...</td>\n",
       "    </tr>\n",
       "    <tr>\n",
       "      <th>244763</th>\n",
       "      <td>72705211</td>\n",
       "      <td>TEACHER OF SCIENCE</td>\n",
       "      <td>Position: Qualified Teacher Subject/Specialism...</td>\n",
       "      <td>Swindon</td>\n",
       "      <td>Swindon</td>\n",
       "      <td>NaN</td>\n",
       "      <td>contract</td>\n",
       "      <td>NaN</td>\n",
       "      <td>Teaching Jobs</td>\n",
       "      <td>450 - 500 per week</td>\n",
       "      <td>22800</td>\n",
       "      <td>hays.co.uk</td>\n",
       "    </tr>\n",
       "    <tr>\n",
       "      <th>244764</th>\n",
       "      <td>72705212</td>\n",
       "      <td>TEACHER OF BUSINESS STUDIES AND ICT</td>\n",
       "      <td>Position: Qualified Teacher or NQT Subject/Spe...</td>\n",
       "      <td>Swindon</td>\n",
       "      <td>Swindon</td>\n",
       "      <td>NaN</td>\n",
       "      <td>contract</td>\n",
       "      <td>NaN</td>\n",
       "      <td>Teaching Jobs</td>\n",
       "      <td>450 - 500 per week</td>\n",
       "      <td>22800</td>\n",
       "      <td>hays.co.uk</td>\n",
       "    </tr>\n",
       "    <tr>\n",
       "      <th>244765</th>\n",
       "      <td>72705213</td>\n",
       "      <td>ENGLISH TEACHER</td>\n",
       "      <td>Position: Qualified Teacher Subject/Specialism...</td>\n",
       "      <td>Swindon</td>\n",
       "      <td>Swindon</td>\n",
       "      <td>NaN</td>\n",
       "      <td>contract</td>\n",
       "      <td>NaN</td>\n",
       "      <td>Teaching Jobs</td>\n",
       "      <td>450 - 500 per week</td>\n",
       "      <td>22800</td>\n",
       "      <td>hays.co.uk</td>\n",
       "    </tr>\n",
       "    <tr>\n",
       "      <th>244766</th>\n",
       "      <td>72705216</td>\n",
       "      <td>SUPPLY TEACHERS</td>\n",
       "      <td>Position: Qualified Teacher Subject/Specialism...</td>\n",
       "      <td>Wiltshire</td>\n",
       "      <td>Wiltshire</td>\n",
       "      <td>NaN</td>\n",
       "      <td>contract</td>\n",
       "      <td>NaN</td>\n",
       "      <td>Teaching Jobs</td>\n",
       "      <td>450 to 500 per week</td>\n",
       "      <td>22800</td>\n",
       "      <td>hays.co.uk</td>\n",
       "    </tr>\n",
       "    <tr>\n",
       "      <th>244767</th>\n",
       "      <td>72705235</td>\n",
       "      <td>Accountant</td>\n",
       "      <td>This entrepreneurial and growing private equit...</td>\n",
       "      <td>Hitchin</td>\n",
       "      <td>Hitchin</td>\n",
       "      <td>NaN</td>\n",
       "      <td>permanent</td>\n",
       "      <td>NaN</td>\n",
       "      <td>Teaching Jobs</td>\n",
       "      <td>40-45,000</td>\n",
       "      <td>42500</td>\n",
       "      <td>hays.co.uk</td>\n",
       "    </tr>\n",
       "  </tbody>\n",
       "</table>\n",
       "<p>244768 rows × 12 columns</p>\n",
       "</div>"
      ],
      "text/plain": [
       "              Id                                              Title  \\\n",
       "0       12612628                        Engineering Systems Analyst   \n",
       "1       12612830                            Stress Engineer Glasgow   \n",
       "2       12612844                   Modelling and simulation analyst   \n",
       "3       12613049  Engineering Systems Analyst / Mathematical Mod...   \n",
       "4       12613647         Pioneer, Miser Engineering Systems Analyst   \n",
       "...          ...                                                ...   \n",
       "244763  72705211                                 TEACHER OF SCIENCE   \n",
       "244764  72705212                TEACHER OF BUSINESS STUDIES AND ICT   \n",
       "244765  72705213                                    ENGLISH TEACHER   \n",
       "244766  72705216                                    SUPPLY TEACHERS   \n",
       "244767  72705235                                         Accountant   \n",
       "\n",
       "                                          FullDescription  \\\n",
       "0       Engineering Systems Analyst Dorking Surrey Sal...   \n",
       "1       Stress Engineer Glasgow Salary **** to **** We...   \n",
       "2       Mathematical Modeller / Simulation Analyst / O...   \n",
       "3       Engineering Systems Analyst / Mathematical Mod...   \n",
       "4       Pioneer, Miser  Engineering Systems Analyst Do...   \n",
       "...                                                   ...   \n",
       "244763  Position: Qualified Teacher Subject/Specialism...   \n",
       "244764  Position: Qualified Teacher or NQT Subject/Spe...   \n",
       "244765  Position: Qualified Teacher Subject/Specialism...   \n",
       "244766  Position: Qualified Teacher Subject/Specialism...   \n",
       "244767  This entrepreneurial and growing private equit...   \n",
       "\n",
       "                              LocationRaw LocationNormalized ContractType  \\\n",
       "0                 Dorking, Surrey, Surrey            Dorking          NaN   \n",
       "1             Glasgow, Scotland, Scotland            Glasgow          NaN   \n",
       "2       Hampshire, South East, South East          Hampshire          NaN   \n",
       "3          Surrey, South East, South East             Surrey          NaN   \n",
       "4          Surrey, South East, South East             Surrey          NaN   \n",
       "...                                   ...                ...          ...   \n",
       "244763                            Swindon            Swindon          NaN   \n",
       "244764                            Swindon            Swindon          NaN   \n",
       "244765                            Swindon            Swindon          NaN   \n",
       "244766                          Wiltshire          Wiltshire          NaN   \n",
       "244767                            Hitchin            Hitchin          NaN   \n",
       "\n",
       "       ContractTime                       Company          Category  \\\n",
       "0         permanent  Gregory Martin International  Engineering Jobs   \n",
       "1         permanent  Gregory Martin International  Engineering Jobs   \n",
       "2         permanent  Gregory Martin International  Engineering Jobs   \n",
       "3         permanent  Gregory Martin International  Engineering Jobs   \n",
       "4         permanent  Gregory Martin International  Engineering Jobs   \n",
       "...             ...                           ...               ...   \n",
       "244763     contract                           NaN     Teaching Jobs   \n",
       "244764     contract                           NaN     Teaching Jobs   \n",
       "244765     contract                           NaN     Teaching Jobs   \n",
       "244766     contract                           NaN     Teaching Jobs   \n",
       "244767    permanent                           NaN     Teaching Jobs   \n",
       "\n",
       "                                     SalaryRaw  SalaryNormalized  \\\n",
       "0                   20000 - 30000/annum 20-30K             25000   \n",
       "1                   25000 - 35000/annum 25-35K             30000   \n",
       "2                   20000 - 40000/annum 20-40K             30000   \n",
       "3       25000 - 30000/annum 25K-30K negotiable             27500   \n",
       "4                   20000 - 30000/annum 20-30K             25000   \n",
       "...                                        ...               ...   \n",
       "244763                      450 - 500 per week             22800   \n",
       "244764                      450 - 500 per week             22800   \n",
       "244765                      450 - 500 per week             22800   \n",
       "244766                     450 to 500 per week             22800   \n",
       "244767                               40-45,000             42500   \n",
       "\n",
       "              SourceName  \n",
       "0       cv-library.co.uk  \n",
       "1       cv-library.co.uk  \n",
       "2       cv-library.co.uk  \n",
       "3       cv-library.co.uk  \n",
       "4       cv-library.co.uk  \n",
       "...                  ...  \n",
       "244763        hays.co.uk  \n",
       "244764        hays.co.uk  \n",
       "244765        hays.co.uk  \n",
       "244766        hays.co.uk  \n",
       "244767        hays.co.uk  \n",
       "\n",
       "[244768 rows x 12 columns]"
      ]
     },
     "execution_count": 2,
     "metadata": {},
     "output_type": "execute_result"
    }
   ],
   "source": [
    "data = pd.read_csv('train.csv')\n",
    "\n",
    "data"
   ]
  },
  {
   "cell_type": "code",
   "execution_count": 3,
   "id": "6414cc15-9a42-441e-a26c-7487e16f1c7f",
   "metadata": {
    "id": "6414cc15-9a42-441e-a26c-7487e16f1c7f"
   },
   "outputs": [
    {
     "data": {
      "image/png": "[encoded data removed]",
      "text/plain": [
       "<Figure size 576x288 with 2 Axes>"
      ]
     },
     "metadata": {
      "needs_background": "light"
     },
     "output_type": "display_data"
    }
   ],
   "source": [
    "data['Log1pSalary'] = np.log1p(data['SalaryNormalized']).astype('float32')\n",
    "\n",
    "plt.figure(figsize=[8, 4])\n",
    "plt.subplot(1, 2, 1)\n",
    "plt.hist(data[\"SalaryNormalized\"], bins=20);\n",
    "\n",
    "plt.subplot(1, 2, 2)\n",
    "plt.hist(data['Log1pSalary'], bins=20);"
   ]
  },
  {
   "cell_type": "code",
   "execution_count": 4,
   "id": "2615f360-3cc0-4ce8-99b6-54cab7335558",
   "metadata": {
    "id": "2615f360-3cc0-4ce8-99b6-54cab7335558"
   },
   "outputs": [
    {
     "data": {
      "text/html": [
       "<div>\n",
       "<style scoped>\n",
       "    .dataframe tbody tr th:only-of-type {\n",
       "        vertical-align: middle;\n",
       "    }\n",
       "\n",
       "    .dataframe tbody tr th {\n",
       "        vertical-align: top;\n",
       "    }\n",
       "\n",
       "    .dataframe thead th {\n",
       "        text-align: right;\n",
       "    }\n",
       "</style>\n",
       "<table border=\"1\" class=\"dataframe\">\n",
       "  <thead>\n",
       "    <tr style=\"text-align: right;\">\n",
       "      <th></th>\n",
       "      <th>Id</th>\n",
       "      <th>Title</th>\n",
       "      <th>FullDescription</th>\n",
       "      <th>LocationRaw</th>\n",
       "      <th>LocationNormalized</th>\n",
       "      <th>ContractType</th>\n",
       "      <th>ContractTime</th>\n",
       "      <th>Company</th>\n",
       "      <th>Category</th>\n",
       "      <th>SalaryRaw</th>\n",
       "      <th>SalaryNormalized</th>\n",
       "      <th>SourceName</th>\n",
       "      <th>Log1pSalary</th>\n",
       "    </tr>\n",
       "  </thead>\n",
       "  <tbody>\n",
       "    <tr>\n",
       "      <th>0</th>\n",
       "      <td>12612628</td>\n",
       "      <td>Engineering Systems Analyst</td>\n",
       "      <td>Engineering Systems Analyst Dorking Surrey Sal...</td>\n",
       "      <td>Dorking, Surrey, Surrey</td>\n",
       "      <td>Dorking</td>\n",
       "      <td>NaN</td>\n",
       "      <td>permanent</td>\n",
       "      <td>Gregory Martin International</td>\n",
       "      <td>Engineering Jobs</td>\n",
       "      <td>20000 - 30000/annum 20-30K</td>\n",
       "      <td>25000</td>\n",
       "      <td>cv-library.co.uk</td>\n",
       "      <td>10.126671</td>\n",
       "    </tr>\n",
       "    <tr>\n",
       "      <th>1</th>\n",
       "      <td>12612830</td>\n",
       "      <td>Stress Engineer Glasgow</td>\n",
       "      <td>Stress Engineer Glasgow Salary **** to **** We...</td>\n",
       "      <td>Glasgow, Scotland, Scotland</td>\n",
       "      <td>Glasgow</td>\n",
       "      <td>NaN</td>\n",
       "      <td>permanent</td>\n",
       "      <td>Gregory Martin International</td>\n",
       "      <td>Engineering Jobs</td>\n",
       "      <td>25000 - 35000/annum 25-35K</td>\n",
       "      <td>30000</td>\n",
       "      <td>cv-library.co.uk</td>\n",
       "      <td>10.308986</td>\n",
       "    </tr>\n",
       "    <tr>\n",
       "      <th>2</th>\n",
       "      <td>12612844</td>\n",
       "      <td>Modelling and simulation analyst</td>\n",
       "      <td>Mathematical Modeller / Simulation Analyst / O...</td>\n",
       "      <td>Hampshire, South East, South East</td>\n",
       "      <td>Hampshire</td>\n",
       "      <td>NaN</td>\n",
       "      <td>permanent</td>\n",
       "      <td>Gregory Martin International</td>\n",
       "      <td>Engineering Jobs</td>\n",
       "      <td>20000 - 40000/annum 20-40K</td>\n",
       "      <td>30000</td>\n",
       "      <td>cv-library.co.uk</td>\n",
       "      <td>10.308986</td>\n",
       "    </tr>\n",
       "  </tbody>\n",
       "</table>\n",
       "</div>"
      ],
      "text/plain": [
       "         Id                             Title  \\\n",
       "0  12612628       Engineering Systems Analyst   \n",
       "1  12612830           Stress Engineer Glasgow   \n",
       "2  12612844  Modelling and simulation analyst   \n",
       "\n",
       "                                     FullDescription  \\\n",
       "0  Engineering Systems Analyst Dorking Surrey Sal...   \n",
       "1  Stress Engineer Glasgow Salary **** to **** We...   \n",
       "2  Mathematical Modeller / Simulation Analyst / O...   \n",
       "\n",
       "                         LocationRaw LocationNormalized ContractType  \\\n",
       "0            Dorking, Surrey, Surrey            Dorking          NaN   \n",
       "1        Glasgow, Scotland, Scotland            Glasgow          NaN   \n",
       "2  Hampshire, South East, South East          Hampshire          NaN   \n",
       "\n",
       "  ContractTime                       Company          Category  \\\n",
       "0    permanent  Gregory Martin International  Engineering Jobs   \n",
       "1    permanent  Gregory Martin International  Engineering Jobs   \n",
       "2    permanent  Gregory Martin International  Engineering Jobs   \n",
       "\n",
       "                    SalaryRaw  SalaryNormalized        SourceName  Log1pSalary  \n",
       "0  20000 - 30000/annum 20-30K             25000  cv-library.co.uk    10.126671  \n",
       "1  25000 - 35000/annum 25-35K             30000  cv-library.co.uk    10.308986  \n",
       "2  20000 - 40000/annum 20-40K             30000  cv-library.co.uk    10.308986  "
      ]
     },
     "execution_count": 4,
     "metadata": {},
     "output_type": "execute_result"
    }
   ],
   "source": [
    "text_columns = [\"Title\", \"FullDescription\"]\n",
    "\n",
    "categorical_columns = [\"Category\", \"Company\", \"LocationNormalized\", \"ContractType\", \"ContractTime\"]\n",
    "\n",
    "TARGET_COLUMN = \"Log1pSalary\"\n",
    "\n",
    "data[categorical_columns] = data[categorical_columns].fillna('NaN')\n",
    "\n",
    "data.head(3)"
   ]
  },
  {
   "cell_type": "code",
   "execution_count": 5,
   "id": "625f682e-861d-4380-aae9-d14ad7660691",
   "metadata": {
    "id": "625f682e-861d-4380-aae9-d14ad7660691"
   },
   "outputs": [],
   "source": [
    "import nltk\n",
    "\n",
    "from nltk import WordPunctTokenizer\n",
    "\n",
    "tokenizer = nltk.tokenize.WordPunctTokenizer()\n",
    "\n",
    "# Will have Title as string of space separated tokens \n",
    "data['Title'] = data['Title'].apply(lambda x: \" \".join((tokenizer.tokenize(str(x).lower()))))\n",
    "# Will have FullDescription as string of space separated tokens \n",
    "data['FullDescription'] = data['FullDescription'].apply(lambda x: \" \".join((tokenizer.tokenize(str(x).lower()))))"
   ]
  },
  {
   "cell_type": "code",
   "execution_count": 6,
   "id": "26080806-09c7-4020-a5e8-40ee7e677a5e",
   "metadata": {
    "id": "26080806-09c7-4020-a5e8-40ee7e677a5e"
   },
   "outputs": [],
   "source": [
    "from collections import defaultdict\n",
    "\n",
    "tokens_count = defaultdict(lambda: 0)\n",
    "\n",
    "for text in data['Title']:\n",
    "    for word in text.split():\n",
    "        tokens_count[word] += 1\n",
    "\n",
    "for text in data['FullDescription']:\n",
    "    for word in text.split():\n",
    "        tokens_count[word] += 1"
   ]
  },
  {
   "cell_type": "code",
   "execution_count": 7,
   "id": "67664681-4da2-4b2a-af2c-d8af51d5a477",
   "metadata": {
    "id": "67664681-4da2-4b2a-af2c-d8af51d5a477"
   },
   "outputs": [
    {
     "name": "stdout",
     "output_type": "stream",
     "text": [
      "202704 unique tokens\n"
     ]
    }
   ],
   "source": [
    "print(f'{len(tokens_count)} unique tokens')"
   ]
  },
  {
   "cell_type": "code",
   "execution_count": 8,
   "id": "b3fd1e57-b0e3-432b-91a8-e3bd0c59d966",
   "metadata": {
    "id": "b3fd1e57-b0e3-432b-91a8-e3bd0c59d966"
   },
   "outputs": [
    {
     "data": {
      "text/plain": [
       "['UNK',\n",
       " 'PAD',\n",
       " 'engineering',\n",
       " 'systems',\n",
       " 'analyst',\n",
       " 'stress',\n",
       " 'engineer',\n",
       " 'glasgow',\n",
       " 'modelling',\n",
       " 'and']"
      ]
     },
     "execution_count": 8,
     "metadata": {},
     "output_type": "execute_result"
    }
   ],
   "source": [
    "min_count = 10\n",
    "tokens    = [token for token, count in tokens_count.items() if count > min_count]\n",
    "\n",
    "# Add special tokens for unknown and padding\n",
    "UNK, PAD  = \"UNK\", \"PAD\"\n",
    "tokens    = [UNK, PAD] + tokens\n",
    "\n",
    "tokens[:10]"
   ]
  },
  {
   "cell_type": "code",
   "execution_count": 9,
   "id": "0bb10318-788a-4dbb-8fec-640d15803c19",
   "metadata": {
    "id": "0bb10318-788a-4dbb-8fec-640d15803c19"
   },
   "outputs": [
    {
     "name": "stdout",
     "output_type": "stream",
     "text": [
      "Vocabulary size is 32456\n"
     ]
    }
   ],
   "source": [
    "print(\"Vocabulary size is\", len(tokens))"
   ]
  },
  {
   "cell_type": "code",
   "execution_count": 10,
   "id": "0c43374b-58a7-44d7-9259-fa6be5c772a0",
   "metadata": {
    "id": "0c43374b-58a7-44d7-9259-fa6be5c772a0"
   },
   "outputs": [],
   "source": [
    "# Toke index\n",
    "token_to_idx = {token: tokens.index(token) for token in tokens}"
   ]
  },
  {
   "cell_type": "code",
   "execution_count": 11,
   "id": "899eca0b-79ff-434f-8db9-4c5bc4ff6d7c",
   "metadata": {
    "id": "899eca0b-79ff-434f-8db9-4c5bc4ff6d7c"
   },
   "outputs": [],
   "source": [
    "UNK_IX, PAD_IX = map(token_to_idx.get, [UNK, PAD])\n",
    "\n",
    "\n",
    "def as_matrix(sequences):\n",
    "    sequences = list(map(tokenizer.tokenize, sequences))\n",
    "    \n",
    "    max_len = max(map(len, sequences))\n",
    "    \n",
    "    matrix = np.full((len(sequences), max_len), np.int32(PAD_IX))\n",
    "    \n",
    "    for i, seq in enumerate(sequences):\n",
    "        row_idxs = [token_to_idx.get(token, UNK_IX) for token in seq]\n",
    "        matrix[i, :len(row_idxs)] = row_idxs\n",
    "    \n",
    "    return matrix"
   ]
  },
  {
   "cell_type": "code",
   "execution_count": 12,
   "id": "83d57e62-8279-4248-a7ca-fe9e85899a9c",
   "metadata": {
    "id": "83d57e62-8279-4248-a7ca-fe9e85899a9c"
   },
   "outputs": [
    {
     "data": {
      "text/plain": [
       "array([[   0,   15,    0, 2548, 4544],\n",
       "       [   0, 1918,  323, 1744,    1]], dtype=int32)"
      ]
     },
     "execution_count": 12,
     "metadata": {},
     "output_type": "execute_result"
    }
   ],
   "source": [
    "as_matrix(['Hi, I am cat',\n",
    "           'I like data science'])"
   ]
  },
  {
   "cell_type": "code",
   "execution_count": 13,
   "id": "ba9b15c7-e2f2-4e66-b4bb-2fd7e4327a41",
   "metadata": {
    "id": "ba9b15c7-e2f2-4e66-b4bb-2fd7e4327a41"
   },
   "outputs": [
    {
     "data": {
      "text/plain": [
       "0         Gregory Martin International\n",
       "1         Gregory Martin International\n",
       "2         Gregory Martin International\n",
       "3         Gregory Martin International\n",
       "4         Gregory Martin International\n",
       "                      ...             \n",
       "244763                             NaN\n",
       "244764                             NaN\n",
       "244765                             NaN\n",
       "244766                             NaN\n",
       "244767                             NaN\n",
       "Name: Company, Length: 244768, dtype: object"
      ]
     },
     "execution_count": 13,
     "metadata": {},
     "output_type": "execute_result"
    }
   ],
   "source": [
    "from collections import Counter\n",
    "\n",
    "k = 1000\n",
    "\n",
    "top_k_companies_names, top_k_companies_counts = zip(*Counter(data['Company']).most_common(k))\n",
    "\n",
    "unique_top_k_companies_names = set(top_k_companies_names)\n",
    "\n",
    "data['Company'] = data['Company'].apply(lambda comp: comp if comp in unique_top_k_companies_names else \"Other\")\n",
    "\n",
    "data['Company']"
   ]
  },
  {
   "cell_type": "code",
   "execution_count": 14,
   "id": "9c26a80d-cafd-4436-a7d4-ed7fd3a8fe90",
   "metadata": {
    "id": "9c26a80d-cafd-4436-a7d4-ed7fd3a8fe90"
   },
   "outputs": [
    {
     "data": {
      "text/plain": [
       "DictVectorizer(dtype=<class 'numpy.float32'>, sparse=False)"
      ]
     },
     "execution_count": 14,
     "metadata": {},
     "output_type": "execute_result"
    }
   ],
   "source": [
    "from sklearn.feature_extraction import DictVectorizer\n",
    "\n",
    "categorical_vectorizer = DictVectorizer(dtype=np.float32, sparse=False)\n",
    "\n",
    "categorical_vectorizer.fit(data[categorical_columns].apply(dict, axis=1))"
   ]
  },
  {
   "cell_type": "code",
   "execution_count": 15,
   "id": "4c517bcf-8f94-41be-809c-f5cfe9b5bbb0",
   "metadata": {
    "id": "4c517bcf-8f94-41be-809c-f5cfe9b5bbb0"
   },
   "outputs": [
    {
     "name": "stdout",
     "output_type": "stream",
     "text": [
      "Train size =  195814\n",
      "Validation size =  48954\n"
     ]
    }
   ],
   "source": [
    "from sklearn.model_selection import train_test_split\n",
    "\n",
    "data_train, data_val = train_test_split(data, test_size=0.2, random_state=42)\n",
    "data_train.index     = range(len(data_train))\n",
    "data_val.index       = range(len(data_val))\n",
    "\n",
    "print(\"Train size = \", len(data_train))\n",
    "print(\"Validation size = \", len(data_val))"
   ]
  },
  {
   "cell_type": "code",
   "execution_count": 16,
   "id": "7e037b99-fd9d-49a1-b314-8de8a9f97bda",
   "metadata": {
    "id": "7e037b99-fd9d-49a1-b314-8de8a9f97bda"
   },
   "outputs": [],
   "source": [
    "def make_batch(data, batch_size, title_word_dropout=0, descr_word_dropout=0):\n",
    "    batch = {}\n",
    "    \n",
    "    batch[\"FullDescription\"] = as_matrix(data[\"FullDescription\"].values)\n",
    "    batch[\"Title\"] = as_matrix(data[\"Title\"].values)\n",
    "    \n",
    "    batch['Categorical'] = categorical_vectorizer.transform(data[categorical_columns].apply(dict, axis=1))\n",
    "    \n",
    "    if title_word_dropout != 0:\n",
    "        batch[\"Title\"] = apply_word_dropout(batch[\"Title\"], keep_prop= 1. - title_word_dropout)\n",
    "    if descr_word_dropout !=0:\n",
    "        batch[\"FullDescription\"] = apply_word_dropout(batch[\"FullDescription\"], keep_prop= 1. - descr_word_dropout)\n",
    "    if TARGET_COLUMN in data.columns:\n",
    "        batch[TARGET_COLUMN] = data[TARGET_COLUMN].values\n",
    "\n",
    "    return to_tensors(batch)\n",
    "\n",
    "\n",
    "\n",
    "def apply_word_dropout(matrix, keep_prop, replace_with=UNK_IX, pad_ix=PAD_IX,):\n",
    "    \"\"\"\n",
    "    matrix: numpy array, needed to use matrix != pad_ix mask condition\n",
    "    because we dont want to set UNK to the PAD\n",
    "    \"\"\"\n",
    "    dropout_mask = np.random.choice(2, np.shape(matrix), p=[keep_prop, 1 - keep_prop])\n",
    "    dropout_mask &= matrix != pad_ix\n",
    "    return np.choose(dropout_mask, [matrix, np.full_like(matrix, replace_with)])\n",
    "\n",
    "\n",
    "\n",
    "def to_tensors(batch):\n",
    "    batch_tensors = dict()\n",
    "    for key, arr in batch.items():\n",
    "        batch_tensors[key] = torch.tensor(arr)\n",
    "    return batch_tensors"
   ]
  },
  {
   "cell_type": "code",
   "execution_count": 17,
   "id": "867cd704-98ad-4259-bcfc-6e94563466d5",
   "metadata": {
    "id": "867cd704-98ad-4259-bcfc-6e94563466d5"
   },
   "outputs": [],
   "source": [
    "def iterate_minibatches(data, batch_size=256, shuffle=True, device=torch.device('cpu'), **kwargs):\n",
    "    indices = np.arange(len(data))\n",
    "    if shuffle:\n",
    "        indices = np.random.permutation(indices)\n",
    "\n",
    "    for start in range(0, len(indices), batch_size):\n",
    "        batch = make_batch(data.iloc[indices[start : start + batch_size]], batch_size=batch_size, **kwargs)\n",
    "        yield batch"
   ]
  },
  {
   "cell_type": "code",
   "execution_count": 18,
   "id": "f4710ce7-c7f5-429e-a6a1-fe06424d8e19",
   "metadata": {},
   "outputs": [],
   "source": [
    "class Model(nn.Module):\n",
    "    \n",
    "    def __init__(self, n_tokens, n_cat_features, embedding_dim=64):\n",
    "        super().__init__()\n",
    "        \n",
    "        self.full_description_emb = nn.Embedding(n_tokens, embedding_dim)\n",
    "        self.title_emb = nn.Embedding(n_tokens, embedding_dim)\n",
    "        \n",
    "        self.full_description_seq = nn.Sequential(\n",
    "            nn.Conv1d(in_channels=embedding_dim, out_channels=16, kernel_size=3, stride=1),\n",
    "            nn.Tanh()\n",
    "        )\n",
    "        \n",
    "        self.title_seq = nn.Sequential(\n",
    "            nn.Conv1d(in_channels=embedding_dim, out_channels=16, kernel_size=3, stride=1),\n",
    "            nn.Tanh()\n",
    "        )\n",
    "        \n",
    "        self.categorical_seq = nn.Linear(in_features=n_cat_features, out_features=16)\n",
    "        \n",
    "        self.final = nn.Linear(in_features=16 * 3, out_features=1)\n",
    "    \n",
    "    def forward(self, batch):\n",
    "        full_description = batch[\"FullDescription\"]\n",
    "        title = batch[\"Title\"]\n",
    "        categorical = batch[\"Categorical\"]\n",
    "        \n",
    "        full_description_emb = self.full_description_emb(full_description).transpose(1, 2)\n",
    "        full_description_output = self.full_description_seq(full_description_emb).mean(dim=2)\n",
    "        \n",
    "        title_emb = self.title_emb(title).transpose(1, 2)\n",
    "        title_output = self.title_seq(title_emb).mean(dim=2)\n",
    "        \n",
    "        categorical_output = self.categorical_seq(categorical)\n",
    "\n",
    "        merged_output = torch.cat([full_description_output, title_output, categorical_output], dim=1)\n",
    "\n",
    "        output = self.final(merged_output).reshape(-1)\n",
    "        return output"
   ]
  },
  {
   "cell_type": "code",
   "execution_count": 19,
   "id": "4c99ed6f-7e09-45d0-907f-eb167027d5c3",
   "metadata": {
    "id": "4c99ed6f-7e09-45d0-907f-eb167027d5c3"
   },
   "outputs": [],
   "source": [
    "import tqdm\n",
    "\n",
    "BATCH_SIZE = 16\n",
    "EPOCHS = 2\n",
    "DEVICE = torch.device('cpu')\n",
    "\n",
    "\n",
    "def print_metrics(model, data, batch_size=BATCH_SIZE, name=\"\", **kw):\n",
    "    squared_error = abs_error = num_samples = 0.0\n",
    "    model.eval()\n",
    "    with torch.no_grad():\n",
    "        for batch in iterate_minibatches(data, batch_size=batch_size, shuffle=False, **kw):\n",
    "            batch_pred = model(batch)\n",
    "            squared_error += torch.sum(torch.square(batch_pred - batch[TARGET_COLUMN]))\n",
    "            abs_error += torch.sum(torch.abs(batch_pred - batch[TARGET_COLUMN]))\n",
    "            num_samples += len(batch_pred)\n",
    "    mse = squared_error.detach().cpu().numpy() / num_samples\n",
    "    mae = abs_error.detach().cpu().numpy() / num_samples\n",
    "    print(\"%s results:\" % (name or \"\"))\n",
    "    print(\"Mean square error: %.5f\" % mse)\n",
    "    print(\"Mean absolute error: %.5f\" % mae)\n",
    "    return mse, mae"
   ]
  },
  {
   "cell_type": "code",
   "execution_count": 20,
   "id": "e9090c63-8a93-445c-93db-8974e1e8e5bd",
   "metadata": {
    "id": "e9090c63-8a93-445c-93db-8974e1e8e5bd"
   },
   "outputs": [],
   "source": [
    "model     = Model(embedding_dim=64,\n",
    "                  n_tokens=len(tokens),\n",
    "                  n_cat_features=len(categorical_vectorizer.vocabulary_))\n",
    "\n",
    "criterion = nn.MSELoss(reduction='sum')\n",
    "optimizer = torch.optim.SGD(model.parameters(), lr=1e-4)"
   ]
  },
  {
   "cell_type": "code",
   "execution_count": 21,
   "id": "f7c8a41f-61bf-4995-918d-d960298b1986",
   "metadata": {
    "colab": {
     "base_uri": "https://localhost:8080/",
     "height": 448,
     "referenced_widgets": [
      "5a53549aec174e6e86819c33ec477e32",
      "23f1feb39b864c1f93abd0ac4d7e8e29",
      "91f393eb69954982a28aefee46d1c541",
      "9a8bb37c4bf84db8b1578075eed03f84",
      "e94deb880f5e484cb4d5bd3edca0af3c",
      "ef1a9e2e598e45fd97359daa03786c92",
      "e89d54f6e70249678341ec402258476c",
      "763b1e64f6bb4b329a7bdef496059d04",
      "7216b0c8971340eeabfc6ed23c7b5efa",
      "077226784b974f269fb312343392b3ff",
      "811f87c5b2c54a14a3e98512b563b62d"
     ]
    },
    "id": "f7c8a41f-61bf-4995-918d-d960298b1986",
    "outputId": "c0bac489-8651-4252-b681-c4e44b914563"
   },
   "outputs": [
    {
     "name": "stdout",
     "output_type": "stream",
     "text": [
      "epoch: 0\n"
     ]
    },
    {
     "data": {
      "application/vnd.jupyter.widget-view+json": {
       "model_id": "a061ff68a2c8460994de7d11f732eda0",
       "version_major": 2,
       "version_minor": 0
      },
      "text/plain": [
       "  0%|          | 0/12238 [00:00<?, ?it/s]"
      ]
     },
     "metadata": {},
     "output_type": "display_data"
    },
    {
     "name": "stdout",
     "output_type": "stream",
     "text": [
      " results:\n",
      "Mean square error: 0.15675\n",
      "Mean absolute error: 0.30750\n",
      "epoch: 1\n"
     ]
    },
    {
     "data": {
      "application/vnd.jupyter.widget-view+json": {
       "model_id": "09c6030ec6cd4416b202da83e9f5cd09",
       "version_major": 2,
       "version_minor": 0
      },
      "text/plain": [
       "  0%|          | 0/12238 [00:00<?, ?it/s]"
      ]
     },
     "metadata": {},
     "output_type": "display_data"
    }
   ],
   "source": [
    "for epoch in range(EPOCHS):\n",
    "    print(f\"epoch: {epoch}\")\n",
    "    model.train()\n",
    "    for i, batch in tqdm.notebook.tqdm(enumerate(\n",
    "            iterate_minibatches(data_train, batch_size=BATCH_SIZE, device=DEVICE)),\n",
    "            total=len(data_train) // BATCH_SIZE\n",
    "        ):\n",
    "        pred = model(batch)\n",
    "        loss = criterion(pred, batch[TARGET_COLUMN])\n",
    "        optimizer.zero_grad()\n",
    "        loss.backward()\n",
    "        optimizer.step()\n",
    "        \n",
    "    if epoch % 10 == 0: \n",
    "        print_metrics(model, data_val)"
   ]
  },
  {
   "cell_type": "code",
   "execution_count": 22,
   "id": "260af998-074d-4882-917a-cb9880f05433",
   "metadata": {
    "id": "260af998-074d-4882-917a-cb9880f05433"
   },
   "outputs": [],
   "source": [
    "def explain(model, sample, col_name, sensitivity=1):\n",
    "    sample_col_tokens = [tokens[token_to_idx.get(tok, 0)] for tok in sample[col_name].split()]\n",
    "\n",
    "    data_drop_one_token = pd.DataFrame([sample] * (len(sample_col_tokens)))\n",
    "    data_full           = pd.DataFrame([sample] * (len(sample_col_tokens)))\n",
    "\n",
    "    # Since we want to try to drop each word we will have\n",
    "    # to set 'number of words' times UNC to different position\n",
    "    batch_size = len(data_full)\n",
    "\n",
    "    text_col_idx = data_full.columns.get_loc(col_name)\n",
    "    text = data_drop_one_token.iloc[0, text_col_idx].split()\n",
    "\n",
    "    for i in range(batch_size):\n",
    "        data_drop_one_token.iloc[i, text_col_idx] = ' '.join([UNK if j == i else t for j, t in enumerate(text)])\n",
    "\n",
    "    data_drop_one_token_batch  = make_batch(data_drop_one_token, batch_size)\n",
    "    data_drop_one_token_output = model.forward(data_drop_one_token_batch)\n",
    "\n",
    "\n",
    "    data_baseline_batch = make_batch(data_full, batch_size)\n",
    "    data_baseline = model.forward(data_baseline_batch)\n",
    "\n",
    "    # if diff < 0 it means that without word, the price is higher,\n",
    "    # so probably its red flag, lets make it red\n",
    "    # and if diff > 0 it means that without price is lower\n",
    "    diff = (data_baseline - data_drop_one_token_output).detach() * sensitivity\n",
    "    return list(zip(text, diff))"
   ]
  },
  {
   "cell_type": "code",
   "execution_count": 23,
   "id": "4962cb91-9e0e-40b4-a154-254e799bf223",
   "metadata": {
    "id": "4962cb91-9e0e-40b4-a154-254e799bf223"
   },
   "outputs": [],
   "source": [
    "from IPython.display import HTML, display_html\n",
    "\n",
    "\n",
    "def draw_html(tokens_and_weights, cmap=plt.get_cmap(\"bwr\"), display=True,\n",
    "              token_template=\"\"\"<span style=\"background-color: {color_hex}\">{token}</span>\"\"\",\n",
    "              font_style=\"font-size:14px;\"):\n",
    "    \n",
    "    def get_color_hex(weight):\n",
    "        # weight here is out diff so when its < 0 then it means without this word\n",
    "        # price would be higher so its reg flag to delete\n",
    "        # Sigmoid kind of\n",
    "        rgba = cmap(1. / (1 + np.exp(weight.detach().numpy())), bytes=True)\n",
    "        return '#%02X%02X%02X' % rgba[:3]\n",
    "    \n",
    "    tokens_html = [\n",
    "        token_template.format(token=token, color_hex=get_color_hex(weight))\n",
    "        for token, weight in tokens_and_weights\n",
    "    ]\n",
    "    \n",
    "    raw_html = \"\"\"<p style=\"{}\">{}</p>\"\"\".format(font_style, ' '.join(tokens_html))\n",
    "    if display:\n",
    "        display_html(HTML(raw_html))\n",
    "        \n",
    "    return raw_html"
   ]
  },
  {
   "cell_type": "code",
   "execution_count": 41,
   "id": "57b79463-7b0c-4564-a8b5-ff3186a2dddf",
   "metadata": {
    "id": "57b79463-7b0c-4564-a8b5-ff3186a2dddf",
    "outputId": "fdd162bb-afed-4540-fb10-ae1648770e19"
   },
   "outputs": [
    {
     "data": {
      "text/html": [
       "<h2>Job application title</h2>"
      ]
     },
     "metadata": {},
     "output_type": "display_data"
    },
    {
     "data": {
      "text/html": [
       "<p style=\"font-size:14px;\"><span style=\"background-color: #D0D0FF\">lead</span> <span style=\"background-color: #D2D2FF\">engineers</span> <span style=\"background-color: #FFDEDE\">(</span> <span style=\"background-color: #FFE6E6\">stress</span> <span style=\"background-color: #FCFCFF\">)</span></p>"
      ]
     },
     "metadata": {},
     "output_type": "display_data"
    },
    {
     "data": {
      "text/html": [
       "<h2>Job application description</h2>"
      ]
     },
     "metadata": {},
     "output_type": "display_data"
    },
    {
     "data": {
      "text/html": [
       "<p style=\"font-size:14px;\"><span style=\"background-color: #FFF6F6\">control</span> <span style=\"background-color: #F2F2FF\">and</span> <span style=\"background-color: #FFF2F2\">instrumentation</span> <span style=\"background-color: #FFFAFA\">engineer</span> <span style=\"background-color: #FFF6F6\">/</span> <span style=\"background-color: #FFFAFA\">c</span> <span style=\"background-color: #FFF4F4\">reading</span> <span style=\"background-color: #FAFAFF\">.</span> <span style=\"background-color: #FFE8E8\">our</span> <span style=\"background-color: #FCFCFF\">client</span> <span style=\"background-color: #FCFCFF\">is</span> <span style=\"background-color: #FFF8F8\">seeking</span> <span style=\"background-color: #FFE4E4\">applications</span> <span style=\"background-color: #FFFCFC\">from</span> <span style=\"background-color: #FFFEFE\">experienced</span> <span style=\"background-color: #FFFEFE\">c</span> <span style=\"background-color: #FFF4F4\">control</span> <span style=\"background-color: #EAEAFF\">and</span> <span style=\"background-color: #FFF2F2\">instrumentation</span> <span style=\"background-color: #FFFAFA\">engineer</span> <span style=\"background-color: #FFF6F6\">/</span> <span style=\"background-color: #FFFAFA\">c</span> <span style=\"background-color: #FFFAFA\">degree</span> <span style=\"background-color: #FCFCFF\">(</span> <span style=\"background-color: #FFFAFA\">or</span> <span style=\"background-color: #FFF6F6\">equivalent</span> <span style=\"background-color: #FFEEEE\">)</span> <span style=\"background-color: #F3F3FF\">in</span> <span style=\"background-color: #FFE0E0\">electrical</span> <span style=\"background-color: #F8F8FF\">,</span> <span style=\"background-color: #FFF4F4\">electronic</span> <span style=\"background-color: #FFF6F6\">or</span> <span style=\"background-color: #FFF2F2\">control</span> <span style=\"background-color: #ECECFF\">and</span> <span style=\"background-color: #FFF2F2\">instrumentation</span> <span style=\"background-color: #F2F2FF\">engineering</span> <span style=\"background-color: #FFF8F8\">or</span> <span style=\"background-color: #FFFAFA\">other</span> <span style=\"background-color: #FFFEFE\">relevant</span> <span style=\"background-color: #FFF0F0\">discipline</span> <span style=\"background-color: #F8F8FF\">.</span> <span style=\"background-color: #FEFEFF\">chartered</span> <span style=\"background-color: #FFF8F8\">engineer</span> <span style=\"background-color: #FCFCFF\">.</span> <span style=\"background-color: #FFE6E6\">able</span> <span style=\"background-color: #FFFCFC\">to</span> <span style=\"background-color: #FFF2F2\">demonstrate</span> <span style=\"background-color: #FFEEEE\">sound</span> <span style=\"background-color: #FFE8E8\">technical</span> <span style=\"background-color: #FCFCFF\">experience</span> <span style=\"background-color: #FAFAFF\">.</span> <span style=\"background-color: #F0F0FF\">a</span> <span style=\"background-color: #FFFEFE\">sufficient</span> <span style=\"background-color: #F0F0FF\">and</span> <span style=\"background-color: #F6F6FF\">appropriate</span> <span style=\"background-color: #FFF8F8\">level</span> <span style=\"background-color: #EAEAFF\">of</span> <span style=\"background-color: #FAFAFF\">building</span> <span style=\"background-color: #FFEAEA\">services</span> <span style=\"background-color: #ECECFF\">and</span> <span style=\"background-color: #FAFAFF\">controls</span> <span style=\"background-color: #FEFEFF\">experience</span> <span style=\"background-color: #FFECEC\">gained</span> <span style=\"background-color: #FFE6E6\">within</span> <span style=\"background-color: #E6E6FF\">a</span> <span style=\"background-color: #FCFCFF\">client</span> <span style=\"background-color: #FFF6F6\">organisation</span> <span style=\"background-color: #FAFAFF\">,</span> <span style=\"background-color: #F2F2FF\">engineering</span> <span style=\"background-color: #FFE8E8\">consultancy</span> <span style=\"background-color: #FFF4F4\">or</span> <span style=\"background-color: #FFECEC\">equipment</span> <span style=\"background-color: #FFE8E8\">supplier</span> <span style=\"background-color: #F8F8FF\">.</span> <span style=\"background-color: #FFF2F2\">project</span> <span style=\"background-color: #FAFAFF\">management</span> <span style=\"background-color: #FAFAFF\">,</span> <span style=\"background-color: #FCFCFF\">including</span> <span style=\"background-color: #FAFAFF\">controls</span> <span style=\"background-color: #F8F8FF\">,</span> <span style=\"background-color: #FFF0F0\">planning</span> <span style=\"background-color: #ECECFF\">and</span> <span style=\"background-color: #FFFCFC\">estimating</span> <span style=\"background-color: #F2F2FF\">and</span> <span style=\"background-color: #FFF8F8\">preparation</span> <span style=\"background-color: #E8E8FF\">of</span> <span style=\"background-color: #FFEAEA\">deliverable</span> <span style=\"background-color: #FFF6F6\">/</span> <span style=\"background-color: #FFE4E4\">work</span> <span style=\"background-color: #FFDCDC\">package</span> <span style=\"background-color: #FAFAFF\">.</span> <span style=\"background-color: #FFDEDE\">desirable</span> <span style=\"background-color: #FFF4F4\">working</span> <span style=\"background-color: #FFE8E8\">within</span> <span style=\"background-color: #E8E8FF\">a</span> <span style=\"background-color: #FFF2F2\">multidiscipline</span> <span style=\"background-color: #F3F3FF\">engineering</span> <span style=\"background-color: #FFFEFE\">team</span> <span style=\"background-color: #EEEEFF\">and</span> <span style=\"background-color: #FFF0F0\">having</span> <span style=\"background-color: #EAEAFF\">a</span> <span style=\"background-color: #F8F8FF\">general</span> <span style=\"background-color: #FFF8F8\">appreciation</span> <span style=\"background-color: #EAEAFF\">of</span> <span style=\"background-color: #FFFAFA\">other</span> <span style=\"background-color: #F6F6FF\">disciplines</span> <span style=\"background-color: #FFE8E8\">constraints</span> <span style=\"background-color: #EAEAFF\">and</span> <span style=\"background-color: #FFF6F6\">requirements</span> <span style=\"background-color: #FCFCFF\">.</span> <span style=\"background-color: #FFF2F2\">nuclear</span> <span style=\"background-color: #FFEEEE\">safety</span> <span style=\"background-color: #FFFCFC\">case</span> <span style=\"background-color: #FFF4F4\">issues</span> <span style=\"background-color: #EEEEFF\">and</span> <span style=\"background-color: #FFFAFA\">nii</span> <span style=\"background-color: #FFFEFE\">site</span> <span style=\"background-color: #F8F8FF\">licence</span> <span style=\"background-color: #FFFAFA\">conditions</span> <span style=\"background-color: #FAFAFF\">.</span> <span style=\"background-color: #FAFAFF\">building</span> <span style=\"background-color: #FAFAFF\">management</span> <span style=\"background-color: #FFF6F6\">systems</span> <span style=\"background-color: #FEFEFF\">.</span> <span style=\"background-color: #FFF4F4\">fire</span> <span style=\"background-color: #FFCCCC\">detection</span> <span style=\"background-color: #E8E8FF\">and</span> <span style=\"background-color: #FFCCCC\">alarms</span> <span style=\"background-color: #F8F8FF\">.</span> <span style=\"background-color: #ECECFF\">telecoms</span> <span style=\"background-color: #FCFCFF\">.</span> <span style=\"background-color: #FFF2F2\">ups</span> <span style=\"background-color: #FAFAFF\">.</span> <span style=\"background-color: #FCFCFF\">experience</span> <span style=\"background-color: #EEEEFF\">of</span> <span style=\"background-color: #ECECFF\">the</span> <span style=\"background-color: #FFF8F8\">nuclear</span> <span style=\"background-color: #FFFCFC\">industry</span> <span style=\"background-color: #FAFAFF\">.</span> <span style=\"background-color: #FEFEFF\">experience</span> <span style=\"background-color: #ECECFF\">of</span> <span style=\"background-color: #FFFCFC\">iee</span> <span style=\"background-color: #FEFEFF\">wiring</span> <span style=\"background-color: #FFFAFA\">regulations</span> <span style=\"background-color: #FFF0F0\">17th</span> <span style=\"background-color: #FEFEFF\">edition</span> <span style=\"background-color: #FFF8F8\">bs</span> <span style=\"background-color: #FFF6F6\">****</span> <span style=\"background-color: #FEFEFF\">experience</span> <span style=\"background-color: #ECECFF\">of</span> <span style=\"background-color: #F6F6FF\">transmission</span> <span style=\"background-color: #FEFEFF\">(****</span> <span style=\"background-color: #FFEEEE\">kv</span> <span style=\"background-color: #FFEEEE\">)</span> <span style=\"background-color: #FFE4E4\">electrical</span> <span style=\"background-color: #EEEEFF\">plant</span> <span style=\"background-color: #F0F0FF\">and</span> <span style=\"background-color: #FFF8F8\">configuration</span> <span style=\"background-color: #F0F0FF\">design</span> <span style=\"background-color: #FAFAFF\">.</span> <span style=\"background-color: #FEFEFF\">experience</span> <span style=\"background-color: #E6E6FF\">of</span> <span style=\"background-color: #FFF2F2\">distribution</span> <span style=\"background-color: #FEFEFF\">(</span> <span style=\"background-color: #FAFAFF\">up</span> <span style=\"background-color: #FFF8F8\">to</span> <span style=\"background-color: #FFF8F8\">****</span> <span style=\"background-color: #FFECEC\">kv</span> <span style=\"background-color: #FFEEEE\">)</span> <span style=\"background-color: #FFE4E4\">electrical</span> <span style=\"background-color: #EEEEFF\">plant</span> <span style=\"background-color: #F0F0FF\">and</span> <span style=\"background-color: #FFF8F8\">configuration</span> <span style=\"background-color: #F0F0FF\">design</span> <span style=\"background-color: #FAFAFF\">.</span> <span style=\"background-color: #FEFEFF\">experience</span> <span style=\"background-color: #EAEAFF\">of</span> <span style=\"background-color: #FFF2F2\">protection</span> <span style=\"background-color: #EEEEFF\">and</span> <span style=\"background-color: #FFF6F6\">control</span> <span style=\"background-color: #F2F2FF\">design</span> <span style=\"background-color: #FFF8F8\">at</span> <span style=\"background-color: #F6F6FF\">transmission</span> <span style=\"background-color: #ECECFF\">and</span> <span style=\"background-color: #FFEEEE\">distribution</span> <span style=\"background-color: #FFF4F4\">voltages</span> <span style=\"background-color: #FAFAFF\">.</span> <span style=\"background-color: #DEDEFF\">the</span> <span style=\"background-color: #FFDEDE\">individual</span> <span style=\"background-color: #FFF4F4\">control</span> <span style=\"background-color: #E6E6FF\">and</span> <span style=\"background-color: #FFF4F4\">instrumentation</span> <span style=\"background-color: #FFFCFC\">engineer</span> <span style=\"background-color: #E8E8FF\">a</span> <span style=\"background-color: #FFEEEE\">confident</span> <span style=\"background-color: #ECECFF\">and</span> <span style=\"background-color: #FFF0F0\">professional</span> <span style=\"background-color: #FFF4F4\">manner</span> <span style=\"background-color: #FAFAFF\">.</span> <span style=\"background-color: #FFFEFE\">excellent</span> <span style=\"background-color: #F8F8FF\">communication</span> <span style=\"background-color: #FFF8F8\">skills</span> <span style=\"background-color: #FAFAFF\">.</span> <span style=\"background-color: #FEFEFF\">ability</span> <span style=\"background-color: #FFFCFC\">to</span> <span style=\"background-color: #F6F6FF\">use</span> <span style=\"background-color: #FFE8E8\">initiative</span> <span style=\"background-color: #EAEAFF\">and</span> <span style=\"background-color: #FFF4F4\">demonstrate</span> <span style=\"background-color: #FFFCFC\">creativity</span> <span style=\"background-color: #FCFCFF\">.</span> <span style=\"background-color: #FAFAFF\">self</span> <span style=\"background-color: #FFE4E4\">motivated</span> <span style=\"background-color: #EAEAFF\">and</span> <span style=\"background-color: #FFE6E6\">committed</span> <span style=\"background-color: #FFFAFA\">to</span> <span style=\"background-color: #FEFEFF\">further</span> <span style=\"background-color: #FFF6F6\">study</span> <span style=\"background-color: #F8F8FF\">.</span> <span style=\"background-color: #FFFEFE\">ability</span> <span style=\"background-color: #FFFAFA\">to</span> <span style=\"background-color: #FFEAEA\">work</span> <span style=\"background-color: #FFE6E6\">within</span> <span style=\"background-color: #E6E6FF\">a</span> <span style=\"background-color: #FFFEFE\">team</span> <span style=\"background-color: #FEFEFF\">.</span> <span style=\"background-color: #FEFEFF\">responsibilities</span> <span style=\"background-color: #FFF8F8\">responsible</span> <span style=\"background-color: #FFFCFC\">for</span> <span style=\"background-color: #FFEAEA\">providing</span> <span style=\"background-color: #FFE4E4\">technical</span> <span style=\"background-color: #FEFEFF\">input</span> <span style=\"background-color: #FFF0F0\">into</span> <span style=\"background-color: #E8E8FF\">the</span> <span style=\"background-color: #FFF4F4\">control</span> <span style=\"background-color: #F0F0FF\">and</span> <span style=\"background-color: #FFF6F6\">instrumentation</span> <span style=\"background-color: #FAFAFF\">,</span> <span style=\"background-color: #EAEAFF\">and</span> <span style=\"background-color: #FFF0F0\">potentially</span> <span style=\"background-color: #FFE2E2\">electrical</span> <span style=\"background-color: #FAFAFF\">,</span> <span style=\"background-color: #EEEEFF\">design</span> <span style=\"background-color: #FFEAEA\">aspects</span> <span style=\"background-color: #E2E2FF\">of</span> <span style=\"background-color: #FFE0E0\">substation</span> <span style=\"background-color: #FEFEFF\">refurbishment</span> <span style=\"background-color: #FFF6F6\">/</span> <span style=\"background-color: #FFFEFE\">rekit</span> <span style=\"background-color: #FAFAFF\">projects</span> <span style=\"background-color: #EEEEFF\">and</span> <span style=\"background-color: #FFFEFE\">leading</span> <span style=\"background-color: #FFE0E0\">electrical</span> <span style=\"background-color: #FFF4F4\">/</span> <span style=\"background-color: #FFF2F2\">control</span> <span style=\"background-color: #FFE6E6\">aspects</span> <span style=\"background-color: #DEDEFF\">of</span> <span style=\"background-color: #FFF0F0\">major</span> <span style=\"background-color: #FFF8F8\">infrastructure</span> <span style=\"background-color: #FAFAFF\">projects</span> <span style=\"background-color: #FFFCFC\">from</span> <span style=\"background-color: #FFFEFE\">system</span> <span style=\"background-color: #FAFAFF\">studies</span> <span style=\"background-color: #ECECFF\">and</span> <span style=\"background-color: #FFFCFC\">investment</span> <span style=\"background-color: #FFFCFC\">appraisals</span> <span style=\"background-color: #FFDEDE\">through</span> <span style=\"background-color: #FFFEFE\">to</span> <span style=\"background-color: #FFEAEA\">detailed</span> <span style=\"background-color: #ECECFF\">design</span> <span style=\"background-color: #FCFCFF\">.</span> <span style=\"background-color: #FFFEFE\">liaison</span> <span style=\"background-color: #FEFEFF\">with</span> <span style=\"background-color: #FCFCFF\">clients</span> <span style=\"background-color: #F8F8FF\">,</span> <span style=\"background-color: #FFD8D8\">suppliers</span> <span style=\"background-color: #E6E6FF\">and</span> <span style=\"background-color: #FFF0F0\">contractors</span> <span style=\"background-color: #FCFCFF\">.</span> <span style=\"background-color: #FFF8F8\">provide</span> <span style=\"background-color: #FFE6E6\">technical</span> <span style=\"background-color: #FEFEFF\">input</span> <span style=\"background-color: #FFEEEE\">into</span> <span style=\"background-color: #DEDEFF\">the</span> <span style=\"background-color: #FFDADA\">specification</span> <span style=\"background-color: #F8F8FF\">,</span> <span style=\"background-color: #FFECEC\">selection</span> <span style=\"background-color: #ECECFF\">and</span> <span style=\"background-color: #FFF2F2\">justification</span> <span style=\"background-color: #E3E3FF\">of</span> <span style=\"background-color: #FFFEFE\">relevant</span> <span style=\"background-color: #FFF2F2\">equipment</span> <span style=\"background-color: #FAFAFF\">.</span> <span style=\"background-color: #FFF4F4\">generation</span> <span style=\"background-color: #E3E3FF\">of</span> <span style=\"background-color: #FFFEFE\">front</span> <span style=\"background-color: #FFF8F8\">end</span> <span style=\"background-color: #F6F6FF\">engineering</span> <span style=\"background-color: #F2F2FF\">design</span> <span style=\"background-color: #FFFAFA\">packages</span> <span style=\"background-color: #FEFEFF\">.</span> <span style=\"background-color: #FFFAFA\">provide</span> <span style=\"background-color: #FFE6E6\">technical</span> <span style=\"background-color: #FEFEFF\">input</span> <span style=\"background-color: #FFF0F0\">into</span> <span style=\"background-color: #E3E3FF\">the</span> <span style=\"background-color: #FFFEFE\">relevant</span> <span style=\"background-color: #FFEEEE\">equipment</span> <span style=\"background-color: #FFD6D6\">assessment</span> <span style=\"background-color: #E6E6FF\">and</span> <span style=\"background-color: #FFF0F0\">justification</span> <span style=\"background-color: #F3F3FF\">reports</span> <span style=\"background-color: #FCFCFF\">.</span> <span style=\"background-color: #FFF4F4\">production</span> <span style=\"background-color: #E0E0FF\">of</span> <span style=\"background-color: #FFF4F4\">commissioning</span> <span style=\"background-color: #FFE0E0\">procedures</span> <span style=\"background-color: #FAFAFF\">.</span> <span style=\"background-color: #FFF0F0\">production</span> <span style=\"background-color: #E3E3FF\">of</span> <span style=\"background-color: #FFEEEE\">technical</span> <span style=\"background-color: #FFFEFE\">specifications</span> <span style=\"background-color: #F8F8FF\">.</span> <span style=\"background-color: #FFF2F2\">control</span> <span style=\"background-color: #EAEAFF\">and</span> <span style=\"background-color: #FFF2F2\">instrumentation</span> <span style=\"background-color: #FFFAFA\">engineer</span> <span style=\"background-color: #FFF6F6\">/</span> <span style=\"background-color: #FFFAFA\">c</span> <span style=\"background-color: #FFF4F4\">location</span> <span style=\"background-color: #FFF2F2\">reading</span> <span style=\"background-color: #FAFAFF\">,</span> <span style=\"background-color: #FFFEFE\">berkshire</span></p>"
      ]
     },
     "metadata": {},
     "output_type": "display_data"
    }
   ],
   "source": [
    "display_html(HTML('<h2>Job application title</h2>'))\n",
    "explain_title = explain(model=model, sensitivity=3, sample=data.iloc[20], col_name='Title')\n",
    "draw_html([(text, diff) for text, diff in explain_title]);\n",
    "\n",
    "display_html(HTML('<h2>Job application description</h2>'))\n",
    "explain_descr = explain(model=model, sensitivity=15, sample=data.iloc[23], col_name='FullDescription')\n",
    "draw_html([(text, diff) for text, diff in explain_descr]);"
   ]
  }
 ],
 "metadata": {
  "accelerator": "GPU",
  "colab": {
   "collapsed_sections": [],
   "name": "preprocessing (1).ipynb",
   "provenance": []
  },
  "kernelspec": {
   "display_name": "Python 3 (ipykernel)",
   "language": "python",
   "name": "python3"
  },
  "language_info": {
   "codemirror_mode": {
    "name": "ipython",
    "version": 3
   },
   "file_extension": ".py",
   "mimetype": "text/x-python",
   "name": "python",
   "nbconvert_exporter": "python",
   "pygments_lexer": "ipython3",
   "version": "3.9.7"
  },
  "widgets": {
   "application/vnd.jupyter.widget-state+json": {
    "077226784b974f269fb312343392b3ff": {
     "model_module": "@jupyter-widgets/controls",
     "model_module_version": "1.5.0",
     "model_name": "DescriptionStyleModel",
     "state": {
      "_model_module": "@jupyter-widgets/controls",
      "_model_module_version": "1.5.0",
      "_model_name": "DescriptionStyleModel",
      "_view_count": null,
      "_view_module": "@jupyter-widgets/base",
      "_view_module_version": "1.2.0",
      "_view_name": "StyleView",
      "description_width": ""
     }
    },
    "23f1feb39b864c1f93abd0ac4d7e8e29": {
     "model_module": "@jupyter-widgets/base",
     "model_module_version": "1.2.0",
     "model_name": "LayoutModel",
     "state": {
      "_model_module": "@jupyter-widgets/base",
      "_model_module_version": "1.2.0",
      "_model_name": "LayoutModel",
      "_view_count": null,
      "_view_module": "@jupyter-widgets/base",
      "_view_module_version": "1.2.0",
      "_view_name": "LayoutView",
      "align_content": null,
      "align_items": null,
      "align_self": null,
      "border": null,
      "bottom": null,
      "display": null,
      "flex": null,
      "flex_flow": null,
      "grid_area": null,
      "grid_auto_columns": null,
      "grid_auto_flow": null,
      "grid_auto_rows": null,
      "grid_column": null,
      "grid_gap": null,
      "grid_row": null,
      "grid_template_areas": null,
      "grid_template_columns": null,
      "grid_template_rows": null,
      "height": null,
      "justify_content": null,
      "justify_items": null,
      "left": null,
      "margin": null,
      "max_height": null,
      "max_width": null,
      "min_height": null,
      "min_width": null,
      "object_fit": null,
      "object_position": null,
      "order": null,
      "overflow": null,
      "overflow_x": null,
      "overflow_y": null,
      "padding": null,
      "right": null,
      "top": null,
      "visibility": null,
      "width": null
     }
    },
    "5a53549aec174e6e86819c33ec477e32": {
     "model_module": "@jupyter-widgets/controls",
     "model_module_version": "1.5.0",
     "model_name": "HBoxModel",
     "state": {
      "_dom_classes": [],
      "_model_module": "@jupyter-widgets/controls",
      "_model_module_version": "1.5.0",
      "_model_name": "HBoxModel",
      "_view_count": null,
      "_view_module": "@jupyter-widgets/controls",
      "_view_module_version": "1.5.0",
      "_view_name": "HBoxView",
      "box_style": "",
      "children": [
       "IPY_MODEL_91f393eb69954982a28aefee46d1c541",
       "IPY_MODEL_9a8bb37c4bf84db8b1578075eed03f84",
       "IPY_MODEL_e94deb880f5e484cb4d5bd3edca0af3c"
      ],
      "layout": "IPY_MODEL_23f1feb39b864c1f93abd0ac4d7e8e29"
     }
    },
    "7216b0c8971340eeabfc6ed23c7b5efa": {
     "model_module": "@jupyter-widgets/base",
     "model_module_version": "1.2.0",
     "model_name": "LayoutModel",
     "state": {
      "_model_module": "@jupyter-widgets/base",
      "_model_module_version": "1.2.0",
      "_model_name": "LayoutModel",
      "_view_count": null,
      "_view_module": "@jupyter-widgets/base",
      "_view_module_version": "1.2.0",
      "_view_name": "LayoutView",
      "align_content": null,
      "align_items": null,
      "align_self": null,
      "border": null,
      "bottom": null,
      "display": null,
      "flex": null,
      "flex_flow": null,
      "grid_area": null,
      "grid_auto_columns": null,
      "grid_auto_flow": null,
      "grid_auto_rows": null,
      "grid_column": null,
      "grid_gap": null,
      "grid_row": null,
      "grid_template_areas": null,
      "grid_template_columns": null,
      "grid_template_rows": null,
      "height": null,
      "justify_content": null,
      "justify_items": null,
      "left": null,
      "margin": null,
      "max_height": null,
      "max_width": null,
      "min_height": null,
      "min_width": null,
      "object_fit": null,
      "object_position": null,
      "order": null,
      "overflow": null,
      "overflow_x": null,
      "overflow_y": null,
      "padding": null,
      "right": null,
      "top": null,
      "visibility": null,
      "width": null
     }
    },
    "763b1e64f6bb4b329a7bdef496059d04": {
     "model_module": "@jupyter-widgets/controls",
     "model_module_version": "1.5.0",
     "model_name": "ProgressStyleModel",
     "state": {
      "_model_module": "@jupyter-widgets/controls",
      "_model_module_version": "1.5.0",
      "_model_name": "ProgressStyleModel",
      "_view_count": null,
      "_view_module": "@jupyter-widgets/base",
      "_view_module_version": "1.2.0",
      "_view_name": "StyleView",
      "bar_color": null,
      "description_width": ""
     }
    },
    "811f87c5b2c54a14a3e98512b563b62d": {
     "model_module": "@jupyter-widgets/base",
     "model_module_version": "1.2.0",
     "model_name": "LayoutModel",
     "state": {
      "_model_module": "@jupyter-widgets/base",
      "_model_module_version": "1.2.0",
      "_model_name": "LayoutModel",
      "_view_count": null,
      "_view_module": "@jupyter-widgets/base",
      "_view_module_version": "1.2.0",
      "_view_name": "LayoutView",
      "align_content": null,
      "align_items": null,
      "align_self": null,
      "border": null,
      "bottom": null,
      "display": null,
      "flex": null,
      "flex_flow": null,
      "grid_area": null,
      "grid_auto_columns": null,
      "grid_auto_flow": null,
      "grid_auto_rows": null,
      "grid_column": null,
      "grid_gap": null,
      "grid_row": null,
      "grid_template_areas": null,
      "grid_template_columns": null,
      "grid_template_rows": null,
      "height": null,
      "justify_content": null,
      "justify_items": null,
      "left": null,
      "margin": null,
      "max_height": null,
      "max_width": null,
      "min_height": null,
      "min_width": null,
      "object_fit": null,
      "object_position": null,
      "order": null,
      "overflow": null,
      "overflow_x": null,
      "overflow_y": null,
      "padding": null,
      "right": null,
      "top": null,
      "visibility": null,
      "width": null
     }
    },
    "91f393eb69954982a28aefee46d1c541": {
     "model_module": "@jupyter-widgets/controls",
     "model_module_version": "1.5.0",
     "model_name": "HTMLModel",
     "state": {
      "_dom_classes": [],
      "_model_module": "@jupyter-widgets/controls",
      "_model_module_version": "1.5.0",
      "_model_name": "HTMLModel",
      "_view_count": null,
      "_view_module": "@jupyter-widgets/controls",
      "_view_module_version": "1.5.0",
      "_view_name": "HTMLView",
      "description": "",
      "description_tooltip": null,
      "layout": "IPY_MODEL_e89d54f6e70249678341ec402258476c",
      "placeholder": "​",
      "style": "IPY_MODEL_ef1a9e2e598e45fd97359daa03786c92",
      "value": "  1%"
     }
    },
    "9a8bb37c4bf84db8b1578075eed03f84": {
     "model_module": "@jupyter-widgets/controls",
     "model_module_version": "1.5.0",
     "model_name": "FloatProgressModel",
     "state": {
      "_dom_classes": [],
      "_model_module": "@jupyter-widgets/controls",
      "_model_module_version": "1.5.0",
      "_model_name": "FloatProgressModel",
      "_view_count": null,
      "_view_module": "@jupyter-widgets/controls",
      "_view_module_version": "1.5.0",
      "_view_name": "ProgressView",
      "bar_style": "danger",
      "description": "",
      "description_tooltip": null,
      "layout": "IPY_MODEL_7216b0c8971340eeabfc6ed23c7b5efa",
      "max": 12238,
      "min": 0,
      "orientation": "horizontal",
      "style": "IPY_MODEL_763b1e64f6bb4b329a7bdef496059d04",
      "value": 118
     }
    },
    "e89d54f6e70249678341ec402258476c": {
     "model_module": "@jupyter-widgets/base",
     "model_module_version": "1.2.0",
     "model_name": "LayoutModel",
     "state": {
      "_model_module": "@jupyter-widgets/base",
      "_model_module_version": "1.2.0",
      "_model_name": "LayoutModel",
      "_view_count": null,
      "_view_module": "@jupyter-widgets/base",
      "_view_module_version": "1.2.0",
      "_view_name": "LayoutView",
      "align_content": null,
      "align_items": null,
      "align_self": null,
      "border": null,
      "bottom": null,
      "display": null,
      "flex": null,
      "flex_flow": null,
      "grid_area": null,
      "grid_auto_columns": null,
      "grid_auto_flow": null,
      "grid_auto_rows": null,
      "grid_column": null,
      "grid_gap": null,
      "grid_row": null,
      "grid_template_areas": null,
      "grid_template_columns": null,
      "grid_template_rows": null,
      "height": null,
      "justify_content": null,
      "justify_items": null,
      "left": null,
      "margin": null,
      "max_height": null,
      "max_width": null,
      "min_height": null,
      "min_width": null,
      "object_fit": null,
      "object_position": null,
      "order": null,
      "overflow": null,
      "overflow_x": null,
      "overflow_y": null,
      "padding": null,
      "right": null,
      "top": null,
      "visibility": null,
      "width": null
     }
    },
    "e94deb880f5e484cb4d5bd3edca0af3c": {
     "model_module": "@jupyter-widgets/controls",
     "model_module_version": "1.5.0",
     "model_name": "HTMLModel",
     "state": {
      "_dom_classes": [],
      "_model_module": "@jupyter-widgets/controls",
      "_model_module_version": "1.5.0",
      "_model_name": "HTMLModel",
      "_view_count": null,
      "_view_module": "@jupyter-widgets/controls",
      "_view_module_version": "1.5.0",
      "_view_name": "HTMLView",
      "description": "",
      "description_tooltip": null,
      "layout": "IPY_MODEL_811f87c5b2c54a14a3e98512b563b62d",
      "placeholder": "​",
      "style": "IPY_MODEL_077226784b974f269fb312343392b3ff",
      "value": " 118/12238 [00:06&lt;09:45, 20.69it/s]"
     }
    },
    "ef1a9e2e598e45fd97359daa03786c92": {
     "model_module": "@jupyter-widgets/controls",
     "model_module_version": "1.5.0",
     "model_name": "DescriptionStyleModel",
     "state": {
      "_model_module": "@jupyter-widgets/controls",
      "_model_module_version": "1.5.0",
      "_model_name": "DescriptionStyleModel",
      "_view_count": null,
      "_view_module": "@jupyter-widgets/base",
      "_view_module_version": "1.2.0",
      "_view_name": "StyleView",
      "description_width": ""
     }
    }
   }
  }
 },
 "nbformat": 4,
 "nbformat_minor": 5
}
