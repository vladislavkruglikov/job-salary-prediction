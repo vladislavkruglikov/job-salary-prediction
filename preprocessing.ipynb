{
 "cells": [
  {
   "cell_type": "code",
   "execution_count": 108,
   "id": "2f3ad1e2-e088-4221-8c2a-3e049a6acb04",
   "metadata": {},
   "outputs": [],
   "source": [
    "import pandas as pd\n",
    "import numpy  as np\n",
    "\n",
    "import matplotlib.pyplot as plt\n",
    "\n",
    "import torch\n",
    "\n",
    "import torch.nn as nn"
   ]
  },
  {
   "cell_type": "code",
   "execution_count": 113,
   "id": "bfdb4a95-b253-4d0d-9641-a20c4be839e1",
   "metadata": {},
   "outputs": [
    {
     "data": {
      "text/html": [
       "<div>\n",
       "<style scoped>\n",
       "    .dataframe tbody tr th:only-of-type {\n",
       "        vertical-align: middle;\n",
       "    }\n",
       "\n",
       "    .dataframe tbody tr th {\n",
       "        vertical-align: top;\n",
       "    }\n",
       "\n",
       "    .dataframe thead th {\n",
       "        text-align: right;\n",
       "    }\n",
       "</style>\n",
       "<table border=\"1\" class=\"dataframe\">\n",
       "  <thead>\n",
       "    <tr style=\"text-align: right;\">\n",
       "      <th></th>\n",
       "      <th>Id</th>\n",
       "      <th>Title</th>\n",
       "      <th>FullDescription</th>\n",
       "      <th>LocationRaw</th>\n",
       "      <th>LocationNormalized</th>\n",
       "      <th>ContractType</th>\n",
       "      <th>ContractTime</th>\n",
       "      <th>Company</th>\n",
       "      <th>Category</th>\n",
       "      <th>SalaryRaw</th>\n",
       "      <th>SalaryNormalized</th>\n",
       "      <th>SourceName</th>\n",
       "    </tr>\n",
       "  </thead>\n",
       "  <tbody>\n",
       "    <tr>\n",
       "      <th>0</th>\n",
       "      <td>12612628</td>\n",
       "      <td>Engineering Systems Analyst</td>\n",
       "      <td>Engineering Systems Analyst Dorking Surrey Sal...</td>\n",
       "      <td>Dorking, Surrey, Surrey</td>\n",
       "      <td>Dorking</td>\n",
       "      <td>NaN</td>\n",
       "      <td>permanent</td>\n",
       "      <td>Gregory Martin International</td>\n",
       "      <td>Engineering Jobs</td>\n",
       "      <td>20000 - 30000/annum 20-30K</td>\n",
       "      <td>25000</td>\n",
       "      <td>cv-library.co.uk</td>\n",
       "    </tr>\n",
       "    <tr>\n",
       "      <th>1</th>\n",
       "      <td>12612830</td>\n",
       "      <td>Stress Engineer Glasgow</td>\n",
       "      <td>Stress Engineer Glasgow Salary **** to **** We...</td>\n",
       "      <td>Glasgow, Scotland, Scotland</td>\n",
       "      <td>Glasgow</td>\n",
       "      <td>NaN</td>\n",
       "      <td>permanent</td>\n",
       "      <td>Gregory Martin International</td>\n",
       "      <td>Engineering Jobs</td>\n",
       "      <td>25000 - 35000/annum 25-35K</td>\n",
       "      <td>30000</td>\n",
       "      <td>cv-library.co.uk</td>\n",
       "    </tr>\n",
       "    <tr>\n",
       "      <th>2</th>\n",
       "      <td>12612844</td>\n",
       "      <td>Modelling and simulation analyst</td>\n",
       "      <td>Mathematical Modeller / Simulation Analyst / O...</td>\n",
       "      <td>Hampshire, South East, South East</td>\n",
       "      <td>Hampshire</td>\n",
       "      <td>NaN</td>\n",
       "      <td>permanent</td>\n",
       "      <td>Gregory Martin International</td>\n",
       "      <td>Engineering Jobs</td>\n",
       "      <td>20000 - 40000/annum 20-40K</td>\n",
       "      <td>30000</td>\n",
       "      <td>cv-library.co.uk</td>\n",
       "    </tr>\n",
       "    <tr>\n",
       "      <th>3</th>\n",
       "      <td>12613049</td>\n",
       "      <td>Engineering Systems Analyst / Mathematical Mod...</td>\n",
       "      <td>Engineering Systems Analyst / Mathematical Mod...</td>\n",
       "      <td>Surrey, South East, South East</td>\n",
       "      <td>Surrey</td>\n",
       "      <td>NaN</td>\n",
       "      <td>permanent</td>\n",
       "      <td>Gregory Martin International</td>\n",
       "      <td>Engineering Jobs</td>\n",
       "      <td>25000 - 30000/annum 25K-30K negotiable</td>\n",
       "      <td>27500</td>\n",
       "      <td>cv-library.co.uk</td>\n",
       "    </tr>\n",
       "    <tr>\n",
       "      <th>4</th>\n",
       "      <td>12613647</td>\n",
       "      <td>Pioneer, Miser Engineering Systems Analyst</td>\n",
       "      <td>Pioneer, Miser  Engineering Systems Analyst Do...</td>\n",
       "      <td>Surrey, South East, South East</td>\n",
       "      <td>Surrey</td>\n",
       "      <td>NaN</td>\n",
       "      <td>permanent</td>\n",
       "      <td>Gregory Martin International</td>\n",
       "      <td>Engineering Jobs</td>\n",
       "      <td>20000 - 30000/annum 20-30K</td>\n",
       "      <td>25000</td>\n",
       "      <td>cv-library.co.uk</td>\n",
       "    </tr>\n",
       "    <tr>\n",
       "      <th>...</th>\n",
       "      <td>...</td>\n",
       "      <td>...</td>\n",
       "      <td>...</td>\n",
       "      <td>...</td>\n",
       "      <td>...</td>\n",
       "      <td>...</td>\n",
       "      <td>...</td>\n",
       "      <td>...</td>\n",
       "      <td>...</td>\n",
       "      <td>...</td>\n",
       "      <td>...</td>\n",
       "      <td>...</td>\n",
       "    </tr>\n",
       "    <tr>\n",
       "      <th>244763</th>\n",
       "      <td>72705211</td>\n",
       "      <td>TEACHER OF SCIENCE</td>\n",
       "      <td>Position: Qualified Teacher Subject/Specialism...</td>\n",
       "      <td>Swindon</td>\n",
       "      <td>Swindon</td>\n",
       "      <td>NaN</td>\n",
       "      <td>contract</td>\n",
       "      <td>NaN</td>\n",
       "      <td>Teaching Jobs</td>\n",
       "      <td>450 - 500 per week</td>\n",
       "      <td>22800</td>\n",
       "      <td>hays.co.uk</td>\n",
       "    </tr>\n",
       "    <tr>\n",
       "      <th>244764</th>\n",
       "      <td>72705212</td>\n",
       "      <td>TEACHER OF BUSINESS STUDIES AND ICT</td>\n",
       "      <td>Position: Qualified Teacher or NQT Subject/Spe...</td>\n",
       "      <td>Swindon</td>\n",
       "      <td>Swindon</td>\n",
       "      <td>NaN</td>\n",
       "      <td>contract</td>\n",
       "      <td>NaN</td>\n",
       "      <td>Teaching Jobs</td>\n",
       "      <td>450 - 500 per week</td>\n",
       "      <td>22800</td>\n",
       "      <td>hays.co.uk</td>\n",
       "    </tr>\n",
       "    <tr>\n",
       "      <th>244765</th>\n",
       "      <td>72705213</td>\n",
       "      <td>ENGLISH TEACHER</td>\n",
       "      <td>Position: Qualified Teacher Subject/Specialism...</td>\n",
       "      <td>Swindon</td>\n",
       "      <td>Swindon</td>\n",
       "      <td>NaN</td>\n",
       "      <td>contract</td>\n",
       "      <td>NaN</td>\n",
       "      <td>Teaching Jobs</td>\n",
       "      <td>450 - 500 per week</td>\n",
       "      <td>22800</td>\n",
       "      <td>hays.co.uk</td>\n",
       "    </tr>\n",
       "    <tr>\n",
       "      <th>244766</th>\n",
       "      <td>72705216</td>\n",
       "      <td>SUPPLY TEACHERS</td>\n",
       "      <td>Position: Qualified Teacher Subject/Specialism...</td>\n",
       "      <td>Wiltshire</td>\n",
       "      <td>Wiltshire</td>\n",
       "      <td>NaN</td>\n",
       "      <td>contract</td>\n",
       "      <td>NaN</td>\n",
       "      <td>Teaching Jobs</td>\n",
       "      <td>450 to 500 per week</td>\n",
       "      <td>22800</td>\n",
       "      <td>hays.co.uk</td>\n",
       "    </tr>\n",
       "    <tr>\n",
       "      <th>244767</th>\n",
       "      <td>72705235</td>\n",
       "      <td>Accountant</td>\n",
       "      <td>This entrepreneurial and growing private equit...</td>\n",
       "      <td>Hitchin</td>\n",
       "      <td>Hitchin</td>\n",
       "      <td>NaN</td>\n",
       "      <td>permanent</td>\n",
       "      <td>NaN</td>\n",
       "      <td>Teaching Jobs</td>\n",
       "      <td>40-45,000</td>\n",
       "      <td>42500</td>\n",
       "      <td>hays.co.uk</td>\n",
       "    </tr>\n",
       "  </tbody>\n",
       "</table>\n",
       "<p>244768 rows × 12 columns</p>\n",
       "</div>"
      ],
      "text/plain": [
       "              Id                                              Title  \\\n",
       "0       12612628                        Engineering Systems Analyst   \n",
       "1       12612830                            Stress Engineer Glasgow   \n",
       "2       12612844                   Modelling and simulation analyst   \n",
       "3       12613049  Engineering Systems Analyst / Mathematical Mod...   \n",
       "4       12613647         Pioneer, Miser Engineering Systems Analyst   \n",
       "...          ...                                                ...   \n",
       "244763  72705211                                 TEACHER OF SCIENCE   \n",
       "244764  72705212                TEACHER OF BUSINESS STUDIES AND ICT   \n",
       "244765  72705213                                    ENGLISH TEACHER   \n",
       "244766  72705216                                    SUPPLY TEACHERS   \n",
       "244767  72705235                                         Accountant   \n",
       "\n",
       "                                          FullDescription  \\\n",
       "0       Engineering Systems Analyst Dorking Surrey Sal...   \n",
       "1       Stress Engineer Glasgow Salary **** to **** We...   \n",
       "2       Mathematical Modeller / Simulation Analyst / O...   \n",
       "3       Engineering Systems Analyst / Mathematical Mod...   \n",
       "4       Pioneer, Miser  Engineering Systems Analyst Do...   \n",
       "...                                                   ...   \n",
       "244763  Position: Qualified Teacher Subject/Specialism...   \n",
       "244764  Position: Qualified Teacher or NQT Subject/Spe...   \n",
       "244765  Position: Qualified Teacher Subject/Specialism...   \n",
       "244766  Position: Qualified Teacher Subject/Specialism...   \n",
       "244767  This entrepreneurial and growing private equit...   \n",
       "\n",
       "                              LocationRaw LocationNormalized ContractType  \\\n",
       "0                 Dorking, Surrey, Surrey            Dorking          NaN   \n",
       "1             Glasgow, Scotland, Scotland            Glasgow          NaN   \n",
       "2       Hampshire, South East, South East          Hampshire          NaN   \n",
       "3          Surrey, South East, South East             Surrey          NaN   \n",
       "4          Surrey, South East, South East             Surrey          NaN   \n",
       "...                                   ...                ...          ...   \n",
       "244763                            Swindon            Swindon          NaN   \n",
       "244764                            Swindon            Swindon          NaN   \n",
       "244765                            Swindon            Swindon          NaN   \n",
       "244766                          Wiltshire          Wiltshire          NaN   \n",
       "244767                            Hitchin            Hitchin          NaN   \n",
       "\n",
       "       ContractTime                       Company          Category  \\\n",
       "0         permanent  Gregory Martin International  Engineering Jobs   \n",
       "1         permanent  Gregory Martin International  Engineering Jobs   \n",
       "2         permanent  Gregory Martin International  Engineering Jobs   \n",
       "3         permanent  Gregory Martin International  Engineering Jobs   \n",
       "4         permanent  Gregory Martin International  Engineering Jobs   \n",
       "...             ...                           ...               ...   \n",
       "244763     contract                           NaN     Teaching Jobs   \n",
       "244764     contract                           NaN     Teaching Jobs   \n",
       "244765     contract                           NaN     Teaching Jobs   \n",
       "244766     contract                           NaN     Teaching Jobs   \n",
       "244767    permanent                           NaN     Teaching Jobs   \n",
       "\n",
       "                                     SalaryRaw  SalaryNormalized  \\\n",
       "0                   20000 - 30000/annum 20-30K             25000   \n",
       "1                   25000 - 35000/annum 25-35K             30000   \n",
       "2                   20000 - 40000/annum 20-40K             30000   \n",
       "3       25000 - 30000/annum 25K-30K negotiable             27500   \n",
       "4                   20000 - 30000/annum 20-30K             25000   \n",
       "...                                        ...               ...   \n",
       "244763                      450 - 500 per week             22800   \n",
       "244764                      450 - 500 per week             22800   \n",
       "244765                      450 - 500 per week             22800   \n",
       "244766                     450 to 500 per week             22800   \n",
       "244767                               40-45,000             42500   \n",
       "\n",
       "              SourceName  \n",
       "0       cv-library.co.uk  \n",
       "1       cv-library.co.uk  \n",
       "2       cv-library.co.uk  \n",
       "3       cv-library.co.uk  \n",
       "4       cv-library.co.uk  \n",
       "...                  ...  \n",
       "244763        hays.co.uk  \n",
       "244764        hays.co.uk  \n",
       "244765        hays.co.uk  \n",
       "244766        hays.co.uk  \n",
       "244767        hays.co.uk  \n",
       "\n",
       "[244768 rows x 12 columns]"
      ]
     },
     "execution_count": 113,
     "metadata": {},
     "output_type": "execute_result"
    }
   ],
   "source": [
    "data = pd.read_csv('train.csv')\n",
    "\n",
    "data"
   ]
  },
  {
   "cell_type": "code",
   "execution_count": 85,
   "id": "6414cc15-9a42-441e-a26c-7487e16f1c7f",
   "metadata": {},
   "outputs": [
    {
     "data": {
      "image/png": "[encoded data removed]",
      "text/plain": [
       "<Figure size 576x288 with 2 Axes>"
      ]
     },
     "metadata": {
      "needs_background": "light"
     },
     "output_type": "display_data"
    }
   ],
   "source": [
    "data['Log1pSalary'] = np.log1p(data['SalaryNormalized']).astype('float32')\n",
    "\n",
    "plt.figure(figsize=[8, 4])\n",
    "plt.subplot(1, 2, 1)\n",
    "plt.hist(data[\"SalaryNormalized\"], bins=20);\n",
    "\n",
    "plt.subplot(1, 2, 2)\n",
    "plt.hist(data['Log1pSalary'], bins=20);"
   ]
  },
  {
   "cell_type": "code",
   "execution_count": 86,
   "id": "2615f360-3cc0-4ce8-99b6-54cab7335558",
   "metadata": {},
   "outputs": [
    {
     "data": {
      "text/html": [
       "<div>\n",
       "<style scoped>\n",
       "    .dataframe tbody tr th:only-of-type {\n",
       "        vertical-align: middle;\n",
       "    }\n",
       "\n",
       "    .dataframe tbody tr th {\n",
       "        vertical-align: top;\n",
       "    }\n",
       "\n",
       "    .dataframe thead th {\n",
       "        text-align: right;\n",
       "    }\n",
       "</style>\n",
       "<table border=\"1\" class=\"dataframe\">\n",
       "  <thead>\n",
       "    <tr style=\"text-align: right;\">\n",
       "      <th></th>\n",
       "      <th>Id</th>\n",
       "      <th>Title</th>\n",
       "      <th>FullDescription</th>\n",
       "      <th>LocationRaw</th>\n",
       "      <th>LocationNormalized</th>\n",
       "      <th>ContractType</th>\n",
       "      <th>ContractTime</th>\n",
       "      <th>Company</th>\n",
       "      <th>Category</th>\n",
       "      <th>SalaryRaw</th>\n",
       "      <th>SalaryNormalized</th>\n",
       "      <th>SourceName</th>\n",
       "      <th>Log1pSalary</th>\n",
       "    </tr>\n",
       "  </thead>\n",
       "  <tbody>\n",
       "    <tr>\n",
       "      <th>0</th>\n",
       "      <td>12612628</td>\n",
       "      <td>Engineering Systems Analyst</td>\n",
       "      <td>Engineering Systems Analyst Dorking Surrey Sal...</td>\n",
       "      <td>Dorking, Surrey, Surrey</td>\n",
       "      <td>Dorking</td>\n",
       "      <td>NaN</td>\n",
       "      <td>permanent</td>\n",
       "      <td>Gregory Martin International</td>\n",
       "      <td>Engineering Jobs</td>\n",
       "      <td>20000 - 30000/annum 20-30K</td>\n",
       "      <td>25000</td>\n",
       "      <td>cv-library.co.uk</td>\n",
       "      <td>10.126671</td>\n",
       "    </tr>\n",
       "    <tr>\n",
       "      <th>1</th>\n",
       "      <td>12612830</td>\n",
       "      <td>Stress Engineer Glasgow</td>\n",
       "      <td>Stress Engineer Glasgow Salary **** to **** We...</td>\n",
       "      <td>Glasgow, Scotland, Scotland</td>\n",
       "      <td>Glasgow</td>\n",
       "      <td>NaN</td>\n",
       "      <td>permanent</td>\n",
       "      <td>Gregory Martin International</td>\n",
       "      <td>Engineering Jobs</td>\n",
       "      <td>25000 - 35000/annum 25-35K</td>\n",
       "      <td>30000</td>\n",
       "      <td>cv-library.co.uk</td>\n",
       "      <td>10.308986</td>\n",
       "    </tr>\n",
       "    <tr>\n",
       "      <th>2</th>\n",
       "      <td>12612844</td>\n",
       "      <td>Modelling and simulation analyst</td>\n",
       "      <td>Mathematical Modeller / Simulation Analyst / O...</td>\n",
       "      <td>Hampshire, South East, South East</td>\n",
       "      <td>Hampshire</td>\n",
       "      <td>NaN</td>\n",
       "      <td>permanent</td>\n",
       "      <td>Gregory Martin International</td>\n",
       "      <td>Engineering Jobs</td>\n",
       "      <td>20000 - 40000/annum 20-40K</td>\n",
       "      <td>30000</td>\n",
       "      <td>cv-library.co.uk</td>\n",
       "      <td>10.308986</td>\n",
       "    </tr>\n",
       "  </tbody>\n",
       "</table>\n",
       "</div>"
      ],
      "text/plain": [
       "         Id                             Title  \\\n",
       "0  12612628       Engineering Systems Analyst   \n",
       "1  12612830           Stress Engineer Glasgow   \n",
       "2  12612844  Modelling and simulation analyst   \n",
       "\n",
       "                                     FullDescription  \\\n",
       "0  Engineering Systems Analyst Dorking Surrey Sal...   \n",
       "1  Stress Engineer Glasgow Salary **** to **** We...   \n",
       "2  Mathematical Modeller / Simulation Analyst / O...   \n",
       "\n",
       "                         LocationRaw LocationNormalized ContractType  \\\n",
       "0            Dorking, Surrey, Surrey            Dorking          NaN   \n",
       "1        Glasgow, Scotland, Scotland            Glasgow          NaN   \n",
       "2  Hampshire, South East, South East          Hampshire          NaN   \n",
       "\n",
       "  ContractTime                       Company          Category  \\\n",
       "0    permanent  Gregory Martin International  Engineering Jobs   \n",
       "1    permanent  Gregory Martin International  Engineering Jobs   \n",
       "2    permanent  Gregory Martin International  Engineering Jobs   \n",
       "\n",
       "                    SalaryRaw  SalaryNormalized        SourceName  Log1pSalary  \n",
       "0  20000 - 30000/annum 20-30K             25000  cv-library.co.uk    10.126671  \n",
       "1  25000 - 35000/annum 25-35K             30000  cv-library.co.uk    10.308986  \n",
       "2  20000 - 40000/annum 20-40K             30000  cv-library.co.uk    10.308986  "
      ]
     },
     "execution_count": 86,
     "metadata": {},
     "output_type": "execute_result"
    }
   ],
   "source": [
    "text_columns = [\"Title\", \"FullDescription\"]\n",
    "\n",
    "categorical_columns = [\"Category\", \"Company\", \"LocationNormalized\", \"ContractType\", \"ContractTime\"]\n",
    "\n",
    "TARGET_COLUMN = \"Log1pSalary\"\n",
    "\n",
    "data[categorical_columns] = data[categorical_columns].fillna('NaN')\n",
    "\n",
    "data.head(3)"
   ]
  },
  {
   "cell_type": "code",
   "execution_count": 87,
   "id": "625f682e-861d-4380-aae9-d14ad7660691",
   "metadata": {},
   "outputs": [],
   "source": [
    "import nltk\n",
    "\n",
    "from nltk import WordPunctTokenizer\n",
    "\n",
    "tokenizer = nltk.tokenize.WordPunctTokenizer()\n",
    "\n",
    "# Will have Title as string of space separated tokens \n",
    "data['Title'] = data['Title'].apply(lambda x: \" \".join((tokenizer.tokenize(str(x).lower()))))\n",
    "# Will have FullDescription as string of space separated tokens \n",
    "data['FullDescription'] = data['FullDescription'].apply(lambda x: \" \".join((tokenizer.tokenize(str(x).lower()))))"
   ]
  },
  {
   "cell_type": "code",
   "execution_count": 88,
   "id": "827347df-fb85-48dd-802d-5e0534eb8eef",
   "metadata": {},
   "outputs": [],
   "source": [
    "from collections import Counter"
   ]
  },
  {
   "cell_type": "code",
   "execution_count": 89,
   "id": "26080806-09c7-4020-a5e8-40ee7e677a5e",
   "metadata": {},
   "outputs": [],
   "source": [
    "title_tokens_count = Counter(sum([i.split() for i in data['Title']], []))\n",
    "descr_tokens_count = Counter(sum([i.split() for i in data['FullDescription']], []))\n",
    "\n",
    "tokens_count       = title_tokens_count + descr_tokens_count"
   ]
  },
  {
   "cell_type": "code",
   "execution_count": 90,
   "id": "67664681-4da2-4b2a-af2c-d8af51d5a477",
   "metadata": {},
   "outputs": [
    {
     "name": "stdout",
     "output_type": "stream",
     "text": [
      "2891 unique tokens\n"
     ]
    }
   ],
   "source": [
    "print(f'{len(tokens_count)} unique tokens')"
   ]
  },
  {
   "cell_type": "code",
   "execution_count": 91,
   "id": "b3fd1e57-b0e3-432b-91a8-e3bd0c59d966",
   "metadata": {},
   "outputs": [
    {
     "data": {
      "text/plain": [
       "['UNK',\n",
       " 'PAD',\n",
       " 'engineering',\n",
       " 'systems',\n",
       " 'analyst',\n",
       " 'stress',\n",
       " 'engineer',\n",
       " 'modelling',\n",
       " 'and',\n",
       " 'simulation']"
      ]
     },
     "execution_count": 91,
     "metadata": {},
     "output_type": "execute_result"
    }
   ],
   "source": [
    "min_count = 10\n",
    "tokens    = [token for token, count in tokens_count.items() if count > min_count]\n",
    "# Add special tokens for unknown and padding\n",
    "UNK, PAD  = \"UNK\", \"PAD\"\n",
    "tokens    = [UNK, PAD] + tokens\n",
    "\n",
    "tokens[:10]"
   ]
  },
  {
   "cell_type": "code",
   "execution_count": 92,
   "id": "0bb10318-788a-4dbb-8fec-640d15803c19",
   "metadata": {},
   "outputs": [
    {
     "name": "stdout",
     "output_type": "stream",
     "text": [
      "Vocabulary size is 436\n"
     ]
    }
   ],
   "source": [
    "print(\"Vocabulary size is\", len(tokens))"
   ]
  },
  {
   "cell_type": "code",
   "execution_count": 93,
   "id": "0c43374b-58a7-44d7-9259-fa6be5c772a0",
   "metadata": {},
   "outputs": [],
   "source": [
    "# Toke index\n",
    "token_to_idx = {token: tokens.index(token) for token in tokens}"
   ]
  },
  {
   "cell_type": "code",
   "execution_count": 94,
   "id": "899eca0b-79ff-434f-8db9-4c5bc4ff6d7c",
   "metadata": {},
   "outputs": [],
   "source": [
    "UNK_IX, PAD_IX = map(token_to_idx.get, [UNK, PAD])\n",
    "\n",
    "\n",
    "def as_matrix(sequences):\n",
    "    sequences = list(map(tokenizer.tokenize, sequences))\n",
    "    \n",
    "    max_len = max(map(len, sequences))\n",
    "    \n",
    "    matrix = np.full((len(sequences), max_len), np.int32(PAD_IX))\n",
    "    \n",
    "    for i, seq in enumerate(sequences):\n",
    "        row_idxs = [token_to_idx.get(token, UNK_IX) for token in seq]\n",
    "        matrix[i, :len(row_idxs)] = row_idxs\n",
    "    \n",
    "    return matrix"
   ]
  },
  {
   "cell_type": "code",
   "execution_count": 95,
   "id": "83d57e62-8279-4248-a7ca-fe9e85899a9c",
   "metadata": {},
   "outputs": [
    {
     "data": {
      "text/plain": [
       "array([[  0,  12,   0,   0,   0],\n",
       "       [  0, 291,   0,   0,   1]], dtype=int32)"
      ]
     },
     "execution_count": 95,
     "metadata": {},
     "output_type": "execute_result"
    }
   ],
   "source": [
    "as_matrix(['Hi, I am cat',\n",
    "           'I like data science'])"
   ]
  },
  {
   "cell_type": "code",
   "execution_count": 96,
   "id": "ba9b15c7-e2f2-4e66-b4bb-2fd7e4327a41",
   "metadata": {},
   "outputs": [
    {
     "data": {
      "text/plain": [
       "0     Gregory Martin International\n",
       "1     Gregory Martin International\n",
       "2     Gregory Martin International\n",
       "3     Gregory Martin International\n",
       "4     Gregory Martin International\n",
       "                  ...             \n",
       "95                 Clear Selection\n",
       "96                 Clear Selection\n",
       "97         MatchBox Recruiting Ltd\n",
       "98                 Clear Selection\n",
       "99               Chess Partnership\n",
       "Name: Company, Length: 100, dtype: object"
      ]
     },
     "execution_count": 96,
     "metadata": {},
     "output_type": "execute_result"
    }
   ],
   "source": [
    "k = 10\n",
    "\n",
    "top_k_companies_names, top_k_companies_counts = zip(*Counter(data['Company']).most_common(k))\n",
    "\n",
    "unique_top_k_companies_names = set(top_k_companies_names)\n",
    "\n",
    "data['Company'] = data['Company'].apply(lambda comp: comp if comp in unique_top_k_companies_names else \"Other\")\n",
    "\n",
    "data['Company']"
   ]
  },
  {
   "cell_type": "code",
   "execution_count": 97,
   "id": "9c26a80d-cafd-4436-a7d4-ed7fd3a8fe90",
   "metadata": {},
   "outputs": [
    {
     "data": {
      "text/plain": [
       "DictVectorizer(dtype=<class 'numpy.float32'>, sparse=False)"
      ]
     },
     "execution_count": 97,
     "metadata": {},
     "output_type": "execute_result"
    }
   ],
   "source": [
    "from sklearn.feature_extraction import DictVectorizer\n",
    "\n",
    "categorical_vectorizer = DictVectorizer(dtype=np.float32, sparse=False)\n",
    "\n",
    "categorical_vectorizer.fit(data[categorical_columns].apply(dict, axis=1))"
   ]
  },
  {
   "cell_type": "code",
   "execution_count": 98,
   "id": "4c517bcf-8f94-41be-809c-f5cfe9b5bbb0",
   "metadata": {},
   "outputs": [
    {
     "name": "stdout",
     "output_type": "stream",
     "text": [
      "Train size =  80\n",
      "Validation size =  20\n"
     ]
    }
   ],
   "source": [
    "from sklearn.model_selection import train_test_split\n",
    "\n",
    "data_train, data_val = train_test_split(data, test_size=0.2, random_state=42)\n",
    "data_train.index     = range(len(data_train))\n",
    "data_val.index       = range(len(data_val))\n",
    "\n",
    "print(\"Train size = \", len(data_train))\n",
    "print(\"Validation size = \", len(data_val))"
   ]
  },
  {
   "cell_type": "code",
   "execution_count": 99,
   "id": "7e037b99-fd9d-49a1-b314-8de8a9f97bda",
   "metadata": {},
   "outputs": [],
   "source": [
    "def make_batch(data, batch_size, title_word_dropout=0, descr_word_dropout=0):\n",
    "    batch = {}\n",
    "    \n",
    "    batch[\"FullDescription\"] = as_matrix(data[\"FullDescription\"].values)\n",
    "    batch[\"Title\"] = as_matrix(data[\"Title\"].values)\n",
    "    \n",
    "    batch['Categorical'] = categorical_vectorizer.transform(data[categorical_columns].apply(dict, axis=1))\n",
    "    \n",
    "    if title_word_dropout != 0:\n",
    "        batch[\"Title\"] = apply_word_dropout(batch[\"Title\"], keep_prop= 1. - title_word_dropout)\n",
    "    if descr_word_dropout !=0:\n",
    "        batch[\"FullDescription\"] = apply_word_dropout(batch[\"FullDescription\"], keep_prop= 1. - descr_word_dropout)\n",
    "    if TARGET_COLUMN in data.columns:\n",
    "        batch[TARGET_COLUMN] = data[TARGET_COLUMN].values\n",
    "\n",
    "    \n",
    "    return to_tensors(batch)\n",
    "\n",
    "\n",
    "\n",
    "def apply_word_dropout(matrix, keep_prop, replace_with=UNK_IX, pad_ix=PAD_IX,):\n",
    "    \"\"\"\n",
    "    matrix: numpy array, needed to use matrix != pad_ix mask condition\n",
    "    because we dont want to set UNK to the PAD\n",
    "    \"\"\"\n",
    "    dropout_mask = np.random.choice(2, np.shape(matrix), p=[keep_prop, 1 - keep_prop])\n",
    "    dropout_mask &= matrix != pad_ix\n",
    "    return np.choose(dropout_mask, [matrix, np.full_like(matrix, replace_with)])\n",
    "\n",
    "\n",
    "\n",
    "def to_tensors(batch):\n",
    "    batch_tensors = dict()\n",
    "    for key, arr in batch.items():\n",
    "        batch_tensors[key] = torch.tensor(arr)\n",
    "    return batch_tensors"
   ]
  },
  {
   "cell_type": "code",
   "execution_count": 100,
   "id": "f7341638-2d50-4427-81c0-54931b4e240a",
   "metadata": {},
   "outputs": [],
   "source": [
    "class Model(nn.Module):\n",
    "    \n",
    "    def __init__(self, embedding_dim=64, n_tokens=len(tokens), n_cat_features=len(categorical_vectorizer.vocabulary_)):\n",
    "        super().__init__()\n",
    "        \n",
    "        self.full_description_emb = nn.Embedding(n_tokens, embedding_dim)\n",
    "        self.title_emb = nn.Embedding(n_tokens, embedding_dim)\n",
    "        \n",
    "        self.full_description_seq = nn.Sequential(\n",
    "            nn.Conv1d(in_channels=embedding_dim, out_channels=16, kernel_size=3, stride=1),\n",
    "            nn.Tanh()\n",
    "        )\n",
    "        \n",
    "        self.title_seq = nn.Sequential(\n",
    "            nn.Conv1d(in_channels=embedding_dim, out_channels=16, kernel_size=3, stride=1),\n",
    "            nn.Tanh()\n",
    "        )\n",
    "        \n",
    "        self.categorical_seq = nn.Linear(in_features=n_cat_features, out_features=16)\n",
    "        \n",
    "        self.final = nn.Linear(in_features=16 * 3, out_features=1)\n",
    "    \n",
    "    def forward(self, batch):\n",
    "        full_description = batch[\"FullDescription\"]\n",
    "        title = batch[\"Title\"]\n",
    "        categorical = batch[\"Categorical\"]\n",
    "        \n",
    "        full_description_emb = self.full_description_emb(full_description).transpose(1, 2)\n",
    "        full_description_output = self.full_description_seq(full_description_emb).mean(dim=2)\n",
    "        \n",
    "        title_emb = self.title_emb(title).transpose(1, 2)\n",
    "        title_output = self.title_seq(title_emb).mean(dim=2)\n",
    "        \n",
    "        categorical_output = self.categorical_seq(categorical)\n",
    "\n",
    "        merged_output = torch.cat([full_description_output, title_output, categorical_output], dim=1)\n",
    "\n",
    "        output = self.final(merged_output).reshape(-1)\n",
    "        return output"
   ]
  },
  {
   "cell_type": "code",
   "execution_count": 101,
   "id": "867cd704-98ad-4259-bcfc-6e94563466d5",
   "metadata": {},
   "outputs": [],
   "source": [
    "def iterate_minibatches(data, batch_size=256, shuffle=True, device=torch.device('cpu'), **kwargs):\n",
    "    indices = np.arange(len(data))\n",
    "    if shuffle:\n",
    "        indices = np.random.permutation(indices)\n",
    "\n",
    "    for start in range(0, len(indices), batch_size):\n",
    "        batch = make_batch(data.iloc[indices[start : start + batch_size]], batch_size=batch_size, **kwargs)\n",
    "        yield batch"
   ]
  },
  {
   "cell_type": "code",
   "execution_count": 102,
   "id": "4c99ed6f-7e09-45d0-907f-eb167027d5c3",
   "metadata": {},
   "outputs": [],
   "source": [
    "import tqdm\n",
    "\n",
    "BATCH_SIZE = 16\n",
    "EPOCHS = 20\n",
    "DEVICE = torch.device('cpu')\n",
    "\n",
    "\n",
    "def print_metrics(model, data, batch_size=BATCH_SIZE, name=\"\", **kw):\n",
    "    squared_error = abs_error = num_samples = 0.0\n",
    "    model.eval()\n",
    "    with torch.no_grad():\n",
    "        for batch in iterate_minibatches(data, batch_size=batch_size, shuffle=False, **kw):\n",
    "            batch_pred = model(batch)\n",
    "            squared_error += torch.sum(torch.square(batch_pred - batch[TARGET_COLUMN]))\n",
    "            abs_error += torch.sum(torch.abs(batch_pred - batch[TARGET_COLUMN]))\n",
    "            num_samples += len(batch_pred)\n",
    "    mse = squared_error.detach().cpu().numpy() / num_samples\n",
    "    mae = abs_error.detach().cpu().numpy() / num_samples\n",
    "    print(\"%s results:\" % (name or \"\"))\n",
    "    print(\"Mean square error: %.5f\" % mse)\n",
    "    print(\"Mean absolute error: %.5f\" % mae)\n",
    "    return mse, mae"
   ]
  },
  {
   "cell_type": "code",
   "execution_count": 103,
   "id": "e9090c63-8a93-445c-93db-8974e1e8e5bd",
   "metadata": {},
   "outputs": [],
   "source": [
    "model     = Model()\n",
    "criterion = nn.MSELoss(reduction='sum')\n",
    "optimizer = torch.optim.SGD(model.parameters(), lr=1e-4)"
   ]
  },
  {
   "cell_type": "code",
   "execution_count": 104,
   "id": "f7c8a41f-61bf-4995-918d-d960298b1986",
   "metadata": {},
   "outputs": [
    {
     "name": "stdout",
     "output_type": "stream",
     "text": [
      "epoch: 0\n"
     ]
    },
    {
     "data": {
      "application/vnd.jupyter.widget-view+json": {
       "model_id": "b2b364882dd546b790ca52682c0e0eac",
       "version_major": 2,
       "version_minor": 0
      },
      "text/plain": [
       "  0%|          | 0/5 [00:00<?, ?it/s]"
      ]
     },
     "metadata": {},
     "output_type": "display_data"
    },
    {
     "name": "stdout",
     "output_type": "stream",
     "text": [
      " results:\n",
      "Mean square error: 73.72325\n",
      "Mean absolute error: 8.57132\n",
      "epoch: 1\n"
     ]
    },
    {
     "data": {
      "application/vnd.jupyter.widget-view+json": {
       "model_id": "25d70421d84c40d78a174a0270254fec",
       "version_major": 2,
       "version_minor": 0
      },
      "text/plain": [
       "  0%|          | 0/5 [00:00<?, ?it/s]"
      ]
     },
     "metadata": {},
     "output_type": "display_data"
    },
    {
     "name": "stdout",
     "output_type": "stream",
     "text": [
      "epoch: 2\n"
     ]
    },
    {
     "data": {
      "application/vnd.jupyter.widget-view+json": {
       "model_id": "ac76d8fa36134206bf3067486a7e1949",
       "version_major": 2,
       "version_minor": 0
      },
      "text/plain": [
       "  0%|          | 0/5 [00:00<?, ?it/s]"
      ]
     },
     "metadata": {},
     "output_type": "display_data"
    },
    {
     "name": "stdout",
     "output_type": "stream",
     "text": [
      "epoch: 3\n"
     ]
    },
    {
     "data": {
      "application/vnd.jupyter.widget-view+json": {
       "model_id": "cc3b2b0658304599a0b27e868240d631",
       "version_major": 2,
       "version_minor": 0
      },
      "text/plain": [
       "  0%|          | 0/5 [00:00<?, ?it/s]"
      ]
     },
     "metadata": {},
     "output_type": "display_data"
    },
    {
     "name": "stdout",
     "output_type": "stream",
     "text": [
      "epoch: 4\n"
     ]
    },
    {
     "data": {
      "application/vnd.jupyter.widget-view+json": {
       "model_id": "e5f2929b2eac409190620f2d55ae4bb6",
       "version_major": 2,
       "version_minor": 0
      },
      "text/plain": [
       "  0%|          | 0/5 [00:00<?, ?it/s]"
      ]
     },
     "metadata": {},
     "output_type": "display_data"
    },
    {
     "name": "stdout",
     "output_type": "stream",
     "text": [
      "epoch: 5\n"
     ]
    },
    {
     "data": {
      "application/vnd.jupyter.widget-view+json": {
       "model_id": "48935e89fe2843ebbddcd760e90c7354",
       "version_major": 2,
       "version_minor": 0
      },
      "text/plain": [
       "  0%|          | 0/5 [00:00<?, ?it/s]"
      ]
     },
     "metadata": {},
     "output_type": "display_data"
    },
    {
     "name": "stdout",
     "output_type": "stream",
     "text": [
      "epoch: 6\n"
     ]
    },
    {
     "data": {
      "application/vnd.jupyter.widget-view+json": {
       "model_id": "681f89f7453544d9a1e72c74494fc322",
       "version_major": 2,
       "version_minor": 0
      },
      "text/plain": [
       "  0%|          | 0/5 [00:00<?, ?it/s]"
      ]
     },
     "metadata": {},
     "output_type": "display_data"
    },
    {
     "name": "stdout",
     "output_type": "stream",
     "text": [
      "epoch: 7\n"
     ]
    },
    {
     "data": {
      "application/vnd.jupyter.widget-view+json": {
       "model_id": "efa9b06c5fb949388879e0ff15ae7cf4",
       "version_major": 2,
       "version_minor": 0
      },
      "text/plain": [
       "  0%|          | 0/5 [00:00<?, ?it/s]"
      ]
     },
     "metadata": {},
     "output_type": "display_data"
    },
    {
     "name": "stdout",
     "output_type": "stream",
     "text": [
      "epoch: 8\n"
     ]
    },
    {
     "data": {
      "application/vnd.jupyter.widget-view+json": {
       "model_id": "9030fd4a7c1a4325af45cfc494801df0",
       "version_major": 2,
       "version_minor": 0
      },
      "text/plain": [
       "  0%|          | 0/5 [00:00<?, ?it/s]"
      ]
     },
     "metadata": {},
     "output_type": "display_data"
    },
    {
     "name": "stdout",
     "output_type": "stream",
     "text": [
      "epoch: 9\n"
     ]
    },
    {
     "data": {
      "application/vnd.jupyter.widget-view+json": {
       "model_id": "8ab84a2e0a13484aac4149a13987744a",
       "version_major": 2,
       "version_minor": 0
      },
      "text/plain": [
       "  0%|          | 0/5 [00:00<?, ?it/s]"
      ]
     },
     "metadata": {},
     "output_type": "display_data"
    },
    {
     "name": "stdout",
     "output_type": "stream",
     "text": [
      "epoch: 10\n"
     ]
    },
    {
     "data": {
      "application/vnd.jupyter.widget-view+json": {
       "model_id": "3b12b9b494114189809a5f3c8bbe12a7",
       "version_major": 2,
       "version_minor": 0
      },
      "text/plain": [
       "  0%|          | 0/5 [00:00<?, ?it/s]"
      ]
     },
     "metadata": {},
     "output_type": "display_data"
    },
    {
     "name": "stdout",
     "output_type": "stream",
     "text": [
      " results:\n",
      "Mean square error: 2.18108\n",
      "Mean absolute error: 1.21677\n",
      "epoch: 11\n"
     ]
    },
    {
     "data": {
      "application/vnd.jupyter.widget-view+json": {
       "model_id": "2bd59ab8b8e445b3850131acd1ef4567",
       "version_major": 2,
       "version_minor": 0
      },
      "text/plain": [
       "  0%|          | 0/5 [00:00<?, ?it/s]"
      ]
     },
     "metadata": {},
     "output_type": "display_data"
    },
    {
     "name": "stdout",
     "output_type": "stream",
     "text": [
      "epoch: 12\n"
     ]
    },
    {
     "data": {
      "application/vnd.jupyter.widget-view+json": {
       "model_id": "f9c33aa2a0cf41c2a04dbe0bd446ed80",
       "version_major": 2,
       "version_minor": 0
      },
      "text/plain": [
       "  0%|          | 0/5 [00:00<?, ?it/s]"
      ]
     },
     "metadata": {},
     "output_type": "display_data"
    },
    {
     "name": "stdout",
     "output_type": "stream",
     "text": [
      "epoch: 13\n"
     ]
    },
    {
     "data": {
      "application/vnd.jupyter.widget-view+json": {
       "model_id": "a34623633dfc442d8fb6bfbddebbebfa",
       "version_major": 2,
       "version_minor": 0
      },
      "text/plain": [
       "  0%|          | 0/5 [00:00<?, ?it/s]"
      ]
     },
     "metadata": {},
     "output_type": "display_data"
    },
    {
     "name": "stdout",
     "output_type": "stream",
     "text": [
      "epoch: 14\n"
     ]
    },
    {
     "data": {
      "application/vnd.jupyter.widget-view+json": {
       "model_id": "b3c090f1b20f48b19daef58e8c0798c8",
       "version_major": 2,
       "version_minor": 0
      },
      "text/plain": [
       "  0%|          | 0/5 [00:00<?, ?it/s]"
      ]
     },
     "metadata": {},
     "output_type": "display_data"
    },
    {
     "name": "stdout",
     "output_type": "stream",
     "text": [
      "epoch: 15\n"
     ]
    },
    {
     "data": {
      "application/vnd.jupyter.widget-view+json": {
       "model_id": "df82fa21a6244d0d8c18a129af1509b1",
       "version_major": 2,
       "version_minor": 0
      },
      "text/plain": [
       "  0%|          | 0/5 [00:00<?, ?it/s]"
      ]
     },
     "metadata": {},
     "output_type": "display_data"
    },
    {
     "name": "stdout",
     "output_type": "stream",
     "text": [
      "epoch: 16\n"
     ]
    },
    {
     "data": {
      "application/vnd.jupyter.widget-view+json": {
       "model_id": "6d17155c8dc84c97ab05f00120161a53",
       "version_major": 2,
       "version_minor": 0
      },
      "text/plain": [
       "  0%|          | 0/5 [00:00<?, ?it/s]"
      ]
     },
     "metadata": {},
     "output_type": "display_data"
    },
    {
     "name": "stdout",
     "output_type": "stream",
     "text": [
      "epoch: 17\n"
     ]
    },
    {
     "data": {
      "application/vnd.jupyter.widget-view+json": {
       "model_id": "bbf724a5c6f24e4a8dbd5aa40578a9fb",
       "version_major": 2,
       "version_minor": 0
      },
      "text/plain": [
       "  0%|          | 0/5 [00:00<?, ?it/s]"
      ]
     },
     "metadata": {},
     "output_type": "display_data"
    },
    {
     "name": "stdout",
     "output_type": "stream",
     "text": [
      "epoch: 18\n"
     ]
    },
    {
     "data": {
      "application/vnd.jupyter.widget-view+json": {
       "model_id": "ba279b4b78a6471fa105dfae5cbbdf46",
       "version_major": 2,
       "version_minor": 0
      },
      "text/plain": [
       "  0%|          | 0/5 [00:00<?, ?it/s]"
      ]
     },
     "metadata": {},
     "output_type": "display_data"
    },
    {
     "name": "stdout",
     "output_type": "stream",
     "text": [
      "epoch: 19\n"
     ]
    },
    {
     "data": {
      "application/vnd.jupyter.widget-view+json": {
       "model_id": "919a7e21fea2485a81a02515c1502277",
       "version_major": 2,
       "version_minor": 0
      },
      "text/plain": [
       "  0%|          | 0/5 [00:00<?, ?it/s]"
      ]
     },
     "metadata": {},
     "output_type": "display_data"
    }
   ],
   "source": [
    "for epoch in range(EPOCHS):\n",
    "    print(f\"epoch: {epoch}\")\n",
    "    model.train()\n",
    "    for i, batch in tqdm.notebook.tqdm(enumerate(\n",
    "            iterate_minibatches(data_train, batch_size=BATCH_SIZE, device=DEVICE)),\n",
    "            total=len(data_train) // BATCH_SIZE\n",
    "        ):\n",
    "        pred = model(batch)\n",
    "        loss = criterion(pred, batch[TARGET_COLUMN])\n",
    "        optimizer.zero_grad()\n",
    "        loss.backward()\n",
    "        optimizer.step()\n",
    "        \n",
    "    if epoch % 10 == 0: \n",
    "        print_metrics(model, data_val)"
   ]
  },
  {
   "cell_type": "code",
   "execution_count": 105,
   "id": "260af998-074d-4882-917a-cb9880f05433",
   "metadata": {},
   "outputs": [],
   "source": [
    "def explain(model, sample, col_name, sensitivity=1):\n",
    "    sample_col_tokens = [tokens[token_to_idx.get(tok, 0)] for tok in sample[col_name].split()]\n",
    "\n",
    "    data_drop_one_token = pd.DataFrame([sample] * (len(sample_col_tokens)))\n",
    "    data_full           = pd.DataFrame([sample] * (len(sample_col_tokens)))\n",
    "\n",
    "    # Since we want to try to drop each word we will have\n",
    "    # to set 'number of words' times UNC to different position\n",
    "    batch_size = len(data_full)\n",
    "\n",
    "    text_col_idx = data_full.columns.get_loc(col_name)\n",
    "    text = data_drop_one_token.iloc[0, text_col_idx].split()\n",
    "\n",
    "    for i in range(batch_size):\n",
    "        data_drop_one_token.iloc[i, text_col_idx] = ' '.join([UNK if j == i else t for j, t in enumerate(text)])\n",
    "\n",
    "    data_drop_one_token_batch  = make_batch(data_drop_one_token, batch_size)\n",
    "    data_drop_one_token_output = model.forward(data_drop_one_token_batch)\n",
    "\n",
    "\n",
    "    data_baseline_batch = make_batch(data_full, batch_size)\n",
    "    data_baseline = model.forward(data_baseline_batch)\n",
    "\n",
    "    # if diff < 0 it means that without word, the price is higher,\n",
    "    # so probably its red flag, lets make it red\n",
    "    # and if diff > 0 it means that without price is lower\n",
    "    diff = (data_baseline - data_drop_one_token_output).detach() * sensitivity\n",
    "    return list(zip(text, diff))\n",
    "    \n",
    "# explain(model=model, sample=data.iloc[2], col_name='Title')"
   ]
  },
  {
   "cell_type": "code",
   "execution_count": 106,
   "id": "4962cb91-9e0e-40b4-a154-254e799bf223",
   "metadata": {},
   "outputs": [],
   "source": [
    "from IPython.display import HTML, display_html\n",
    "\n",
    "\n",
    "def draw_html(tokens_and_weights, cmap=plt.get_cmap(\"bwr\"), display=True,\n",
    "              token_template=\"\"\"<span style=\"background-color: {color_hex}\">{token}</span>\"\"\",\n",
    "              font_style=\"font-size:14px;\"):\n",
    "    \n",
    "    def get_color_hex(weight):\n",
    "        # weight here is out diff so when its < 0 then it means without this word\n",
    "        # price would be higher so its reg flag to delete\n",
    "        # Sigmoid kind of\n",
    "        rgba = cmap(1. / (1 + np.exp(weight.detach().numpy())), bytes=True)\n",
    "        return '#%02X%02X%02X' % rgba[:3]\n",
    "    \n",
    "    tokens_html = [\n",
    "        token_template.format(token=token, color_hex=get_color_hex(weight))\n",
    "        for token, weight in tokens_and_weights\n",
    "    ]\n",
    "    \n",
    "    raw_html = \"\"\"<p style=\"{}\">{}</p>\"\"\".format(font_style, ' '.join(tokens_html))\n",
    "    if display:\n",
    "        display_html(HTML(raw_html))\n",
    "        \n",
    "    return raw_html"
   ]
  },
  {
   "cell_type": "code",
   "execution_count": 107,
   "id": "57b79463-7b0c-4564-a8b5-ff3186a2dddf",
   "metadata": {},
   "outputs": [
    {
     "data": {
      "text/html": [
       "<p style=\"font-size:14px;\"><span style=\"background-color: #FFACAC\">control</span> <span style=\"background-color: #FF3838\">and</span> <span style=\"background-color: #FF3939\">instrumentation</span> <span style=\"background-color: #FF8383\">engineer</span></p>"
      ]
     },
     "metadata": {},
     "output_type": "display_data"
    },
    {
     "data": {
      "text/html": [
       "<p style=\"font-size:14px;\"><span style=\"background-color: #FFF2F2\">control</span> <span style=\"background-color: #FFEEEE\">and</span> <span style=\"background-color: #FFCECE\">instrumentation</span> <span style=\"background-color: #FFD3D3\">engineer</span> <span style=\"background-color: #FFDADA\">/</span> <span style=\"background-color: #FFE4E4\">c</span> <span style=\"background-color: #FFFEFE\">reading</span> <span style=\"background-color: #FFF2F2\">.</span> <span style=\"background-color: #FFE8E8\">our</span> <span style=\"background-color: #FFE2E2\">client</span> <span style=\"background-color: #FFD8D8\">is</span> <span style=\"background-color: #FFDEDE\">seeking</span> <span style=\"background-color: #FFD2D2\">applications</span> <span style=\"background-color: #FFDEDE\">from</span> <span style=\"background-color: #FFDCDC\">experienced</span> <span style=\"background-color: #FFDADA\">c</span> <span style=\"background-color: #FFD6D6\">control</span> <span style=\"background-color: #FFE2E2\">and</span> <span style=\"background-color: #FFCECE\">instrumentation</span> <span style=\"background-color: #FFD3D3\">engineer</span> <span style=\"background-color: #FFD6D6\">/</span> <span style=\"background-color: #FFDADA\">c</span> <span style=\"background-color: #FFDEDE\">degree</span> <span style=\"background-color: #FFD3D3\">(</span> <span style=\"background-color: #FFD2D2\">or</span> <span style=\"background-color: #FFD0D0\">equivalent</span> <span style=\"background-color: #FFE6E6\">)</span> <span style=\"background-color: #FFE6E6\">in</span> <span style=\"background-color: #FFF2F2\">electrical</span> <span style=\"background-color: #FFF0F0\">,</span> <span style=\"background-color: #FFFEFE\">electronic</span> <span style=\"background-color: #FFE0E0\">or</span> <span style=\"background-color: #FFDCDC\">control</span> <span style=\"background-color: #FFE6E6\">and</span> <span style=\"background-color: #FFD0D0\">instrumentation</span> <span style=\"background-color: #FFD8D8\">engineering</span> <span style=\"background-color: #FFD3D3\">or</span> <span style=\"background-color: #FFE4E4\">other</span> <span style=\"background-color: #FFE2E2\">relevant</span> <span style=\"background-color: #FFDADA\">discipline</span> <span style=\"background-color: #FFECEC\">.</span> <span style=\"background-color: #FFE6E6\">chartered</span> <span style=\"background-color: #FFE0E0\">engineer</span> <span style=\"background-color: #FFECEC\">.</span> <span style=\"background-color: #FFDADA\">able</span> <span style=\"background-color: #FFEEEE\">to</span> <span style=\"background-color: #FFEEEE\">demonstrate</span> <span style=\"background-color: #FFFEFE\">sound</span> <span style=\"background-color: #FFE4E4\">technical</span> <span style=\"background-color: #FFECEC\">experience</span> <span style=\"background-color: #FFF2F2\">.</span> <span style=\"background-color: #FFF4F4\">a</span> <span style=\"background-color: #FFFEFE\">sufficient</span> <span style=\"background-color: #FFF4F4\">and</span> <span style=\"background-color: #FFEEEE\">appropriate</span> <span style=\"background-color: #FFECEC\">level</span> <span style=\"background-color: #FFEEEE\">of</span> <span style=\"background-color: #FFFEFE\">building</span> <span style=\"background-color: #FFECEC\">services</span> <span style=\"background-color: #FFEEEE\">and</span> <span style=\"background-color: #FFEEEE\">controls</span> <span style=\"background-color: #FFEEEE\">experience</span> <span style=\"background-color: #FFFEFE\">gained</span> <span style=\"background-color: #FFEEEE\">within</span> <span style=\"background-color: #FFF4F4\">a</span> <span style=\"background-color: #FFF0F0\">client</span> <span style=\"background-color: #FFFEFE\">organisation</span> <span style=\"background-color: #FFF0F0\">,</span> <span style=\"background-color: #FFE4E4\">engineering</span> <span style=\"background-color: #FFEAEA\">consultancy</span> <span style=\"background-color: #FFE0E0\">or</span> <span style=\"background-color: #FFEAEA\">equipment</span> <span style=\"background-color: #FFFEFE\">supplier</span> <span style=\"background-color: #FFF4F4\">.</span> <span style=\"background-color: #FFECEC\">project</span> <span style=\"background-color: #FFDCDC\">management</span> <span style=\"background-color: #FFE8E8\">,</span> <span style=\"background-color: #FFE4E4\">including</span> <span style=\"background-color: #FFF0F0\">controls</span> <span style=\"background-color: #FFF2F2\">,</span> <span style=\"background-color: #FFFEFE\">planning</span> <span style=\"background-color: #FFF8F8\">and</span> <span style=\"background-color: #FFFEFE\">estimating</span> <span style=\"background-color: #FFFAFA\">and</span> <span style=\"background-color: #FFFEFE\">preparation</span> <span style=\"background-color: #FFF6F6\">of</span> <span style=\"background-color: #FFFEFE\">deliverable</span> <span style=\"background-color: #FFE4E4\">/</span> <span style=\"background-color: #FFE2E2\">work</span> <span style=\"background-color: #FFE0E0\">package</span> <span style=\"background-color: #FFEAEA\">.</span> <span style=\"background-color: #FFE2E2\">desirable</span> <span style=\"background-color: #FFE2E2\">working</span> <span style=\"background-color: #FFE6E6\">within</span> <span style=\"background-color: #FFEEEE\">a</span> <span style=\"background-color: #FFFEFE\">multidiscipline</span> <span style=\"background-color: #FFE8E8\">engineering</span> <span style=\"background-color: #FFEEEE\">team</span> <span style=\"background-color: #FFF2F2\">and</span> <span style=\"background-color: #FFFEFE\">having</span> <span style=\"background-color: #FFF4F4\">a</span> <span style=\"background-color: #FFEEEE\">general</span> <span style=\"background-color: #FFFEFE\">appreciation</span> <span style=\"background-color: #FFEEEE\">of</span> <span style=\"background-color: #FFF0F0\">other</span> <span style=\"background-color: #FFE6E6\">disciplines</span> <span style=\"background-color: #FFFEFE\">constraints</span> <span style=\"background-color: #FFF2F2\">and</span> <span style=\"background-color: #FFE8E8\">requirements</span> <span style=\"background-color: #FFECEC\">.</span> <span style=\"background-color: #FFE0E0\">nuclear</span> <span style=\"background-color: #FFE8E8\">safety</span> <span style=\"background-color: #FFFEFE\">case</span> <span style=\"background-color: #FFFEFE\">issues</span> <span style=\"background-color: #FFFCFC\">and</span> <span style=\"background-color: #FFFEFE\">nii</span> <span style=\"background-color: #FFFEFE\">site</span> <span style=\"background-color: #FFFEFE\">licence</span> <span style=\"background-color: #FFFEFE\">conditions</span> <span style=\"background-color: #FFFAFA\">.</span> <span style=\"background-color: #FFFEFE\">building</span> <span style=\"background-color: #FFE8E8\">management</span> <span style=\"background-color: #FFE8E8\">systems</span> <span style=\"background-color: #FFF2F2\">.</span> <span style=\"background-color: #FFFEFE\">fire</span> <span style=\"background-color: #FFFEFE\">detection</span> <span style=\"background-color: #FFFAFA\">and</span> <span style=\"background-color: #FFFEFE\">alarms</span> <span style=\"background-color: #FFFAFA\">.</span> <span style=\"background-color: #FFFEFE\">telecoms</span> <span style=\"background-color: #FFFCFC\">.</span> <span style=\"background-color: #FFFEFE\">ups</span> <span style=\"background-color: #FFF8F8\">.</span> <span style=\"background-color: #FFEEEE\">experience</span> <span style=\"background-color: #FFEAEA\">of</span> <span style=\"background-color: #FFDEDE\">the</span> <span style=\"background-color: #FFDEDE\">nuclear</span> <span style=\"background-color: #FFDCDC\">industry</span> <span style=\"background-color: #FFECEC\">.</span> <span style=\"background-color: #FFECEC\">experience</span> <span style=\"background-color: #FFF8F8\">of</span> <span style=\"background-color: #FFFEFE\">iee</span> <span style=\"background-color: #FFFEFE\">wiring</span> <span style=\"background-color: #FFFEFE\">regulations</span> <span style=\"background-color: #FFFEFE\">17th</span> <span style=\"background-color: #FFFEFE\">edition</span> <span style=\"background-color: #FFFEFE\">bs</span> <span style=\"background-color: #FFF0F0\">****</span> <span style=\"background-color: #FFF2F2\">experience</span> <span style=\"background-color: #FFF6F6\">of</span> <span style=\"background-color: #FFFEFE\">transmission</span> <span style=\"background-color: #FFFEFE\">(****</span> <span style=\"background-color: #FFFEFE\">kv</span> <span style=\"background-color: #FFF4F4\">)</span> <span style=\"background-color: #FFF0F0\">electrical</span> <span style=\"background-color: #FFEAEA\">plant</span> <span style=\"background-color: #FFF0F0\">and</span> <span style=\"background-color: #FFFEFE\">configuration</span> <span style=\"background-color: #FFEAEA\">design</span> <span style=\"background-color: #FFF2F2\">.</span> <span style=\"background-color: #FFECEC\">experience</span> <span style=\"background-color: #FFF4F4\">of</span> <span style=\"background-color: #FFFEFE\">distribution</span> <span style=\"background-color: #FFE8E8\">(</span> <span style=\"background-color: #FFE8E8\">up</span> <span style=\"background-color: #FFEEEE\">to</span> <span style=\"background-color: #FFEEEE\">****</span> <span style=\"background-color: #FFFEFE\">kv</span> <span style=\"background-color: #FFF0F0\">)</span> <span style=\"background-color: #FFF0F0\">electrical</span> <span style=\"background-color: #FFEAEA\">plant</span> <span style=\"background-color: #FFF0F0\">and</span> <span style=\"background-color: #FFFEFE\">configuration</span> <span style=\"background-color: #FFEAEA\">design</span> <span style=\"background-color: #FFF2F2\">.</span> <span style=\"background-color: #FFECEC\">experience</span> <span style=\"background-color: #FFF6F6\">of</span> <span style=\"background-color: #FFFEFE\">protection</span> <span style=\"background-color: #FFEEEE\">and</span> <span style=\"background-color: #FFE0E0\">control</span> <span style=\"background-color: #FFE2E2\">design</span> <span style=\"background-color: #FFE6E6\">at</span> <span style=\"background-color: #FFFEFE\">transmission</span> <span style=\"background-color: #FFF8F8\">and</span> <span style=\"background-color: #FFFEFE\">distribution</span> <span style=\"background-color: #FFFEFE\">voltages</span> <span style=\"background-color: #FFF6F6\">.</span> <span style=\"background-color: #FFE6E6\">the</span> <span style=\"background-color: #FFE8E8\">individual</span> <span style=\"background-color: #FFD8D8\">control</span> <span style=\"background-color: #FFE4E4\">and</span> <span style=\"background-color: #FFD0D0\">instrumentation</span> <span style=\"background-color: #FFDEDE\">engineer</span> <span style=\"background-color: #FFF0F0\">a</span> <span style=\"background-color: #FFFEFE\">confident</span> <span style=\"background-color: #FFF8F8\">and</span> <span style=\"background-color: #FFFAFA\">professional</span> <span style=\"background-color: #FFFEFE\">manner</span> <span style=\"background-color: #FFF6F6\">.</span> <span style=\"background-color: #FFF2F2\">excellent</span> <span style=\"background-color: #FFE6E6\">communication</span> <span style=\"background-color: #FFEEEE\">skills</span> <span style=\"background-color: #FFF0F0\">.</span> <span style=\"background-color: #FFDEDE\">ability</span> <span style=\"background-color: #FFECEC\">to</span> <span style=\"background-color: #FFE6E6\">use</span> <span style=\"background-color: #FFFEFE\">initiative</span> <span style=\"background-color: #FFF6F6\">and</span> <span style=\"background-color: #FFF8F8\">demonstrate</span> <span style=\"background-color: #FFFEFE\">creativity</span> <span style=\"background-color: #FFF6F6\">.</span> <span style=\"background-color: #FFEEEE\">self</span> <span style=\"background-color: #FFFEFE\">motivated</span> <span style=\"background-color: #FFF6F6\">and</span> <span style=\"background-color: #FFFEFE\">committed</span> <span style=\"background-color: #FFFAFA\">to</span> <span style=\"background-color: #FFFEFE\">further</span> <span style=\"background-color: #FFFEFE\">study</span> <span style=\"background-color: #FFF6F6\">.</span> <span style=\"background-color: #FFE2E2\">ability</span> <span style=\"background-color: #FFEAEA\">to</span> <span style=\"background-color: #FFE0E0\">work</span> <span style=\"background-color: #FFE6E6\">within</span> <span style=\"background-color: #FFEEEE\">a</span> <span style=\"background-color: #FFEAEA\">team</span> <span style=\"background-color: #FFEEEE\">.</span> <span style=\"background-color: #FFDEDE\">responsibilities</span> <span style=\"background-color: #FFE6E6\">responsible</span> <span style=\"background-color: #FFD8D8\">for</span> <span style=\"background-color: #FFE8E8\">providing</span> <span style=\"background-color: #FFE4E4\">technical</span> <span style=\"background-color: #FFFEFE\">input</span> <span style=\"background-color: #FFFEFE\">into</span> <span style=\"background-color: #FFEAEA\">the</span> <span style=\"background-color: #FFDCDC\">control</span> <span style=\"background-color: #FFE4E4\">and</span> <span style=\"background-color: #FFD6D6\">instrumentation</span> <span style=\"background-color: #FFECEC\">,</span> <span style=\"background-color: #FFF0F0\">and</span> <span style=\"background-color: #FFFEFE\">potentially</span> <span style=\"background-color: #FFF2F2\">electrical</span> <span style=\"background-color: #FFF4F4\">,</span> <span style=\"background-color: #FFECEC\">design</span> <span style=\"background-color: #FFFEFE\">aspects</span> <span style=\"background-color: #FFF8F8\">of</span> <span style=\"background-color: #FFFEFE\">substation</span> <span style=\"background-color: #FFFEFE\">refurbishment</span> <span style=\"background-color: #FFF2F2\">/</span> <span style=\"background-color: #FFFEFE\">rekit</span> <span style=\"background-color: #FFE4E4\">projects</span> <span style=\"background-color: #FFEAEA\">and</span> <span style=\"background-color: #FFE4E4\">leading</span> <span style=\"background-color: #FFE8E8\">electrical</span> <span style=\"background-color: #FFE0E0\">/</span> <span style=\"background-color: #FFE6E6\">control</span> <span style=\"background-color: #FFFEFE\">aspects</span> <span style=\"background-color: #FFF4F4\">of</span> <span style=\"background-color: #FFF0F0\">major</span> <span style=\"background-color: #FFFEFE\">infrastructure</span> <span style=\"background-color: #FFE0E0\">projects</span> <span style=\"background-color: #FFEAEA\">from</span> <span style=\"background-color: #FFECEC\">system</span> <span style=\"background-color: #FFFEFE\">studies</span> <span style=\"background-color: #FFFAFA\">and</span> <span style=\"background-color: #FFFEFE\">investment</span> <span style=\"background-color: #FFFEFE\">appraisals</span> <span style=\"background-color: #FFF4F4\">through</span> <span style=\"background-color: #FFF4F4\">to</span> <span style=\"background-color: #FFFEFE\">detailed</span> <span style=\"background-color: #FFF4F4\">design</span> <span style=\"background-color: #FFF8F8\">.</span> <span style=\"background-color: #FFFEFE\">liaison</span> <span style=\"background-color: #FFF0F0\">with</span> <span style=\"background-color: #FFE8E8\">clients</span> <span style=\"background-color: #FFE6E6\">,</span> <span style=\"background-color: #FFE0E0\">suppliers</span> <span style=\"background-color: #FFF0F0\">and</span> <span style=\"background-color: #FFFEFE\">contractors</span> <span style=\"background-color: #FFF4F4\">.</span> <span style=\"background-color: #FFE6E6\">provide</span> <span style=\"background-color: #FFE4E4\">technical</span> <span style=\"background-color: #FFFEFE\">input</span> <span style=\"background-color: #FFFEFE\">into</span> <span style=\"background-color: #FFF4F4\">the</span> <span style=\"background-color: #FFFEFE\">specification</span> <span style=\"background-color: #FFF0F0\">,</span> <span style=\"background-color: #FFF2F2\">selection</span> <span style=\"background-color: #FFF2F2\">and</span> <span style=\"background-color: #FFFEFE\">justification</span> <span style=\"background-color: #FFEEEE\">of</span> <span style=\"background-color: #FFEAEA\">relevant</span> <span style=\"background-color: #FFE8E8\">equipment</span> <span style=\"background-color: #FFF6F6\">.</span> <span style=\"background-color: #FFFEFE\">generation</span> <span style=\"background-color: #FFF8F8\">of</span> <span style=\"background-color: #FFFEFE\">front</span> <span style=\"background-color: #FFEAEA\">end</span> <span style=\"background-color: #FFE8E8\">engineering</span> <span style=\"background-color: #FFE6E6\">design</span> <span style=\"background-color: #FFFEFE\">packages</span> <span style=\"background-color: #FFF2F2\">.</span> <span style=\"background-color: #FFE6E6\">provide</span> <span style=\"background-color: #FFE4E4\">technical</span> <span style=\"background-color: #FFFEFE\">input</span> <span style=\"background-color: #FFFEFE\">into</span> <span style=\"background-color: #FFEAEA\">the</span> <span style=\"background-color: #FFECEC\">relevant</span> <span style=\"background-color: #FFE8E8\">equipment</span> <span style=\"background-color: #FFFEFE\">assessment</span> <span style=\"background-color: #FFF6F6\">and</span> <span style=\"background-color: #FFFEFE\">justification</span> <span style=\"background-color: #FFE8E8\">reports</span> <span style=\"background-color: #FFEEEE\">.</span> <span style=\"background-color: #FFE6E6\">production</span> <span style=\"background-color: #FFF6F6\">of</span> <span style=\"background-color: #FFFEFE\">commissioning</span> <span style=\"background-color: #FFFEFE\">procedures</span> <span style=\"background-color: #FFF6F6\">.</span> <span style=\"background-color: #FFE4E4\">production</span> <span style=\"background-color: #FFF0F0\">of</span> <span style=\"background-color: #FFE0E0\">technical</span> <span style=\"background-color: #FFFEFE\">specifications</span> <span style=\"background-color: #FFF0F0\">.</span> <span style=\"background-color: #FFE2E2\">control</span> <span style=\"background-color: #FFE6E6\">and</span> <span style=\"background-color: #FFCECE\">instrumentation</span> <span style=\"background-color: #FFD3D3\">engineer</span> <span style=\"background-color: #FFD3D3\">/</span> <span style=\"background-color: #FFDEDE\">c</span> <span style=\"background-color: #FFE0E0\">location</span> <span style=\"background-color: #FFFEFE\">reading</span> <span style=\"background-color: #FFF8F8\">,</span> <span style=\"background-color: #FFFEFE\">berkshire</span></p>"
      ]
     },
     "metadata": {},
     "output_type": "display_data"
    }
   ],
   "source": [
    "explain_title = explain(model=model, sensitivity=1, sample=data.iloc[23], col_name='Title')\n",
    "draw_html([(text, diff) for text, diff in explain_title]);\n",
    "\n",
    "explain_descr = explain(model=model, sensitivity=10, sample=data.iloc[23], col_name='FullDescription')\n",
    "draw_html([(text, diff) for text, diff in explain_descr]);"
   ]
  }
 ],
 "metadata": {
  "kernelspec": {
   "display_name": "Python 3 (ipykernel)",
   "language": "python",
   "name": "python3"
  },
  "language_info": {
   "codemirror_mode": {
    "name": "ipython",
    "version": 3
   },
   "file_extension": ".py",
   "mimetype": "text/x-python",
   "name": "python",
   "nbconvert_exporter": "python",
   "pygments_lexer": "ipython3",
   "version": "3.9.7"
  }
 },
 "nbformat": 4,
 "nbformat_minor": 5
}
