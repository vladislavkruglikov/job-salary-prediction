{
 "cells": [
  {
   "cell_type": "code",
   "execution_count": 1,
   "id": "2f3ad1e2-e088-4221-8c2a-3e049a6acb04",
   "metadata": {},
   "outputs": [],
   "source": [
    "import pandas as pd\n",
    "import numpy  as np\n",
    "\n",
    "import matplotlib.pyplot as plt\n",
    "\n",
    "import torch\n",
    "\n",
    "import torch.nn as nn"
   ]
  },
  {
   "cell_type": "code",
   "execution_count": 2,
   "id": "bfdb4a95-b253-4d0d-9641-a20c4be839e1",
   "metadata": {},
   "outputs": [
    {
     "data": {
      "text/html": [
       "<div>\n",
       "<style scoped>\n",
       "    .dataframe tbody tr th:only-of-type {\n",
       "        vertical-align: middle;\n",
       "    }\n",
       "\n",
       "    .dataframe tbody tr th {\n",
       "        vertical-align: top;\n",
       "    }\n",
       "\n",
       "    .dataframe thead th {\n",
       "        text-align: right;\n",
       "    }\n",
       "</style>\n",
       "<table border=\"1\" class=\"dataframe\">\n",
       "  <thead>\n",
       "    <tr style=\"text-align: right;\">\n",
       "      <th></th>\n",
       "      <th>Id</th>\n",
       "      <th>Title</th>\n",
       "      <th>FullDescription</th>\n",
       "      <th>LocationRaw</th>\n",
       "      <th>LocationNormalized</th>\n",
       "      <th>ContractType</th>\n",
       "      <th>ContractTime</th>\n",
       "      <th>Company</th>\n",
       "      <th>Category</th>\n",
       "      <th>SalaryRaw</th>\n",
       "      <th>SalaryNormalized</th>\n",
       "      <th>SourceName</th>\n",
       "    </tr>\n",
       "  </thead>\n",
       "  <tbody>\n",
       "    <tr>\n",
       "      <th>0</th>\n",
       "      <td>12612628</td>\n",
       "      <td>Engineering Systems Analyst</td>\n",
       "      <td>Engineering Systems Analyst Dorking Surrey Sal...</td>\n",
       "      <td>Dorking, Surrey, Surrey</td>\n",
       "      <td>Dorking</td>\n",
       "      <td>NaN</td>\n",
       "      <td>permanent</td>\n",
       "      <td>Gregory Martin International</td>\n",
       "      <td>Engineering Jobs</td>\n",
       "      <td>20000 - 30000/annum 20-30K</td>\n",
       "      <td>25000</td>\n",
       "      <td>cv-library.co.uk</td>\n",
       "    </tr>\n",
       "    <tr>\n",
       "      <th>1</th>\n",
       "      <td>12612830</td>\n",
       "      <td>Stress Engineer Glasgow</td>\n",
       "      <td>Stress Engineer Glasgow Salary **** to **** We...</td>\n",
       "      <td>Glasgow, Scotland, Scotland</td>\n",
       "      <td>Glasgow</td>\n",
       "      <td>NaN</td>\n",
       "      <td>permanent</td>\n",
       "      <td>Gregory Martin International</td>\n",
       "      <td>Engineering Jobs</td>\n",
       "      <td>25000 - 35000/annum 25-35K</td>\n",
       "      <td>30000</td>\n",
       "      <td>cv-library.co.uk</td>\n",
       "    </tr>\n",
       "    <tr>\n",
       "      <th>2</th>\n",
       "      <td>12612844</td>\n",
       "      <td>Modelling and simulation analyst</td>\n",
       "      <td>Mathematical Modeller / Simulation Analyst / O...</td>\n",
       "      <td>Hampshire, South East, South East</td>\n",
       "      <td>Hampshire</td>\n",
       "      <td>NaN</td>\n",
       "      <td>permanent</td>\n",
       "      <td>Gregory Martin International</td>\n",
       "      <td>Engineering Jobs</td>\n",
       "      <td>20000 - 40000/annum 20-40K</td>\n",
       "      <td>30000</td>\n",
       "      <td>cv-library.co.uk</td>\n",
       "    </tr>\n",
       "    <tr>\n",
       "      <th>3</th>\n",
       "      <td>12613049</td>\n",
       "      <td>Engineering Systems Analyst / Mathematical Mod...</td>\n",
       "      <td>Engineering Systems Analyst / Mathematical Mod...</td>\n",
       "      <td>Surrey, South East, South East</td>\n",
       "      <td>Surrey</td>\n",
       "      <td>NaN</td>\n",
       "      <td>permanent</td>\n",
       "      <td>Gregory Martin International</td>\n",
       "      <td>Engineering Jobs</td>\n",
       "      <td>25000 - 30000/annum 25K-30K negotiable</td>\n",
       "      <td>27500</td>\n",
       "      <td>cv-library.co.uk</td>\n",
       "    </tr>\n",
       "    <tr>\n",
       "      <th>4</th>\n",
       "      <td>12613647</td>\n",
       "      <td>Pioneer, Miser Engineering Systems Analyst</td>\n",
       "      <td>Pioneer, Miser  Engineering Systems Analyst Do...</td>\n",
       "      <td>Surrey, South East, South East</td>\n",
       "      <td>Surrey</td>\n",
       "      <td>NaN</td>\n",
       "      <td>permanent</td>\n",
       "      <td>Gregory Martin International</td>\n",
       "      <td>Engineering Jobs</td>\n",
       "      <td>20000 - 30000/annum 20-30K</td>\n",
       "      <td>25000</td>\n",
       "      <td>cv-library.co.uk</td>\n",
       "    </tr>\n",
       "    <tr>\n",
       "      <th>...</th>\n",
       "      <td>...</td>\n",
       "      <td>...</td>\n",
       "      <td>...</td>\n",
       "      <td>...</td>\n",
       "      <td>...</td>\n",
       "      <td>...</td>\n",
       "      <td>...</td>\n",
       "      <td>...</td>\n",
       "      <td>...</td>\n",
       "      <td>...</td>\n",
       "      <td>...</td>\n",
       "      <td>...</td>\n",
       "    </tr>\n",
       "    <tr>\n",
       "      <th>9995</th>\n",
       "      <td>66190726</td>\n",
       "      <td>Senior Optometrist Ebbe Vale</td>\n",
       "      <td>This is an excellent opportunity for a dedicat...</td>\n",
       "      <td>Ebbe Vale</td>\n",
       "      <td>UK</td>\n",
       "      <td>part_time</td>\n",
       "      <td>NaN</td>\n",
       "      <td>NaN</td>\n",
       "      <td>Healthcare &amp; Nursing Jobs</td>\n",
       "      <td>52,000 per year</td>\n",
       "      <td>52000</td>\n",
       "      <td>careworx.co.uk</td>\n",
       "    </tr>\n",
       "    <tr>\n",
       "      <th>9996</th>\n",
       "      <td>66190728</td>\n",
       "      <td>Domiciliary Optometrist Kent</td>\n",
       "      <td>Domiciliary Optometrist  Kent The Company prid...</td>\n",
       "      <td>Kent</td>\n",
       "      <td>Kent</td>\n",
       "      <td>part_time</td>\n",
       "      <td>NaN</td>\n",
       "      <td>NaN</td>\n",
       "      <td>Healthcare &amp; Nursing Jobs</td>\n",
       "      <td>60,000 per year</td>\n",
       "      <td>60000</td>\n",
       "      <td>careworx.co.uk</td>\n",
       "    </tr>\n",
       "    <tr>\n",
       "      <th>9997</th>\n",
       "      <td>66190734</td>\n",
       "      <td>Optometrist Job Hastings</td>\n",
       "      <td>This is an excellent opportunity for a dedicat...</td>\n",
       "      <td>Hastings, East Sussex</td>\n",
       "      <td>Hastings</td>\n",
       "      <td>part_time</td>\n",
       "      <td>NaN</td>\n",
       "      <td>NaN</td>\n",
       "      <td>Healthcare &amp; Nursing Jobs</td>\n",
       "      <td>50,000 per year</td>\n",
       "      <td>50000</td>\n",
       "      <td>careworx.co.uk</td>\n",
       "    </tr>\n",
       "    <tr>\n",
       "      <th>9998</th>\n",
       "      <td>66190736</td>\n",
       "      <td>Optometrist Job Doncaster</td>\n",
       "      <td>This is an excellent opportunity for a dedicat...</td>\n",
       "      <td>Doncaster</td>\n",
       "      <td>Doncaster</td>\n",
       "      <td>part_time</td>\n",
       "      <td>NaN</td>\n",
       "      <td>NaN</td>\n",
       "      <td>Healthcare &amp; Nursing Jobs</td>\n",
       "      <td>35,000 to 60,000 per year</td>\n",
       "      <td>47500</td>\n",
       "      <td>careworx.co.uk</td>\n",
       "    </tr>\n",
       "    <tr>\n",
       "      <th>9999</th>\n",
       "      <td>66190737</td>\n",
       "      <td>Experienced RHAD Job Lincoln</td>\n",
       "      <td>We provide a community hearing service to thos...</td>\n",
       "      <td>Lincoln, Lincolnshire</td>\n",
       "      <td>Lincoln</td>\n",
       "      <td>full_time</td>\n",
       "      <td>NaN</td>\n",
       "      <td>NaN</td>\n",
       "      <td>Healthcare &amp; Nursing Jobs</td>\n",
       "      <td>18,000 to 40,000 per year</td>\n",
       "      <td>29000</td>\n",
       "      <td>careworx.co.uk</td>\n",
       "    </tr>\n",
       "  </tbody>\n",
       "</table>\n",
       "<p>10000 rows × 12 columns</p>\n",
       "</div>"
      ],
      "text/plain": [
       "            Id                                              Title  \\\n",
       "0     12612628                        Engineering Systems Analyst   \n",
       "1     12612830                            Stress Engineer Glasgow   \n",
       "2     12612844                   Modelling and simulation analyst   \n",
       "3     12613049  Engineering Systems Analyst / Mathematical Mod...   \n",
       "4     12613647         Pioneer, Miser Engineering Systems Analyst   \n",
       "...        ...                                                ...   \n",
       "9995  66190726                       Senior Optometrist Ebbe Vale   \n",
       "9996  66190728                       Domiciliary Optometrist Kent   \n",
       "9997  66190734                           Optometrist Job Hastings   \n",
       "9998  66190736                          Optometrist Job Doncaster   \n",
       "9999  66190737                       Experienced RHAD Job Lincoln   \n",
       "\n",
       "                                        FullDescription  \\\n",
       "0     Engineering Systems Analyst Dorking Surrey Sal...   \n",
       "1     Stress Engineer Glasgow Salary **** to **** We...   \n",
       "2     Mathematical Modeller / Simulation Analyst / O...   \n",
       "3     Engineering Systems Analyst / Mathematical Mod...   \n",
       "4     Pioneer, Miser  Engineering Systems Analyst Do...   \n",
       "...                                                 ...   \n",
       "9995  This is an excellent opportunity for a dedicat...   \n",
       "9996  Domiciliary Optometrist  Kent The Company prid...   \n",
       "9997  This is an excellent opportunity for a dedicat...   \n",
       "9998  This is an excellent opportunity for a dedicat...   \n",
       "9999  We provide a community hearing service to thos...   \n",
       "\n",
       "                            LocationRaw LocationNormalized ContractType  \\\n",
       "0               Dorking, Surrey, Surrey            Dorking          NaN   \n",
       "1           Glasgow, Scotland, Scotland            Glasgow          NaN   \n",
       "2     Hampshire, South East, South East          Hampshire          NaN   \n",
       "3        Surrey, South East, South East             Surrey          NaN   \n",
       "4        Surrey, South East, South East             Surrey          NaN   \n",
       "...                                 ...                ...          ...   \n",
       "9995                          Ebbe Vale                 UK    part_time   \n",
       "9996                               Kent               Kent    part_time   \n",
       "9997              Hastings, East Sussex           Hastings    part_time   \n",
       "9998                          Doncaster          Doncaster    part_time   \n",
       "9999              Lincoln, Lincolnshire            Lincoln    full_time   \n",
       "\n",
       "     ContractTime                       Company                   Category  \\\n",
       "0       permanent  Gregory Martin International           Engineering Jobs   \n",
       "1       permanent  Gregory Martin International           Engineering Jobs   \n",
       "2       permanent  Gregory Martin International           Engineering Jobs   \n",
       "3       permanent  Gregory Martin International           Engineering Jobs   \n",
       "4       permanent  Gregory Martin International           Engineering Jobs   \n",
       "...           ...                           ...                        ...   \n",
       "9995          NaN                           NaN  Healthcare & Nursing Jobs   \n",
       "9996          NaN                           NaN  Healthcare & Nursing Jobs   \n",
       "9997          NaN                           NaN  Healthcare & Nursing Jobs   \n",
       "9998          NaN                           NaN  Healthcare & Nursing Jobs   \n",
       "9999          NaN                           NaN  Healthcare & Nursing Jobs   \n",
       "\n",
       "                                   SalaryRaw  SalaryNormalized  \\\n",
       "0                 20000 - 30000/annum 20-30K             25000   \n",
       "1                 25000 - 35000/annum 25-35K             30000   \n",
       "2                 20000 - 40000/annum 20-40K             30000   \n",
       "3     25000 - 30000/annum 25K-30K negotiable             27500   \n",
       "4                 20000 - 30000/annum 20-30K             25000   \n",
       "...                                      ...               ...   \n",
       "9995                         52,000 per year             52000   \n",
       "9996                         60,000 per year             60000   \n",
       "9997                         50,000 per year             50000   \n",
       "9998               35,000 to 60,000 per year             47500   \n",
       "9999               18,000 to 40,000 per year             29000   \n",
       "\n",
       "            SourceName  \n",
       "0     cv-library.co.uk  \n",
       "1     cv-library.co.uk  \n",
       "2     cv-library.co.uk  \n",
       "3     cv-library.co.uk  \n",
       "4     cv-library.co.uk  \n",
       "...                ...  \n",
       "9995    careworx.co.uk  \n",
       "9996    careworx.co.uk  \n",
       "9997    careworx.co.uk  \n",
       "9998    careworx.co.uk  \n",
       "9999    careworx.co.uk  \n",
       "\n",
       "[10000 rows x 12 columns]"
      ]
     },
     "execution_count": 2,
     "metadata": {},
     "output_type": "execute_result"
    }
   ],
   "source": [
    "data = pd.read_csv('train.csv')\n",
    "\n",
    "data = data[:10000]\n",
    "\n",
    "data"
   ]
  },
  {
   "cell_type": "code",
   "execution_count": 3,
   "id": "6414cc15-9a42-441e-a26c-7487e16f1c7f",
   "metadata": {},
   "outputs": [
    {
     "data": {
      "image/png": "[encoded data removed]",
      "text/plain": [
       "<Figure size 576x288 with 2 Axes>"
      ]
     },
     "metadata": {
      "needs_background": "light"
     },
     "output_type": "display_data"
    }
   ],
   "source": [
    "data['Log1pSalary'] = np.log1p(data['SalaryNormalized']).astype('float32')\n",
    "\n",
    "plt.figure(figsize=[8, 4])\n",
    "plt.subplot(1, 2, 1)\n",
    "plt.hist(data[\"SalaryNormalized\"], bins=20);\n",
    "\n",
    "plt.subplot(1, 2, 2)\n",
    "plt.hist(data['Log1pSalary'], bins=20);"
   ]
  },
  {
   "cell_type": "code",
   "execution_count": 4,
   "id": "2615f360-3cc0-4ce8-99b6-54cab7335558",
   "metadata": {},
   "outputs": [
    {
     "data": {
      "text/html": [
       "<div>\n",
       "<style scoped>\n",
       "    .dataframe tbody tr th:only-of-type {\n",
       "        vertical-align: middle;\n",
       "    }\n",
       "\n",
       "    .dataframe tbody tr th {\n",
       "        vertical-align: top;\n",
       "    }\n",
       "\n",
       "    .dataframe thead th {\n",
       "        text-align: right;\n",
       "    }\n",
       "</style>\n",
       "<table border=\"1\" class=\"dataframe\">\n",
       "  <thead>\n",
       "    <tr style=\"text-align: right;\">\n",
       "      <th></th>\n",
       "      <th>Id</th>\n",
       "      <th>Title</th>\n",
       "      <th>FullDescription</th>\n",
       "      <th>LocationRaw</th>\n",
       "      <th>LocationNormalized</th>\n",
       "      <th>ContractType</th>\n",
       "      <th>ContractTime</th>\n",
       "      <th>Company</th>\n",
       "      <th>Category</th>\n",
       "      <th>SalaryRaw</th>\n",
       "      <th>SalaryNormalized</th>\n",
       "      <th>SourceName</th>\n",
       "      <th>Log1pSalary</th>\n",
       "    </tr>\n",
       "  </thead>\n",
       "  <tbody>\n",
       "    <tr>\n",
       "      <th>0</th>\n",
       "      <td>12612628</td>\n",
       "      <td>Engineering Systems Analyst</td>\n",
       "      <td>Engineering Systems Analyst Dorking Surrey Sal...</td>\n",
       "      <td>Dorking, Surrey, Surrey</td>\n",
       "      <td>Dorking</td>\n",
       "      <td>NaN</td>\n",
       "      <td>permanent</td>\n",
       "      <td>Gregory Martin International</td>\n",
       "      <td>Engineering Jobs</td>\n",
       "      <td>20000 - 30000/annum 20-30K</td>\n",
       "      <td>25000</td>\n",
       "      <td>cv-library.co.uk</td>\n",
       "      <td>10.126671</td>\n",
       "    </tr>\n",
       "    <tr>\n",
       "      <th>1</th>\n",
       "      <td>12612830</td>\n",
       "      <td>Stress Engineer Glasgow</td>\n",
       "      <td>Stress Engineer Glasgow Salary **** to **** We...</td>\n",
       "      <td>Glasgow, Scotland, Scotland</td>\n",
       "      <td>Glasgow</td>\n",
       "      <td>NaN</td>\n",
       "      <td>permanent</td>\n",
       "      <td>Gregory Martin International</td>\n",
       "      <td>Engineering Jobs</td>\n",
       "      <td>25000 - 35000/annum 25-35K</td>\n",
       "      <td>30000</td>\n",
       "      <td>cv-library.co.uk</td>\n",
       "      <td>10.308986</td>\n",
       "    </tr>\n",
       "    <tr>\n",
       "      <th>2</th>\n",
       "      <td>12612844</td>\n",
       "      <td>Modelling and simulation analyst</td>\n",
       "      <td>Mathematical Modeller / Simulation Analyst / O...</td>\n",
       "      <td>Hampshire, South East, South East</td>\n",
       "      <td>Hampshire</td>\n",
       "      <td>NaN</td>\n",
       "      <td>permanent</td>\n",
       "      <td>Gregory Martin International</td>\n",
       "      <td>Engineering Jobs</td>\n",
       "      <td>20000 - 40000/annum 20-40K</td>\n",
       "      <td>30000</td>\n",
       "      <td>cv-library.co.uk</td>\n",
       "      <td>10.308986</td>\n",
       "    </tr>\n",
       "  </tbody>\n",
       "</table>\n",
       "</div>"
      ],
      "text/plain": [
       "         Id                             Title  \\\n",
       "0  12612628       Engineering Systems Analyst   \n",
       "1  12612830           Stress Engineer Glasgow   \n",
       "2  12612844  Modelling and simulation analyst   \n",
       "\n",
       "                                     FullDescription  \\\n",
       "0  Engineering Systems Analyst Dorking Surrey Sal...   \n",
       "1  Stress Engineer Glasgow Salary **** to **** We...   \n",
       "2  Mathematical Modeller / Simulation Analyst / O...   \n",
       "\n",
       "                         LocationRaw LocationNormalized ContractType  \\\n",
       "0            Dorking, Surrey, Surrey            Dorking          NaN   \n",
       "1        Glasgow, Scotland, Scotland            Glasgow          NaN   \n",
       "2  Hampshire, South East, South East          Hampshire          NaN   \n",
       "\n",
       "  ContractTime                       Company          Category  \\\n",
       "0    permanent  Gregory Martin International  Engineering Jobs   \n",
       "1    permanent  Gregory Martin International  Engineering Jobs   \n",
       "2    permanent  Gregory Martin International  Engineering Jobs   \n",
       "\n",
       "                    SalaryRaw  SalaryNormalized        SourceName  Log1pSalary  \n",
       "0  20000 - 30000/annum 20-30K             25000  cv-library.co.uk    10.126671  \n",
       "1  25000 - 35000/annum 25-35K             30000  cv-library.co.uk    10.308986  \n",
       "2  20000 - 40000/annum 20-40K             30000  cv-library.co.uk    10.308986  "
      ]
     },
     "execution_count": 4,
     "metadata": {},
     "output_type": "execute_result"
    }
   ],
   "source": [
    "text_columns = [\"Title\", \"FullDescription\"]\n",
    "\n",
    "categorical_columns = [\"Category\", \"Company\", \"LocationNormalized\", \"ContractType\", \"ContractTime\"]\n",
    "\n",
    "TARGET_COLUMN = \"Log1pSalary\"\n",
    "\n",
    "data[categorical_columns] = data[categorical_columns].fillna('NaN')\n",
    "\n",
    "data.head(3)"
   ]
  },
  {
   "cell_type": "code",
   "execution_count": 5,
   "id": "625f682e-861d-4380-aae9-d14ad7660691",
   "metadata": {},
   "outputs": [],
   "source": [
    "import nltk\n",
    "\n",
    "from nltk import WordPunctTokenizer\n",
    "\n",
    "tokenizer = nltk.tokenize.WordPunctTokenizer()\n",
    "\n",
    "# Will have Title as string of space separated tokens \n",
    "data['Title'] = data['Title'].apply(lambda x: \" \".join((tokenizer.tokenize(str(x).lower()))))\n",
    "# Will have FullDescription as string of space separated tokens \n",
    "data['FullDescription'] = data['FullDescription'].apply(lambda x: \" \".join((tokenizer.tokenize(str(x).lower()))))"
   ]
  },
  {
   "cell_type": "code",
   "execution_count": 6,
   "id": "827347df-fb85-48dd-802d-5e0534eb8eef",
   "metadata": {},
   "outputs": [],
   "source": [
    "from collections import Counter"
   ]
  },
  {
   "cell_type": "code",
   "execution_count": 7,
   "id": "26080806-09c7-4020-a5e8-40ee7e677a5e",
   "metadata": {},
   "outputs": [],
   "source": [
    "title_tokens_count = Counter(sum([i.split() for i in data['Title']], []))\n",
    "descr_tokens_count = Counter(sum([i.split() for i in data['FullDescription']], []))\n",
    "\n",
    "tokens_count       = title_tokens_count + descr_tokens_count"
   ]
  },
  {
   "cell_type": "code",
   "execution_count": 8,
   "id": "67664681-4da2-4b2a-af2c-d8af51d5a477",
   "metadata": {},
   "outputs": [
    {
     "name": "stdout",
     "output_type": "stream",
     "text": [
      "27756 unique tokens\n"
     ]
    }
   ],
   "source": [
    "print(f'{len(tokens_count)} unique tokens')"
   ]
  },
  {
   "cell_type": "code",
   "execution_count": 9,
   "id": "b3fd1e57-b0e3-432b-91a8-e3bd0c59d966",
   "metadata": {},
   "outputs": [
    {
     "data": {
      "text/plain": [
       "['UNK',\n",
       " 'PAD',\n",
       " 'engineering',\n",
       " 'systems',\n",
       " 'analyst',\n",
       " 'stress',\n",
       " 'engineer',\n",
       " 'glasgow',\n",
       " 'modelling',\n",
       " 'and']"
      ]
     },
     "execution_count": 9,
     "metadata": {},
     "output_type": "execute_result"
    }
   ],
   "source": [
    "min_count = 10\n",
    "tokens    = [token for token, count in tokens_count.items() if count > min_count]\n",
    "# Add special tokens for unknown and padding\n",
    "UNK, PAD  = \"UNK\", \"PAD\"\n",
    "tokens    = [UNK, PAD] + tokens\n",
    "\n",
    "tokens[:10]"
   ]
  },
  {
   "cell_type": "code",
   "execution_count": 10,
   "id": "0bb10318-788a-4dbb-8fec-640d15803c19",
   "metadata": {},
   "outputs": [
    {
     "name": "stdout",
     "output_type": "stream",
     "text": [
      "Vocabulary size is 7151\n"
     ]
    }
   ],
   "source": [
    "print(\"Vocabulary size is\", len(tokens))"
   ]
  },
  {
   "cell_type": "code",
   "execution_count": 11,
   "id": "0c43374b-58a7-44d7-9259-fa6be5c772a0",
   "metadata": {},
   "outputs": [],
   "source": [
    "# Toke index\n",
    "token_to_idx = {token: tokens.index(token) for token in tokens}"
   ]
  },
  {
   "cell_type": "code",
   "execution_count": 12,
   "id": "899eca0b-79ff-434f-8db9-4c5bc4ff6d7c",
   "metadata": {},
   "outputs": [],
   "source": [
    "UNK_IX, PAD_IX = map(token_to_idx.get, [UNK, PAD])\n",
    "\n",
    "\n",
    "def as_matrix(sequences):\n",
    "    sequences = list(map(tokenizer.tokenize, sequences))\n",
    "    \n",
    "    max_len = max(map(len, sequences))\n",
    "    \n",
    "    matrix = np.full((len(sequences), max_len), np.int32(PAD_IX))\n",
    "    \n",
    "    for i, seq in enumerate(sequences):\n",
    "        row_idxs = [token_to_idx.get(token, UNK_IX) for token in seq]\n",
    "        matrix[i, :len(row_idxs)] = row_idxs\n",
    "    \n",
    "    return matrix"
   ]
  },
  {
   "cell_type": "code",
   "execution_count": 13,
   "id": "83d57e62-8279-4248-a7ca-fe9e85899a9c",
   "metadata": {},
   "outputs": [
    {
     "data": {
      "text/plain": [
       "array([[   0,   15,    0, 2041,    0],\n",
       "       [   0, 1588,  302, 1453,    1]], dtype=int32)"
      ]
     },
     "execution_count": 13,
     "metadata": {},
     "output_type": "execute_result"
    }
   ],
   "source": [
    "as_matrix(['Hi, I am cat',\n",
    "           'I like data science'])"
   ]
  },
  {
   "cell_type": "code",
   "execution_count": 14,
   "id": "ba9b15c7-e2f2-4e66-b4bb-2fd7e4327a41",
   "metadata": {},
   "outputs": [
    {
     "data": {
      "text/plain": [
       "0       Other\n",
       "1       Other\n",
       "2       Other\n",
       "3       Other\n",
       "4       Other\n",
       "        ...  \n",
       "9995      NaN\n",
       "9996      NaN\n",
       "9997      NaN\n",
       "9998      NaN\n",
       "9999      NaN\n",
       "Name: Company, Length: 10000, dtype: object"
      ]
     },
     "execution_count": 14,
     "metadata": {},
     "output_type": "execute_result"
    }
   ],
   "source": [
    "k = 10\n",
    "\n",
    "top_k_companies_names, top_k_companies_counts = zip(*Counter(data['Company']).most_common(k))\n",
    "\n",
    "unique_top_k_companies_names = set(top_k_companies_names)\n",
    "\n",
    "data['Company'] = data['Company'].apply(lambda comp: comp if comp in unique_top_k_companies_names else \"Other\")\n",
    "\n",
    "data['Company']"
   ]
  },
  {
   "cell_type": "code",
   "execution_count": 15,
   "id": "9c26a80d-cafd-4436-a7d4-ed7fd3a8fe90",
   "metadata": {},
   "outputs": [
    {
     "data": {
      "text/plain": [
       "DictVectorizer(dtype=<class 'numpy.float32'>, sparse=False)"
      ]
     },
     "execution_count": 15,
     "metadata": {},
     "output_type": "execute_result"
    }
   ],
   "source": [
    "from sklearn.feature_extraction import DictVectorizer\n",
    "\n",
    "categorical_vectorizer = DictVectorizer(dtype=np.float32, sparse=False)\n",
    "\n",
    "categorical_vectorizer.fit(data[categorical_columns].apply(dict, axis=1))"
   ]
  },
  {
   "cell_type": "code",
   "execution_count": 16,
   "id": "4c517bcf-8f94-41be-809c-f5cfe9b5bbb0",
   "metadata": {},
   "outputs": [
    {
     "name": "stdout",
     "output_type": "stream",
     "text": [
      "Train size =  8000\n",
      "Validation size =  2000\n"
     ]
    }
   ],
   "source": [
    "from sklearn.model_selection import train_test_split\n",
    "\n",
    "data_train, data_val = train_test_split(data, test_size=0.2, random_state=42)\n",
    "data_train.index     = range(len(data_train))\n",
    "data_val.index       = range(len(data_val))\n",
    "\n",
    "print(\"Train size = \", len(data_train))\n",
    "print(\"Validation size = \", len(data_val))"
   ]
  },
  {
   "cell_type": "code",
   "execution_count": 17,
   "id": "7e037b99-fd9d-49a1-b314-8de8a9f97bda",
   "metadata": {},
   "outputs": [],
   "source": [
    "def make_batch(data, batch_size, title_word_dropout=0, descr_word_dropout=0):\n",
    "    batch = {}\n",
    "    \n",
    "    batch[\"FullDescription\"] = as_matrix(data[\"FullDescription\"].values)\n",
    "    batch[\"Title\"] = as_matrix(data[\"Title\"].values)\n",
    "    \n",
    "    batch['Categorical'] = categorical_vectorizer.transform(data[categorical_columns].apply(dict, axis=1))\n",
    "    \n",
    "    if title_word_dropout != 0:\n",
    "        batch[\"Title\"] = apply_word_dropout(batch[\"Title\"], keep_prop= 1. - title_word_dropout)\n",
    "    if descr_word_dropout !=0:\n",
    "        batch[\"FullDescription\"] = apply_word_dropout(batch[\"FullDescription\"], keep_prop= 1. - descr_word_dropout)\n",
    "    if TARGET_COLUMN in data.columns:\n",
    "        batch[TARGET_COLUMN] = data[TARGET_COLUMN].values\n",
    "\n",
    "    \n",
    "    return to_tensors(batch)\n",
    "\n",
    "\n",
    "\n",
    "def apply_word_dropout(matrix, keep_prop, replace_with=UNK_IX, pad_ix=PAD_IX,):\n",
    "    \"\"\"\n",
    "    matrix: numpy array, needed to use matrix != pad_ix mask condition\n",
    "    because we dont want to set UNK to the PAD\n",
    "    \"\"\"\n",
    "    dropout_mask = np.random.choice(2, np.shape(matrix), p=[keep_prop, 1 - keep_prop])\n",
    "    dropout_mask &= matrix != pad_ix\n",
    "    return np.choose(dropout_mask, [matrix, np.full_like(matrix, replace_with)])\n",
    "\n",
    "\n",
    "\n",
    "def to_tensors(batch):\n",
    "    batch_tensors = dict()\n",
    "    for key, arr in batch.items():\n",
    "        batch_tensors[key] = torch.tensor(arr)\n",
    "    return batch_tensors\n",
    "    \n",
    "\n",
    "\n",
    "# make_batch(data, 1, title_word_dropout=0.0, descr_word_dropout=0.)\n",
    "\n",
    "# apply_word_dropout(matrix=np.array([\n",
    "#     [2, 3, 1, 1, 1],\n",
    "#     [3, 4, 1, 1, 1]\n",
    "# ]), keep_prop=0.8)"
   ]
  },
  {
   "cell_type": "code",
   "execution_count": 18,
   "id": "f7341638-2d50-4427-81c0-54931b4e240a",
   "metadata": {},
   "outputs": [],
   "source": [
    "class Model(nn.Module):\n",
    "    \n",
    "    def __init__(self, embedding_dim=64, n_tokens=len(tokens), n_cat_features=len(categorical_vectorizer.vocabulary_)):\n",
    "        super().__init__()\n",
    "        \n",
    "        self.full_description_emb = nn.Embedding(n_tokens, embedding_dim)\n",
    "        self.title_emb = nn.Embedding(n_tokens, embedding_dim)\n",
    "        \n",
    "        self.full_description_seq = nn.Sequential(\n",
    "            nn.Conv1d(in_channels=embedding_dim, out_channels=16, kernel_size=3, stride=1),\n",
    "            nn.Tanh()\n",
    "        )\n",
    "        \n",
    "        self.title_seq = nn.Sequential(\n",
    "            nn.Conv1d(in_channels=embedding_dim, out_channels=16, kernel_size=3, stride=1),\n",
    "            nn.Tanh()\n",
    "        )\n",
    "        \n",
    "        self.categorical_seq = nn.Linear(in_features=n_cat_features, out_features=16)\n",
    "        \n",
    "        self.final = nn.Linear(in_features=16 * 3, out_features=1)\n",
    "    \n",
    "    def forward(self, batch):\n",
    "        full_description = batch[\"FullDescription\"]\n",
    "        title = batch[\"Title\"]\n",
    "        categorical = batch[\"Categorical\"]\n",
    "        \n",
    "        full_description_emb = self.full_description_emb(full_description).transpose(1, 2)\n",
    "        full_description_output = self.full_description_seq(full_description_emb).mean(dim=2)\n",
    "        \n",
    "        title_emb = self.title_emb(title).transpose(1, 2)\n",
    "        title_output = self.title_seq(title_emb).mean(dim=2)\n",
    "        \n",
    "        categorical_output = self.categorical_seq(categorical)\n",
    "\n",
    "        merged_output = torch.cat([full_description_output, title_output, categorical_output], dim=1)\n",
    "\n",
    "        output = self.final(merged_output).reshape(-1)\n",
    "        return output"
   ]
  },
  {
   "cell_type": "code",
   "execution_count": 19,
   "id": "867cd704-98ad-4259-bcfc-6e94563466d5",
   "metadata": {},
   "outputs": [],
   "source": [
    "def iterate_minibatches(data, batch_size=256, shuffle=True, device=torch.device('cpu'), **kwargs):\n",
    "    indices = np.arange(len(data))\n",
    "    if shuffle:\n",
    "        indices = np.random.permutation(indices)\n",
    "\n",
    "    for start in range(0, len(indices), batch_size):\n",
    "        batch = make_batch(data.iloc[indices[start : start + batch_size]], batch_size=batch_size, **kwargs)\n",
    "        yield batch"
   ]
  },
  {
   "cell_type": "code",
   "execution_count": 20,
   "id": "4c99ed6f-7e09-45d0-907f-eb167027d5c3",
   "metadata": {},
   "outputs": [],
   "source": [
    "import tqdm\n",
    "\n",
    "BATCH_SIZE = 16\n",
    "EPOCHS = 20\n",
    "DEVICE = torch.device('cpu')\n",
    "\n",
    "\n",
    "def print_metrics(model, data, batch_size=BATCH_SIZE, name=\"\", **kw):\n",
    "    squared_error = abs_error = num_samples = 0.0\n",
    "    model.eval()\n",
    "    with torch.no_grad():\n",
    "        for batch in iterate_minibatches(data, batch_size=batch_size, shuffle=False, **kw):\n",
    "            batch_pred = model(batch)\n",
    "            squared_error += torch.sum(torch.square(batch_pred - batch[TARGET_COLUMN]))\n",
    "            abs_error += torch.sum(torch.abs(batch_pred - batch[TARGET_COLUMN]))\n",
    "            num_samples += len(batch_pred)\n",
    "    mse = squared_error.detach().cpu().numpy() / num_samples\n",
    "    mae = abs_error.detach().cpu().numpy() / num_samples\n",
    "    print(\"%s results:\" % (name or \"\"))\n",
    "    print(\"Mean square error: %.5f\" % mse)\n",
    "    print(\"Mean absolute error: %.5f\" % mae)\n",
    "    return mse, mae"
   ]
  },
  {
   "cell_type": "code",
   "execution_count": 21,
   "id": "e9090c63-8a93-445c-93db-8974e1e8e5bd",
   "metadata": {},
   "outputs": [],
   "source": [
    "model     = Model()\n",
    "criterion = nn.MSELoss(reduction='sum')\n",
    "optimizer = torch.optim.SGD(model.parameters(), lr=1e-4)"
   ]
  },
  {
   "cell_type": "code",
   "execution_count": 22,
   "id": "f7c8a41f-61bf-4995-918d-d960298b1986",
   "metadata": {},
   "outputs": [
    {
     "name": "stdout",
     "output_type": "stream",
     "text": [
      "epoch: 0\n"
     ]
    },
    {
     "data": {
      "application/vnd.jupyter.widget-view+json": {
       "model_id": "0a9306309f6c49d4b7b9b85b04331c87",
       "version_major": 2,
       "version_minor": 0
      },
      "text/plain": [
       "  0%|          | 0/500 [00:00<?, ?it/s]"
      ]
     },
     "metadata": {},
     "output_type": "display_data"
    },
    {
     "name": "stdout",
     "output_type": "stream",
     "text": [
      " results:\n",
      "Mean square error: 1.14527\n",
      "Mean absolute error: 0.82701\n",
      "epoch: 1\n"
     ]
    },
    {
     "data": {
      "application/vnd.jupyter.widget-view+json": {
       "model_id": "9f0032750e23416482c23dcfbf7dd2c6",
       "version_major": 2,
       "version_minor": 0
      },
      "text/plain": [
       "  0%|          | 0/500 [00:00<?, ?it/s]"
      ]
     },
     "metadata": {},
     "output_type": "display_data"
    },
    {
     "name": "stdout",
     "output_type": "stream",
     "text": [
      "epoch: 2\n"
     ]
    },
    {
     "data": {
      "application/vnd.jupyter.widget-view+json": {
       "model_id": "9841f941955d4e94be44a5ccf1772d86",
       "version_major": 2,
       "version_minor": 0
      },
      "text/plain": [
       "  0%|          | 0/500 [00:00<?, ?it/s]"
      ]
     },
     "metadata": {},
     "output_type": "display_data"
    },
    {
     "name": "stdout",
     "output_type": "stream",
     "text": [
      "epoch: 3\n"
     ]
    },
    {
     "data": {
      "application/vnd.jupyter.widget-view+json": {
       "model_id": "568fa0acdab04ad88f68876bc4d22642",
       "version_major": 2,
       "version_minor": 0
      },
      "text/plain": [
       "  0%|          | 0/500 [00:00<?, ?it/s]"
      ]
     },
     "metadata": {},
     "output_type": "display_data"
    },
    {
     "name": "stdout",
     "output_type": "stream",
     "text": [
      "epoch: 4\n"
     ]
    },
    {
     "data": {
      "application/vnd.jupyter.widget-view+json": {
       "model_id": "95dc09ce23874855b65d82562c86b520",
       "version_major": 2,
       "version_minor": 0
      },
      "text/plain": [
       "  0%|          | 0/500 [00:00<?, ?it/s]"
      ]
     },
     "metadata": {},
     "output_type": "display_data"
    },
    {
     "name": "stdout",
     "output_type": "stream",
     "text": [
      "epoch: 5\n"
     ]
    },
    {
     "data": {
      "application/vnd.jupyter.widget-view+json": {
       "model_id": "0e78ef0ce14447388c90cf870717d389",
       "version_major": 2,
       "version_minor": 0
      },
      "text/plain": [
       "  0%|          | 0/500 [00:00<?, ?it/s]"
      ]
     },
     "metadata": {},
     "output_type": "display_data"
    },
    {
     "name": "stdout",
     "output_type": "stream",
     "text": [
      "epoch: 6\n"
     ]
    },
    {
     "data": {
      "application/vnd.jupyter.widget-view+json": {
       "model_id": "277dabc1a984461bbd5902178f776f3d",
       "version_major": 2,
       "version_minor": 0
      },
      "text/plain": [
       "  0%|          | 0/500 [00:00<?, ?it/s]"
      ]
     },
     "metadata": {},
     "output_type": "display_data"
    },
    {
     "name": "stdout",
     "output_type": "stream",
     "text": [
      "epoch: 7\n"
     ]
    },
    {
     "data": {
      "application/vnd.jupyter.widget-view+json": {
       "model_id": "01b583c75bc741db954756238bdbe745",
       "version_major": 2,
       "version_minor": 0
      },
      "text/plain": [
       "  0%|          | 0/500 [00:00<?, ?it/s]"
      ]
     },
     "metadata": {},
     "output_type": "display_data"
    },
    {
     "name": "stdout",
     "output_type": "stream",
     "text": [
      "epoch: 8\n"
     ]
    },
    {
     "data": {
      "application/vnd.jupyter.widget-view+json": {
       "model_id": "732a5ddc249442a6b633f97f13b0e2a4",
       "version_major": 2,
       "version_minor": 0
      },
      "text/plain": [
       "  0%|          | 0/500 [00:00<?, ?it/s]"
      ]
     },
     "metadata": {},
     "output_type": "display_data"
    },
    {
     "name": "stdout",
     "output_type": "stream",
     "text": [
      "epoch: 9\n"
     ]
    },
    {
     "data": {
      "application/vnd.jupyter.widget-view+json": {
       "model_id": "70efaa317f294383b76c6da31431eb23",
       "version_major": 2,
       "version_minor": 0
      },
      "text/plain": [
       "  0%|          | 0/500 [00:00<?, ?it/s]"
      ]
     },
     "metadata": {},
     "output_type": "display_data"
    },
    {
     "name": "stdout",
     "output_type": "stream",
     "text": [
      "epoch: 10\n"
     ]
    },
    {
     "data": {
      "application/vnd.jupyter.widget-view+json": {
       "model_id": "eb9bd8ad7a0749afa955c9f3d926fdc7",
       "version_major": 2,
       "version_minor": 0
      },
      "text/plain": [
       "  0%|          | 0/500 [00:00<?, ?it/s]"
      ]
     },
     "metadata": {},
     "output_type": "display_data"
    },
    {
     "name": "stdout",
     "output_type": "stream",
     "text": [
      " results:\n",
      "Mean square error: 0.17011\n",
      "Mean absolute error: 0.31508\n",
      "epoch: 11\n"
     ]
    },
    {
     "data": {
      "application/vnd.jupyter.widget-view+json": {
       "model_id": "b4098895e1ec4741855a9dfb825779a1",
       "version_major": 2,
       "version_minor": 0
      },
      "text/plain": [
       "  0%|          | 0/500 [00:00<?, ?it/s]"
      ]
     },
     "metadata": {},
     "output_type": "display_data"
    },
    {
     "name": "stdout",
     "output_type": "stream",
     "text": [
      "epoch: 12\n"
     ]
    },
    {
     "data": {
      "application/vnd.jupyter.widget-view+json": {
       "model_id": "44ac35d6754c44869182e32124591af2",
       "version_major": 2,
       "version_minor": 0
      },
      "text/plain": [
       "  0%|          | 0/500 [00:00<?, ?it/s]"
      ]
     },
     "metadata": {},
     "output_type": "display_data"
    },
    {
     "name": "stdout",
     "output_type": "stream",
     "text": [
      "epoch: 13\n"
     ]
    },
    {
     "data": {
      "application/vnd.jupyter.widget-view+json": {
       "model_id": "b3f5155a6fdf4624af780e7b3ce035a7",
       "version_major": 2,
       "version_minor": 0
      },
      "text/plain": [
       "  0%|          | 0/500 [00:00<?, ?it/s]"
      ]
     },
     "metadata": {},
     "output_type": "display_data"
    },
    {
     "name": "stdout",
     "output_type": "stream",
     "text": [
      "epoch: 14\n"
     ]
    },
    {
     "data": {
      "application/vnd.jupyter.widget-view+json": {
       "model_id": "bbdf927afc2c40bbbdc718d25cba1596",
       "version_major": 2,
       "version_minor": 0
      },
      "text/plain": [
       "  0%|          | 0/500 [00:00<?, ?it/s]"
      ]
     },
     "metadata": {},
     "output_type": "display_data"
    },
    {
     "name": "stdout",
     "output_type": "stream",
     "text": [
      "epoch: 15\n"
     ]
    },
    {
     "data": {
      "application/vnd.jupyter.widget-view+json": {
       "model_id": "a764d6976d93401691c7a93276cb263f",
       "version_major": 2,
       "version_minor": 0
      },
      "text/plain": [
       "  0%|          | 0/500 [00:00<?, ?it/s]"
      ]
     },
     "metadata": {},
     "output_type": "display_data"
    },
    {
     "name": "stdout",
     "output_type": "stream",
     "text": [
      "epoch: 16\n"
     ]
    },
    {
     "data": {
      "application/vnd.jupyter.widget-view+json": {
       "model_id": "b9ffb91458b34a12a4dd38185055d961",
       "version_major": 2,
       "version_minor": 0
      },
      "text/plain": [
       "  0%|          | 0/500 [00:00<?, ?it/s]"
      ]
     },
     "metadata": {},
     "output_type": "display_data"
    },
    {
     "name": "stdout",
     "output_type": "stream",
     "text": [
      "epoch: 17\n"
     ]
    },
    {
     "data": {
      "application/vnd.jupyter.widget-view+json": {
       "model_id": "e0bcc980b30646ff850d4a88eb32df6c",
       "version_major": 2,
       "version_minor": 0
      },
      "text/plain": [
       "  0%|          | 0/500 [00:00<?, ?it/s]"
      ]
     },
     "metadata": {},
     "output_type": "display_data"
    },
    {
     "name": "stdout",
     "output_type": "stream",
     "text": [
      "epoch: 18\n"
     ]
    },
    {
     "data": {
      "application/vnd.jupyter.widget-view+json": {
       "model_id": "7f08eb5ec3d54aebbe226e84cb9b896e",
       "version_major": 2,
       "version_minor": 0
      },
      "text/plain": [
       "  0%|          | 0/500 [00:00<?, ?it/s]"
      ]
     },
     "metadata": {},
     "output_type": "display_data"
    },
    {
     "name": "stdout",
     "output_type": "stream",
     "text": [
      "epoch: 19\n"
     ]
    },
    {
     "data": {
      "application/vnd.jupyter.widget-view+json": {
       "model_id": "ca0c5538758b4c8c91b1eb8434a022af",
       "version_major": 2,
       "version_minor": 0
      },
      "text/plain": [
       "  0%|          | 0/500 [00:00<?, ?it/s]"
      ]
     },
     "metadata": {},
     "output_type": "display_data"
    }
   ],
   "source": [
    "for epoch in range(EPOCHS):\n",
    "    print(f\"epoch: {epoch}\")\n",
    "    model.train()\n",
    "    for i, batch in tqdm.notebook.tqdm(enumerate(\n",
    "            iterate_minibatches(data_train, batch_size=BATCH_SIZE, device=DEVICE)),\n",
    "            total=len(data_train) // BATCH_SIZE\n",
    "        ):\n",
    "        pred = model(batch)\n",
    "        loss = criterion(pred, batch[TARGET_COLUMN])\n",
    "        optimizer.zero_grad()\n",
    "        loss.backward()\n",
    "        optimizer.step()\n",
    "        \n",
    "    if epoch % 10 == 0: \n",
    "        print_metrics(model, data_val)"
   ]
  },
  {
   "cell_type": "code",
   "execution_count": 26,
   "id": "260af998-074d-4882-917a-cb9880f05433",
   "metadata": {},
   "outputs": [],
   "source": [
    "def explain(model, sample, col_name, sensitivity=1):\n",
    "    sample_col_tokens = [tokens[token_to_idx.get(tok, 0)] for tok in sample[col_name].split()]\n",
    "\n",
    "    data_drop_one_token = pd.DataFrame([sample] * (len(sample_col_tokens)))\n",
    "    data_full           = pd.DataFrame([sample] * (len(sample_col_tokens)))\n",
    "\n",
    "    # Since we want to try to drop each word we will have\n",
    "    # to set 'number of words' times UNC to different position\n",
    "    batch_size = len(data_full)\n",
    "\n",
    "    text_col_idx = data_full.columns.get_loc(col_name)\n",
    "    text = data_drop_one_token.iloc[0, text_col_idx].split()\n",
    "\n",
    "    for i in range(batch_size):\n",
    "        data_drop_one_token.iloc[i, text_col_idx] = ' '.join([UNK if j == i else t for j, t in enumerate(text)])\n",
    "\n",
    "    data_drop_one_token_batch  = make_batch(data_drop_one_token, batch_size)\n",
    "    data_drop_one_token_output = model.forward(data_drop_one_token_batch)\n",
    "\n",
    "\n",
    "    data_baseline_batch = make_batch(data_full, batch_size)\n",
    "    data_baseline = model.forward(data_baseline_batch)\n",
    "\n",
    "    # if diff < 0 it means that without word, the price is higher,\n",
    "    # so probably its red flag, lets make it red\n",
    "    # and if diff > 0 it means that without price is lower\n",
    "    diff = (data_baseline - data_drop_one_token_output).detach() * sensitivity\n",
    "    return list(zip(text, diff))\n",
    "    \n",
    "# explain(model=model, sample=data.iloc[2], col_name='Title')"
   ]
  },
  {
   "cell_type": "code",
   "execution_count": 27,
   "id": "4962cb91-9e0e-40b4-a154-254e799bf223",
   "metadata": {},
   "outputs": [],
   "source": [
    "from IPython.display import HTML, display_html\n",
    "\n",
    "\n",
    "def draw_html(tokens_and_weights, cmap=plt.get_cmap(\"bwr\"), display=True,\n",
    "              token_template=\"\"\"<span style=\"background-color: {color_hex}\">{token}</span>\"\"\",\n",
    "              font_style=\"font-size:14px;\"):\n",
    "    \n",
    "    def get_color_hex(weight):\n",
    "        # weight here is out diff so when its < 0 then it means without this word\n",
    "        # price would be higher so its reg flag to delete\n",
    "        # Sigmoid kind of\n",
    "        rgba = cmap(1. / (1 + np.exp(weight.detach().numpy())), bytes=True)\n",
    "        return '#%02X%02X%02X' % rgba[:3]\n",
    "    \n",
    "    tokens_html = [\n",
    "        token_template.format(token=token, color_hex=get_color_hex(weight))\n",
    "        for token, weight in tokens_and_weights\n",
    "    ]\n",
    "    \n",
    "    raw_html = \"\"\"<p style=\"{}\">{}</p>\"\"\".format(font_style, ' '.join(tokens_html))\n",
    "    if display:\n",
    "        display_html(HTML(raw_html))\n",
    "        \n",
    "    return raw_html"
   ]
  },
  {
   "cell_type": "code",
   "execution_count": 36,
   "id": "57b79463-7b0c-4564-a8b5-ff3186a2dddf",
   "metadata": {},
   "outputs": [
    {
     "data": {
      "text/html": [
       "<p style=\"font-size:14px;\"><span style=\"background-color: #E8E8FF\">control</span> <span style=\"background-color: #F0F0FF\">and</span> <span style=\"background-color: #FFE2E2\">instrumentation</span> <span style=\"background-color: #FFECEC\">engineer</span></p>"
      ]
     },
     "metadata": {},
     "output_type": "display_data"
    },
    {
     "data": {
      "text/html": [
       "<p style=\"font-size:14px;\"><span style=\"background-color: #FFFAFA\">control</span> <span style=\"background-color: #F3F3FF\">and</span> <span style=\"background-color: #FFF4F4\">instrumentation</span> <span style=\"background-color: #FFECEC\">engineer</span> <span style=\"background-color: #FFFCFC\">/</span> <span style=\"background-color: #FFECEC\">c</span> <span style=\"background-color: #FFF2F2\">reading</span> <span style=\"background-color: #FAFAFF\">.</span> <span style=\"background-color: #FFF0F0\">our</span> <span style=\"background-color: #FFE8E8\">client</span> <span style=\"background-color: #FFECEC\">is</span> <span style=\"background-color: #FFECEC\">seeking</span> <span style=\"background-color: #FFD6D6\">applications</span> <span style=\"background-color: #FFF0F0\">from</span> <span style=\"background-color: #FFECEC\">experienced</span> <span style=\"background-color: #FFE8E8\">c</span> <span style=\"background-color: #FFEEEE\">control</span> <span style=\"background-color: #F3F3FF\">and</span> <span style=\"background-color: #FFF4F4\">instrumentation</span> <span style=\"background-color: #FFECEC\">engineer</span> <span style=\"background-color: #FFFCFC\">/</span> <span style=\"background-color: #FFEAEA\">c</span> <span style=\"background-color: #FFEAEA\">degree</span> <span style=\"background-color: #FFEEEE\">(</span> <span style=\"background-color: #FAFAFF\">or</span> <span style=\"background-color: #FFF0F0\">equivalent</span> <span style=\"background-color: #FFF4F4\">)</span> <span style=\"background-color: #FAFAFF\">in</span> <span style=\"background-color: #FFFCFC\">electrical</span> <span style=\"background-color: #FCFCFF\">,</span> <span style=\"background-color: #FFFAFA\">electronic</span> <span style=\"background-color: #FCFCFF\">or</span> <span style=\"background-color: #FFF4F4\">control</span> <span style=\"background-color: #F6F6FF\">and</span> <span style=\"background-color: #FFF8F8\">instrumentation</span> <span style=\"background-color: #FEFEFF\">engineering</span> <span style=\"background-color: #FAFAFF\">or</span> <span style=\"background-color: #FFF4F4\">other</span> <span style=\"background-color: #FFF6F6\">relevant</span> <span style=\"background-color: #FFF6F6\">discipline</span> <span style=\"background-color: #FAFAFF\">.</span> <span style=\"background-color: #FAFAFF\">chartered</span> <span style=\"background-color: #FFF6F6\">engineer</span> <span style=\"background-color: #FAFAFF\">.</span> <span style=\"background-color: #FFFAFA\">able</span> <span style=\"background-color: #FAFAFF\">to</span> <span style=\"background-color: #FFF4F4\">demonstrate</span> <span style=\"background-color: #FFE8E8\">sound</span> <span style=\"background-color: #FFECEC\">technical</span> <span style=\"background-color: #FFF8F8\">experience</span> <span style=\"background-color: #FAFAFF\">.</span> <span style=\"background-color: #FAFAFF\">a</span> <span style=\"background-color: #FFF2F2\">sufficient</span> <span style=\"background-color: #F6F6FF\">and</span> <span style=\"background-color: #FFF6F6\">appropriate</span> <span style=\"background-color: #FFFCFC\">level</span> <span style=\"background-color: #FFFCFC\">of</span> <span style=\"background-color: #FFF6F6\">building</span> <span style=\"background-color: #FFEEEE\">services</span> <span style=\"background-color: #F3F3FF\">and</span> <span style=\"background-color: #FFFAFA\">controls</span> <span style=\"background-color: #FFF8F8\">experience</span> <span style=\"background-color: #FFF6F6\">gained</span> <span style=\"background-color: #FFF6F6\">within</span> <span style=\"background-color: #F8F8FF\">a</span> <span style=\"background-color: #FFEEEE\">client</span> <span style=\"background-color: #FFF6F6\">organisation</span> <span style=\"background-color: #FAFAFF\">,</span> <span style=\"background-color: #FEFEFF\">engineering</span> <span style=\"background-color: #FCFCFF\">consultancy</span> <span style=\"background-color: #F8F8FF\">or</span> <span style=\"background-color: #FFE6E6\">equipment</span> <span style=\"background-color: #FFEEEE\">supplier</span> <span style=\"background-color: #FCFCFF\">.</span> <span style=\"background-color: #FFF4F4\">project</span> <span style=\"background-color: #FFF2F2\">management</span> <span style=\"background-color: #FAFAFF\">,</span> <span style=\"background-color: #FFF2F2\">including</span> <span style=\"background-color: #FFF8F8\">controls</span> <span style=\"background-color: #F8F8FF\">,</span> <span style=\"background-color: #FFF2F2\">planning</span> <span style=\"background-color: #F2F2FF\">and</span> <span style=\"background-color: #FFECEC\">estimating</span> <span style=\"background-color: #F3F3FF\">and</span> <span style=\"background-color: #FFF2F2\">preparation</span> <span style=\"background-color: #FEFEFF\">of</span> <span style=\"background-color: #FFFEFE\">deliverable</span> <span style=\"background-color: #FFFEFE\">/</span> <span style=\"background-color: #FFEAEA\">work</span> <span style=\"background-color: #FFF0F0\">package</span> <span style=\"background-color: #FCFCFF\">.</span> <span style=\"background-color: #FFF6F6\">desirable</span> <span style=\"background-color: #FFE6E6\">working</span> <span style=\"background-color: #FFF4F4\">within</span> <span style=\"background-color: #FAFAFF\">a</span> <span style=\"background-color: #FFFEFE\">multidiscipline</span> <span style=\"background-color: #FEFEFF\">engineering</span> <span style=\"background-color: #FFFAFA\">team</span> <span style=\"background-color: #F8F8FF\">and</span> <span style=\"background-color: #FFF6F6\">having</span> <span style=\"background-color: #F8F8FF\">a</span> <span style=\"background-color: #FFE2E2\">general</span> <span style=\"background-color: #FFF0F0\">appreciation</span> <span style=\"background-color: #FFFEFE\">of</span> <span style=\"background-color: #FFEAEA\">other</span> <span style=\"background-color: #FFE4E4\">disciplines</span> <span style=\"background-color: #FFF0F0\">constraints</span> <span style=\"background-color: #F6F6FF\">and</span> <span style=\"background-color: #FFF2F2\">requirements</span> <span style=\"background-color: #FCFCFF\">.</span> <span style=\"background-color: #FFFCFC\">nuclear</span> <span style=\"background-color: #FFEAEA\">safety</span> <span style=\"background-color: #FFF8F8\">case</span> <span style=\"background-color: #FFF2F2\">issues</span> <span style=\"background-color: #F8F8FF\">and</span> <span style=\"background-color: #FFFEFE\">nii</span> <span style=\"background-color: #FFF4F4\">site</span> <span style=\"background-color: #FFEEEE\">licence</span> <span style=\"background-color: #FFF2F2\">conditions</span> <span style=\"background-color: #FAFAFF\">.</span> <span style=\"background-color: #FFF6F6\">building</span> <span style=\"background-color: #FFF4F4\">management</span> <span style=\"background-color: #FFF2F2\">systems</span> <span style=\"background-color: #FCFCFF\">.</span> <span style=\"background-color: #FCFCFF\">fire</span> <span style=\"background-color: #FFF6F6\">detection</span> <span style=\"background-color: #F6F6FF\">and</span> <span style=\"background-color: #FFF0F0\">alarms</span> <span style=\"background-color: #FCFCFF\">.</span> <span style=\"background-color: #FFFAFA\">telecoms</span> <span style=\"background-color: #FAFAFF\">.</span> <span style=\"background-color: #FFF0F0\">ups</span> <span style=\"background-color: #FCFCFF\">.</span> <span style=\"background-color: #FFF8F8\">experience</span> <span style=\"background-color: #FFFEFE\">of</span> <span style=\"background-color: #F3F3FF\">the</span> <span style=\"background-color: #FFFCFC\">nuclear</span> <span style=\"background-color: #FFF2F2\">industry</span> <span style=\"background-color: #FAFAFF\">.</span> <span style=\"background-color: #FFF6F6\">experience</span> <span style=\"background-color: #FFFEFE\">of</span> <span style=\"background-color: #FFFEFE\">iee</span> <span style=\"background-color: #FFF6F6\">wiring</span> <span style=\"background-color: #FFF8F8\">regulations</span> <span style=\"background-color: #FFEAEA\">17th</span> <span style=\"background-color: #FFEEEE\">edition</span> <span style=\"background-color: #FFE4E4\">bs</span> <span style=\"background-color: #FFFAFA\">****</span> <span style=\"background-color: #FFF6F6\">experience</span> <span style=\"background-color: #FFFEFE\">of</span> <span style=\"background-color: #FFF4F4\">transmission</span> <span style=\"background-color: #FFF8F8\">(****</span> <span style=\"background-color: #FFFEFE\">kv</span> <span style=\"background-color: #FFF2F2\">)</span> <span style=\"background-color: #FFFAFA\">electrical</span> <span style=\"background-color: #FEFEFF\">plant</span> <span style=\"background-color: #F8F8FF\">and</span> <span style=\"background-color: #FFF8F8\">configuration</span> <span style=\"background-color: #FFFAFA\">design</span> <span style=\"background-color: #FCFCFF\">.</span> <span style=\"background-color: #FFF8F8\">experience</span> <span style=\"background-color: #FFFEFE\">of</span> <span style=\"background-color: #FFF8F8\">distribution</span> <span style=\"background-color: #FFEEEE\">(</span> <span style=\"background-color: #FFF2F2\">up</span> <span style=\"background-color: #FCFCFF\">to</span> <span style=\"background-color: #FFFCFC\">****</span> <span style=\"background-color: #FFFEFE\">kv</span> <span style=\"background-color: #FFF4F4\">)</span> <span style=\"background-color: #FFFAFA\">electrical</span> <span style=\"background-color: #FEFEFF\">plant</span> <span style=\"background-color: #F8F8FF\">and</span> <span style=\"background-color: #FFF8F8\">configuration</span> <span style=\"background-color: #FFFAFA\">design</span> <span style=\"background-color: #FCFCFF\">.</span> <span style=\"background-color: #FFF8F8\">experience</span> <span style=\"background-color: #FFFEFE\">of</span> <span style=\"background-color: #FFEAEA\">protection</span> <span style=\"background-color: #F3F3FF\">and</span> <span style=\"background-color: #FFF2F2\">control</span> <span style=\"background-color: #FFF8F8\">design</span> <span style=\"background-color: #FFE8E8\">at</span> <span style=\"background-color: #FFF4F4\">transmission</span> <span style=\"background-color: #F6F6FF\">and</span> <span style=\"background-color: #FFFEFE\">distribution</span> <span style=\"background-color: #FFFEFE\">voltages</span> <span style=\"background-color: #FAFAFF\">.</span> <span style=\"background-color: #F3F3FF\">the</span> <span style=\"background-color: #FFECEC\">individual</span> <span style=\"background-color: #FFF2F2\">control</span> <span style=\"background-color: #F3F3FF\">and</span> <span style=\"background-color: #FFF4F4\">instrumentation</span> <span style=\"background-color: #FFF0F0\">engineer</span> <span style=\"background-color: #F8F8FF\">a</span> <span style=\"background-color: #FFF4F4\">confident</span> <span style=\"background-color: #F8F8FF\">and</span> <span style=\"background-color: #FFFEFE\">professional</span> <span style=\"background-color: #FFFEFE\">manner</span> <span style=\"background-color: #FAFAFF\">.</span> <span style=\"background-color: #FFF8F8\">excellent</span> <span style=\"background-color: #FFE8E8\">communication</span> <span style=\"background-color: #FFECEC\">skills</span> <span style=\"background-color: #FCFCFF\">.</span> <span style=\"background-color: #FFF6F6\">ability</span> <span style=\"background-color: #FAFAFF\">to</span> <span style=\"background-color: #FFF0F0\">use</span> <span style=\"background-color: #FFE8E8\">initiative</span> <span style=\"background-color: #F2F2FF\">and</span> <span style=\"background-color: #FFF4F4\">demonstrate</span> <span style=\"background-color: #FFEAEA\">creativity</span> <span style=\"background-color: #FAFAFF\">.</span> <span style=\"background-color: #FFF2F2\">self</span> <span style=\"background-color: #FFECEC\">motivated</span> <span style=\"background-color: #F6F6FF\">and</span> <span style=\"background-color: #FFF2F2\">committed</span> <span style=\"background-color: #FAFAFF\">to</span> <span style=\"background-color: #FFF8F8\">further</span> <span style=\"background-color: #FFFAFA\">study</span> <span style=\"background-color: #FCFCFF\">.</span> <span style=\"background-color: #FFF8F8\">ability</span> <span style=\"background-color: #FAFAFF\">to</span> <span style=\"background-color: #FFEAEA\">work</span> <span style=\"background-color: #FFF4F4\">within</span> <span style=\"background-color: #FAFAFF\">a</span> <span style=\"background-color: #FFFAFA\">team</span> <span style=\"background-color: #FCFCFF\">.</span> <span style=\"background-color: #FFF6F6\">responsibilities</span> <span style=\"background-color: #FFF8F8\">responsible</span> <span style=\"background-color: #FFFAFA\">for</span> <span style=\"background-color: #FFF4F4\">providing</span> <span style=\"background-color: #FFEAEA\">technical</span> <span style=\"background-color: #FFE8E8\">input</span> <span style=\"background-color: #FFE4E4\">into</span> <span style=\"background-color: #F3F3FF\">the</span> <span style=\"background-color: #FFF4F4\">control</span> <span style=\"background-color: #F6F6FF\">and</span> <span style=\"background-color: #FFF6F6\">instrumentation</span> <span style=\"background-color: #FCFCFF\">,</span> <span style=\"background-color: #F8F8FF\">and</span> <span style=\"background-color: #FFFAFA\">potentially</span> <span style=\"background-color: #FFFCFC\">electrical</span> <span style=\"background-color: #FAFAFF\">,</span> <span style=\"background-color: #FFF8F8\">design</span> <span style=\"background-color: #FFF6F6\">aspects</span> <span style=\"background-color: #FFFEFE\">of</span> <span style=\"background-color: #FFFEFE\">substation</span> <span style=\"background-color: #FFF0F0\">refurbishment</span> <span style=\"background-color: #FFFCFC\">/</span> <span style=\"background-color: #FFFEFE\">rekit</span> <span style=\"background-color: #FFE8E8\">projects</span> <span style=\"background-color: #F3F3FF\">and</span> <span style=\"background-color: #FFF2F2\">leading</span> <span style=\"background-color: #FFFCFC\">electrical</span> <span style=\"background-color: #FFFCFC\">/</span> <span style=\"background-color: #FFF0F0\">control</span> <span style=\"background-color: #FFF0F0\">aspects</span> <span style=\"background-color: #FFFCFC\">of</span> <span style=\"background-color: #FFF0F0\">major</span> <span style=\"background-color: #FFE8E8\">infrastructure</span> <span style=\"background-color: #FFDCDC\">projects</span> <span style=\"background-color: #FFF0F0\">from</span> <span style=\"background-color: #FFFCFC\">system</span> <span style=\"background-color: #FFF6F6\">studies</span> <span style=\"background-color: #F6F6FF\">and</span> <span style=\"background-color: #FFF2F2\">investment</span> <span style=\"background-color: #FFF2F2\">appraisals</span> <span style=\"background-color: #FFF4F4\">through</span> <span style=\"background-color: #FAFAFF\">to</span> <span style=\"background-color: #FFF4F4\">detailed</span> <span style=\"background-color: #FFF8F8\">design</span> <span style=\"background-color: #FCFCFF\">.</span> <span style=\"background-color: #FFFAFA\">liaison</span> <span style=\"background-color: #FFF4F4\">with</span> <span style=\"background-color: #FFFCFC\">clients</span> <span style=\"background-color: #FAFAFF\">,</span> <span style=\"background-color: #FFFAFA\">suppliers</span> <span style=\"background-color: #F8F8FF\">and</span> <span style=\"background-color: #FFF4F4\">contractors</span> <span style=\"background-color: #FAFAFF\">.</span> <span style=\"background-color: #FFEEEE\">provide</span> <span style=\"background-color: #FFECEC\">technical</span> <span style=\"background-color: #FFE6E6\">input</span> <span style=\"background-color: #FFE6E6\">into</span> <span style=\"background-color: #F6F6FF\">the</span> <span style=\"background-color: #FEFEFF\">specification</span> <span style=\"background-color: #FCFCFF\">,</span> <span style=\"background-color: #FFFCFC\">selection</span> <span style=\"background-color: #F8F8FF\">and</span> <span style=\"background-color: #FFFCFC\">justification</span> <span style=\"background-color: #FFFEFE\">of</span> <span style=\"background-color: #FFF4F4\">relevant</span> <span style=\"background-color: #FFE6E6\">equipment</span> <span style=\"background-color: #FAFAFF\">.</span> <span style=\"background-color: #FFF2F2\">generation</span> <span style=\"background-color: #FFFCFC\">of</span> <span style=\"background-color: #FFF8F8\">front</span> <span style=\"background-color: #FFE6E6\">end</span> <span style=\"background-color: #FFFEFE\">engineering</span> <span style=\"background-color: #FFF6F6\">design</span> <span style=\"background-color: #FFF4F4\">packages</span> <span style=\"background-color: #FAFAFF\">.</span> <span style=\"background-color: #FFEEEE\">provide</span> <span style=\"background-color: #FFECEC\">technical</span> <span style=\"background-color: #FFE6E6\">input</span> <span style=\"background-color: #FFE6E6\">into</span> <span style=\"background-color: #F0F0FF\">the</span> <span style=\"background-color: #FFF4F4\">relevant</span> <span style=\"background-color: #FFE6E6\">equipment</span> <span style=\"background-color: #FFF0F0\">assessment</span> <span style=\"background-color: #F6F6FF\">and</span> <span style=\"background-color: #FFFCFC\">justification</span> <span style=\"background-color: #FFECEC\">reports</span> <span style=\"background-color: #FAFAFF\">.</span> <span style=\"background-color: #FFFAFA\">production</span> <span style=\"background-color: #FFFCFC\">of</span> <span style=\"background-color: #FFF4F4\">commissioning</span> <span style=\"background-color: #FFFEFE\">procedures</span> <span style=\"background-color: #FCFCFF\">.</span> <span style=\"background-color: #FFFAFA\">production</span> <span style=\"background-color: #FFFCFC\">of</span> <span style=\"background-color: #FFEEEE\">technical</span> <span style=\"background-color: #FFECEC\">specifications</span> <span style=\"background-color: #FAFAFF\">.</span> <span style=\"background-color: #FFF2F2\">control</span> <span style=\"background-color: #F3F3FF\">and</span> <span style=\"background-color: #FFF4F4\">instrumentation</span> <span style=\"background-color: #FFECEC\">engineer</span> <span style=\"background-color: #FFFCFC\">/</span> <span style=\"background-color: #FFEEEE\">c</span> <span style=\"background-color: #FFFCFC\">location</span> <span style=\"background-color: #FFF2F2\">reading</span> <span style=\"background-color: #FCFCFF\">,</span> <span style=\"background-color: #FFF8F8\">berkshire</span></p>"
      ]
     },
     "metadata": {},
     "output_type": "display_data"
    }
   ],
   "source": [
    "explain_title = explain(model=model, sensitivity=1, sample=data.iloc[23], col_name='Title')\n",
    "draw_html([(text, diff) for text, diff in explain_title]);\n",
    "\n",
    "explain_descr = explain(model=model, sensitivity=10, sample=data.iloc[23], col_name='FullDescription')\n",
    "draw_html([(text, diff) for text, diff in explain_descr]);"
   ]
  }
 ],
 "metadata": {
  "kernelspec": {
   "display_name": "Python 3 (ipykernel)",
   "language": "python",
   "name": "python3"
  },
  "language_info": {
   "codemirror_mode": {
    "name": "ipython",
    "version": 3
   },
   "file_extension": ".py",
   "mimetype": "text/x-python",
   "name": "python",
   "nbconvert_exporter": "python",
   "pygments_lexer": "ipython3",
   "version": "3.9.7"
  }
 },
 "nbformat": 4,
 "nbformat_minor": 5
}
