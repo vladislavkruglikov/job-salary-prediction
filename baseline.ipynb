{
 "cells": [
  {
   "cell_type": "code",
   "execution_count": 218,
   "id": "996ea3bd-69c8-4fbc-992e-ec53e501fcd6",
   "metadata": {},
   "outputs": [],
   "source": [
    "import pandas as pd\n",
    "import numpy  as np\n",
    "\n",
    "import matplotlib.pyplot as plt\n",
    "\n",
    "import torch\n",
    "import torch.nn as nn"
   ]
  },
  {
   "cell_type": "code",
   "execution_count": 219,
   "id": "927ee730-6f67-483c-bbf6-8185d64cf27a",
   "metadata": {},
   "outputs": [
    {
     "data": {
      "text/html": [
       "<div>\n",
       "<style scoped>\n",
       "    .dataframe tbody tr th:only-of-type {\n",
       "        vertical-align: middle;\n",
       "    }\n",
       "\n",
       "    .dataframe tbody tr th {\n",
       "        vertical-align: top;\n",
       "    }\n",
       "\n",
       "    .dataframe thead th {\n",
       "        text-align: right;\n",
       "    }\n",
       "</style>\n",
       "<table border=\"1\" class=\"dataframe\">\n",
       "  <thead>\n",
       "    <tr style=\"text-align: right;\">\n",
       "      <th></th>\n",
       "      <th>Id</th>\n",
       "      <th>Title</th>\n",
       "      <th>FullDescription</th>\n",
       "      <th>LocationRaw</th>\n",
       "      <th>LocationNormalized</th>\n",
       "      <th>ContractType</th>\n",
       "      <th>ContractTime</th>\n",
       "      <th>Company</th>\n",
       "      <th>Category</th>\n",
       "      <th>SalaryRaw</th>\n",
       "      <th>SalaryNormalized</th>\n",
       "      <th>SourceName</th>\n",
       "    </tr>\n",
       "  </thead>\n",
       "  <tbody>\n",
       "    <tr>\n",
       "      <th>0</th>\n",
       "      <td>12612628</td>\n",
       "      <td>Engineering Systems Analyst</td>\n",
       "      <td>Engineering Systems Analyst Dorking Surrey Sal...</td>\n",
       "      <td>Dorking, Surrey, Surrey</td>\n",
       "      <td>Dorking</td>\n",
       "      <td>NaN</td>\n",
       "      <td>permanent</td>\n",
       "      <td>Gregory Martin International</td>\n",
       "      <td>Engineering Jobs</td>\n",
       "      <td>20000 - 30000/annum 20-30K</td>\n",
       "      <td>25000</td>\n",
       "      <td>cv-library.co.uk</td>\n",
       "    </tr>\n",
       "    <tr>\n",
       "      <th>1</th>\n",
       "      <td>12612830</td>\n",
       "      <td>Stress Engineer Glasgow</td>\n",
       "      <td>Stress Engineer Glasgow Salary **** to **** We...</td>\n",
       "      <td>Glasgow, Scotland, Scotland</td>\n",
       "      <td>Glasgow</td>\n",
       "      <td>NaN</td>\n",
       "      <td>permanent</td>\n",
       "      <td>Gregory Martin International</td>\n",
       "      <td>Engineering Jobs</td>\n",
       "      <td>25000 - 35000/annum 25-35K</td>\n",
       "      <td>30000</td>\n",
       "      <td>cv-library.co.uk</td>\n",
       "    </tr>\n",
       "    <tr>\n",
       "      <th>2</th>\n",
       "      <td>12612844</td>\n",
       "      <td>Modelling and simulation analyst</td>\n",
       "      <td>Mathematical Modeller / Simulation Analyst / O...</td>\n",
       "      <td>Hampshire, South East, South East</td>\n",
       "      <td>Hampshire</td>\n",
       "      <td>NaN</td>\n",
       "      <td>permanent</td>\n",
       "      <td>Gregory Martin International</td>\n",
       "      <td>Engineering Jobs</td>\n",
       "      <td>20000 - 40000/annum 20-40K</td>\n",
       "      <td>30000</td>\n",
       "      <td>cv-library.co.uk</td>\n",
       "    </tr>\n",
       "    <tr>\n",
       "      <th>3</th>\n",
       "      <td>12613049</td>\n",
       "      <td>Engineering Systems Analyst / Mathematical Mod...</td>\n",
       "      <td>Engineering Systems Analyst / Mathematical Mod...</td>\n",
       "      <td>Surrey, South East, South East</td>\n",
       "      <td>Surrey</td>\n",
       "      <td>NaN</td>\n",
       "      <td>permanent</td>\n",
       "      <td>Gregory Martin International</td>\n",
       "      <td>Engineering Jobs</td>\n",
       "      <td>25000 - 30000/annum 25K-30K negotiable</td>\n",
       "      <td>27500</td>\n",
       "      <td>cv-library.co.uk</td>\n",
       "    </tr>\n",
       "    <tr>\n",
       "      <th>4</th>\n",
       "      <td>12613647</td>\n",
       "      <td>Pioneer, Miser Engineering Systems Analyst</td>\n",
       "      <td>Pioneer, Miser  Engineering Systems Analyst Do...</td>\n",
       "      <td>Surrey, South East, South East</td>\n",
       "      <td>Surrey</td>\n",
       "      <td>NaN</td>\n",
       "      <td>permanent</td>\n",
       "      <td>Gregory Martin International</td>\n",
       "      <td>Engineering Jobs</td>\n",
       "      <td>20000 - 30000/annum 20-30K</td>\n",
       "      <td>25000</td>\n",
       "      <td>cv-library.co.uk</td>\n",
       "    </tr>\n",
       "    <tr>\n",
       "      <th>...</th>\n",
       "      <td>...</td>\n",
       "      <td>...</td>\n",
       "      <td>...</td>\n",
       "      <td>...</td>\n",
       "      <td>...</td>\n",
       "      <td>...</td>\n",
       "      <td>...</td>\n",
       "      <td>...</td>\n",
       "      <td>...</td>\n",
       "      <td>...</td>\n",
       "      <td>...</td>\n",
       "      <td>...</td>\n",
       "    </tr>\n",
       "    <tr>\n",
       "      <th>244763</th>\n",
       "      <td>72705211</td>\n",
       "      <td>TEACHER OF SCIENCE</td>\n",
       "      <td>Position: Qualified Teacher Subject/Specialism...</td>\n",
       "      <td>Swindon</td>\n",
       "      <td>Swindon</td>\n",
       "      <td>NaN</td>\n",
       "      <td>contract</td>\n",
       "      <td>NaN</td>\n",
       "      <td>Teaching Jobs</td>\n",
       "      <td>450 - 500 per week</td>\n",
       "      <td>22800</td>\n",
       "      <td>hays.co.uk</td>\n",
       "    </tr>\n",
       "    <tr>\n",
       "      <th>244764</th>\n",
       "      <td>72705212</td>\n",
       "      <td>TEACHER OF BUSINESS STUDIES AND ICT</td>\n",
       "      <td>Position: Qualified Teacher or NQT Subject/Spe...</td>\n",
       "      <td>Swindon</td>\n",
       "      <td>Swindon</td>\n",
       "      <td>NaN</td>\n",
       "      <td>contract</td>\n",
       "      <td>NaN</td>\n",
       "      <td>Teaching Jobs</td>\n",
       "      <td>450 - 500 per week</td>\n",
       "      <td>22800</td>\n",
       "      <td>hays.co.uk</td>\n",
       "    </tr>\n",
       "    <tr>\n",
       "      <th>244765</th>\n",
       "      <td>72705213</td>\n",
       "      <td>ENGLISH TEACHER</td>\n",
       "      <td>Position: Qualified Teacher Subject/Specialism...</td>\n",
       "      <td>Swindon</td>\n",
       "      <td>Swindon</td>\n",
       "      <td>NaN</td>\n",
       "      <td>contract</td>\n",
       "      <td>NaN</td>\n",
       "      <td>Teaching Jobs</td>\n",
       "      <td>450 - 500 per week</td>\n",
       "      <td>22800</td>\n",
       "      <td>hays.co.uk</td>\n",
       "    </tr>\n",
       "    <tr>\n",
       "      <th>244766</th>\n",
       "      <td>72705216</td>\n",
       "      <td>SUPPLY TEACHERS</td>\n",
       "      <td>Position: Qualified Teacher Subject/Specialism...</td>\n",
       "      <td>Wiltshire</td>\n",
       "      <td>Wiltshire</td>\n",
       "      <td>NaN</td>\n",
       "      <td>contract</td>\n",
       "      <td>NaN</td>\n",
       "      <td>Teaching Jobs</td>\n",
       "      <td>450 to 500 per week</td>\n",
       "      <td>22800</td>\n",
       "      <td>hays.co.uk</td>\n",
       "    </tr>\n",
       "    <tr>\n",
       "      <th>244767</th>\n",
       "      <td>72705235</td>\n",
       "      <td>Accountant</td>\n",
       "      <td>This entrepreneurial and growing private equit...</td>\n",
       "      <td>Hitchin</td>\n",
       "      <td>Hitchin</td>\n",
       "      <td>NaN</td>\n",
       "      <td>permanent</td>\n",
       "      <td>NaN</td>\n",
       "      <td>Teaching Jobs</td>\n",
       "      <td>40-45,000</td>\n",
       "      <td>42500</td>\n",
       "      <td>hays.co.uk</td>\n",
       "    </tr>\n",
       "  </tbody>\n",
       "</table>\n",
       "<p>244768 rows × 12 columns</p>\n",
       "</div>"
      ],
      "text/plain": [
       "              Id                                              Title  \\\n",
       "0       12612628                        Engineering Systems Analyst   \n",
       "1       12612830                            Stress Engineer Glasgow   \n",
       "2       12612844                   Modelling and simulation analyst   \n",
       "3       12613049  Engineering Systems Analyst / Mathematical Mod...   \n",
       "4       12613647         Pioneer, Miser Engineering Systems Analyst   \n",
       "...          ...                                                ...   \n",
       "244763  72705211                                 TEACHER OF SCIENCE   \n",
       "244764  72705212                TEACHER OF BUSINESS STUDIES AND ICT   \n",
       "244765  72705213                                    ENGLISH TEACHER   \n",
       "244766  72705216                                    SUPPLY TEACHERS   \n",
       "244767  72705235                                         Accountant   \n",
       "\n",
       "                                          FullDescription  \\\n",
       "0       Engineering Systems Analyst Dorking Surrey Sal...   \n",
       "1       Stress Engineer Glasgow Salary **** to **** We...   \n",
       "2       Mathematical Modeller / Simulation Analyst / O...   \n",
       "3       Engineering Systems Analyst / Mathematical Mod...   \n",
       "4       Pioneer, Miser  Engineering Systems Analyst Do...   \n",
       "...                                                   ...   \n",
       "244763  Position: Qualified Teacher Subject/Specialism...   \n",
       "244764  Position: Qualified Teacher or NQT Subject/Spe...   \n",
       "244765  Position: Qualified Teacher Subject/Specialism...   \n",
       "244766  Position: Qualified Teacher Subject/Specialism...   \n",
       "244767  This entrepreneurial and growing private equit...   \n",
       "\n",
       "                              LocationRaw LocationNormalized ContractType  \\\n",
       "0                 Dorking, Surrey, Surrey            Dorking          NaN   \n",
       "1             Glasgow, Scotland, Scotland            Glasgow          NaN   \n",
       "2       Hampshire, South East, South East          Hampshire          NaN   \n",
       "3          Surrey, South East, South East             Surrey          NaN   \n",
       "4          Surrey, South East, South East             Surrey          NaN   \n",
       "...                                   ...                ...          ...   \n",
       "244763                            Swindon            Swindon          NaN   \n",
       "244764                            Swindon            Swindon          NaN   \n",
       "244765                            Swindon            Swindon          NaN   \n",
       "244766                          Wiltshire          Wiltshire          NaN   \n",
       "244767                            Hitchin            Hitchin          NaN   \n",
       "\n",
       "       ContractTime                       Company          Category  \\\n",
       "0         permanent  Gregory Martin International  Engineering Jobs   \n",
       "1         permanent  Gregory Martin International  Engineering Jobs   \n",
       "2         permanent  Gregory Martin International  Engineering Jobs   \n",
       "3         permanent  Gregory Martin International  Engineering Jobs   \n",
       "4         permanent  Gregory Martin International  Engineering Jobs   \n",
       "...             ...                           ...               ...   \n",
       "244763     contract                           NaN     Teaching Jobs   \n",
       "244764     contract                           NaN     Teaching Jobs   \n",
       "244765     contract                           NaN     Teaching Jobs   \n",
       "244766     contract                           NaN     Teaching Jobs   \n",
       "244767    permanent                           NaN     Teaching Jobs   \n",
       "\n",
       "                                     SalaryRaw  SalaryNormalized  \\\n",
       "0                   20000 - 30000/annum 20-30K             25000   \n",
       "1                   25000 - 35000/annum 25-35K             30000   \n",
       "2                   20000 - 40000/annum 20-40K             30000   \n",
       "3       25000 - 30000/annum 25K-30K negotiable             27500   \n",
       "4                   20000 - 30000/annum 20-30K             25000   \n",
       "...                                        ...               ...   \n",
       "244763                      450 - 500 per week             22800   \n",
       "244764                      450 - 500 per week             22800   \n",
       "244765                      450 - 500 per week             22800   \n",
       "244766                     450 to 500 per week             22800   \n",
       "244767                               40-45,000             42500   \n",
       "\n",
       "              SourceName  \n",
       "0       cv-library.co.uk  \n",
       "1       cv-library.co.uk  \n",
       "2       cv-library.co.uk  \n",
       "3       cv-library.co.uk  \n",
       "4       cv-library.co.uk  \n",
       "...                  ...  \n",
       "244763        hays.co.uk  \n",
       "244764        hays.co.uk  \n",
       "244765        hays.co.uk  \n",
       "244766        hays.co.uk  \n",
       "244767        hays.co.uk  \n",
       "\n",
       "[244768 rows x 12 columns]"
      ]
     },
     "execution_count": 219,
     "metadata": {},
     "output_type": "execute_result"
    }
   ],
   "source": [
    "data = pd.read_csv('train.csv')\n",
    "\n",
    "data"
   ]
  },
  {
   "cell_type": "code",
   "execution_count": 220,
   "id": "cfc61bdc-3688-4cb2-8f9e-132910be6e0c",
   "metadata": {},
   "outputs": [
    {
     "data": {
      "image/png": "[encoded data removed]",
      "text/plain": [
       "<Figure size 576x288 with 2 Axes>"
      ]
     },
     "metadata": {
      "needs_background": "light"
     },
     "output_type": "display_data"
    }
   ],
   "source": [
    "data['Log1pSalary'] = np.log1p(data['SalaryNormalized']).astype('float32')\n",
    "\n",
    "plt.figure(figsize=[8, 4])\n",
    "plt.subplot(1, 2, 1)\n",
    "plt.hist(data[\"SalaryNormalized\"], bins=20);\n",
    "\n",
    "plt.subplot(1, 2, 2)\n",
    "plt.hist(data['Log1pSalary'], bins=20);"
   ]
  },
  {
   "cell_type": "code",
   "execution_count": 221,
   "id": "fd1f92fa-b384-4497-98e8-54e8d1702cb1",
   "metadata": {},
   "outputs": [],
   "source": [
    "data.drop(columns=['Title', 'FullDescription', 'LocationRaw', 'SalaryRaw', 'SourceName', 'SalaryNormalized', 'Id'], inplace=True)"
   ]
  },
  {
   "cell_type": "code",
   "execution_count": 222,
   "id": "6e9dad4c-b7dc-43b8-9cd6-7e90e29e5e44",
   "metadata": {},
   "outputs": [],
   "source": [
    "data.fillna('Other', inplace=True)"
   ]
  },
  {
   "cell_type": "code",
   "execution_count": 223,
   "id": "23f09dac-8eea-4088-bc37-f2676e327177",
   "metadata": {},
   "outputs": [],
   "source": [
    "data.LocationNormalized = data.LocationNormalized.str.replace('NaN','Other')\n",
    "data.ContractType = data.ContractType.str.replace('NaN','Other')\n",
    "data.ContractTime = data.ContractTime.str.replace('NaN','Other')\n",
    "data.Company = data.Company.str.replace('NaN','Other')\n",
    "data.Category = data.Category.str.replace('NaN','Other')"
   ]
  },
  {
   "cell_type": "code",
   "execution_count": 224,
   "id": "5b55a29b-29c6-434d-b2dc-bbf71d447666",
   "metadata": {},
   "outputs": [],
   "source": [
    "from collections import Counter\n",
    "\n",
    "top_LocationNormalized = set(list(zip(*Counter(data.LocationNormalized).most_common(300)))[0])\n",
    "top_Company = set(list(zip(*Counter(data.Company).most_common(300)))[0]) \n",
    "\n",
    "data.LocationNormalized = data.LocationNormalized.apply(lambda x: x if x in top_LocationNormalized else 'Other')\n",
    "data.Company = data.Company.apply(lambda x: x if x in top_Company else 'Other')"
   ]
  },
  {
   "cell_type": "code",
   "execution_count": 225,
   "id": "98c071c5-b69e-4417-88d1-05ece5be285d",
   "metadata": {},
   "outputs": [
    {
     "name": "stdout",
     "output_type": "stream",
     "text": [
      "Train size =  195814\n",
      "Validation size =  48954\n"
     ]
    }
   ],
   "source": [
    "from sklearn.model_selection import train_test_split\n",
    "\n",
    "data_train, data_val = train_test_split(data, test_size=0.2, random_state=42)\n",
    "data_train.index     = range(len(data_train))\n",
    "data_val.index       = range(len(data_val))\n",
    "\n",
    "print(\"Train size = \", len(data_train))\n",
    "print(\"Validation size = \", len(data_val))"
   ]
  },
  {
   "cell_type": "code",
   "execution_count": 226,
   "id": "1987eb35-ae5b-44e7-9bcd-120869565f2a",
   "metadata": {},
   "outputs": [],
   "source": [
    "X_train, y_train = data_train.iloc[:, :-1], data_train.iloc[:, -1].values\n",
    "X_val, y_val     = data_val.iloc[:, :-1], data_val.iloc[:, -1].values"
   ]
  },
  {
   "cell_type": "code",
   "execution_count": 227,
   "id": "c69526d2-f84d-417b-a3c3-e865da6c985a",
   "metadata": {},
   "outputs": [
    {
     "data": {
      "text/plain": [
       "DictVectorizer(sparse=False)"
      ]
     },
     "execution_count": 227,
     "metadata": {},
     "output_type": "execute_result"
    }
   ],
   "source": [
    "from sklearn.feature_extraction import DictVectorizer\n",
    "\n",
    "vectorizer = DictVectorizer(sparse=False)\n",
    "\n",
    "vectorizer.fit(X_train.apply(dict, axis=1))"
   ]
  },
  {
   "cell_type": "code",
   "execution_count": 228,
   "id": "3c461197-d131-48a6-8e91-54ad0600a543",
   "metadata": {},
   "outputs": [],
   "source": [
    "X_train_transformed = vectorizer.transform(X_train.apply(dict, axis=1))\n",
    "X_val_transformed   = vectorizer.transform(X_val.apply(dict, axis=1))"
   ]
  },
  {
   "cell_type": "code",
   "execution_count": 229,
   "id": "74e0b07d-4650-40a9-bfef-ec38c72600db",
   "metadata": {},
   "outputs": [
    {
     "data": {
      "text/plain": [
       "LinearRegression()"
      ]
     },
     "execution_count": 229,
     "metadata": {},
     "output_type": "execute_result"
    }
   ],
   "source": [
    "from sklearn.linear_model import LinearRegression\n",
    "\n",
    "model = LinearRegression()\n",
    "\n",
    "model.fit(X_train_transformed, y_train)"
   ]
  },
  {
   "cell_type": "code",
   "execution_count": 230,
   "id": "cf452975-5372-451a-b239-cbce79baee73",
   "metadata": {},
   "outputs": [
    {
     "data": {
      "text/plain": [
       "0.3098743351406729"
      ]
     },
     "execution_count": 230,
     "metadata": {},
     "output_type": "execute_result"
    }
   ],
   "source": [
    "from sklearn.metrics import mean_absolute_error\n",
    "\n",
    "y_pred = model.predict(X_val_transformed)\n",
    "\n",
    "mean_absolute_error(y_pred, y_val)"
   ]
  },
  {
   "cell_type": "code",
   "execution_count": 231,
   "id": "85b319b8-ccad-4c64-85d0-3f58dc0ec136",
   "metadata": {},
   "outputs": [
    {
     "data": {
      "text/plain": [
       "DecisionTreeRegressor(max_depth=4)"
      ]
     },
     "execution_count": 231,
     "metadata": {},
     "output_type": "execute_result"
    }
   ],
   "source": [
    "from sklearn.tree import DecisionTreeRegressor\n",
    "\n",
    "tree = DecisionTreeRegressor(max_depth=4)\n",
    "\n",
    "tree.fit(X_train_transformed, y_train)"
   ]
  },
  {
   "cell_type": "code",
   "execution_count": 232,
   "id": "9c6fda76-0e10-48c0-81f1-dbce06f4fc79",
   "metadata": {},
   "outputs": [
    {
     "data": {
      "text/plain": [
       "0.354336557122589"
      ]
     },
     "execution_count": 232,
     "metadata": {},
     "output_type": "execute_result"
    }
   ],
   "source": [
    "y_pred = tree.predict(X_val_transformed)\n",
    "\n",
    "mean_absolute_error(y_pred, y_val)"
   ]
  }
 ],
 "metadata": {
  "kernelspec": {
   "display_name": "Python 3 (ipykernel)",
   "language": "python",
   "name": "python3"
  },
  "language_info": {
   "codemirror_mode": {
    "name": "ipython",
    "version": 3
   },
   "file_extension": ".py",
   "mimetype": "text/x-python",
   "name": "python",
   "nbconvert_exporter": "python",
   "pygments_lexer": "ipython3",
   "version": "3.9.7"
  }
 },
 "nbformat": 4,
 "nbformat_minor": 5
}
